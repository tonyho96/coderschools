{
 "cells": [
  {
   "cell_type": "markdown",
   "metadata": {
    "colab_type": "text",
    "id": "x7fdTGs4SnyS"
   },
   "source": [
    "![](https://i.imgur.com/0AUxkXt.png)"
   ]
  },
  {
   "cell_type": "markdown",
   "metadata": {
    "colab_type": "text",
    "id": "_uqy69P0Pm0L"
   },
   "source": [
    "# Lab 3 - From data to insights\n",
    "\n",
    "Before you explore the data, write down a short list of what you expect to see in the data: the distribution of key variables, the relationships between important pairs of them, and so on. Such a list is essentially a prediction based on your current understanding of the business.\n",
    "\n",
    "Now analyze the data. Make plots, do summaries, whatever is needed to see if it matches your expectations.\n",
    "\n",
    "Is there anything that doesn’t match? Anything that makes you go “That’s odd” or “That doesn’t make any sense.”?\n",
    "\n",
    "Zoom in and try to understand what in your business is making that weird thing show up in the data like that. This is the critical step.\n",
    "\n",
    "You may have just found an insight into the business and increased your understanding\n",
    "\n",
    "\n",
    "## The data analysis checklist\n",
    "\n",
    "This checklist can be used as a guide during the process of a data analysis, or as a way to evaluate the quality of a reported data analysis.\n",
    "\n",
    "### Answering the first questions\n",
    "\n",
    "1. Did you define the metric for success before beginning?\n",
    "2. Did you understand the context for the question and business application?\n",
    "3. Did you consider whether the question could be answered with the available data?\n",
    "\n",
    "### Cleaning the data\n",
    "\n",
    "1. Did you identify the missing data?\n",
    "2. Is each variable one column?\n",
    "3. Do different data types appear in each table?\n",
    "4. Did you try to identify any errors or miscoding of variables?\n",
    "5. Did you check for outliers?\n",
    "\n",
    "### Exploratory analysis\n",
    "\n",
    "1. Did you make univariate plots (histogram, distplot, boxplot)?\n",
    "2. Did you consider correlations between variables (scatterplot, jointplot, kde plot, correlation matrix)?\n",
    "3. Did you check the units of all data points to make sure they are in the right range?\n",
    "\n",
    "### Presentations\n",
    "\n",
    "1. Did you lead with a brief, understandable to everyone of your problem?\n",
    "2. Did you explain the data, describe the question of interest?\n",
    "3. Did you make sure all legends and axes were legible from the back of the room?"
   ]
  },
  {
   "cell_type": "markdown",
   "metadata": {
    "colab_type": "text",
    "id": "ZBc0glanPm0M"
   },
   "source": [
    "## Example - San Francisco city employee salary data\n",
    "\n",
    "One way to understand how a city government works is by looking at who it employs and how its employees are compensated. This data contains the names, job title, and compensation for San Francisco city employees on an annual basis from 2011 to 2014.\n",
    "\n",
    "\n",
    "### Step 1 - Exploration Ideas\n",
    "\n",
    "1. How have salaries changed over time between different groups of people?\n",
    "2. How are base pay, overtime pay, and benefits allocated between different groups?\n",
    "4. How is budget allocated based on different groups and responsibilities?\n",
    "\n",
    "### Step 2 - Checking the data\n",
    "\n",
    "**Import tools set**"
   ]
  },
  {
   "cell_type": "code",
   "execution_count": 0,
   "metadata": {
    "colab": {},
    "colab_type": "code",
    "id": "9Cx3LXxfPm0N"
   },
   "outputs": [],
   "source": [
    "import numpy as np\n",
    "import pandas as pd\n",
    "import seaborn as sns\n",
    "import matplotlib.pyplot as plt\n",
    "%matplotlib inline\n",
    "import warnings\n",
    "warnings.filterwarnings('ignore')\n",
    "\n",
    "sns.set_style(\"whitegrid\")"
   ]
  },
  {
   "cell_type": "markdown",
   "metadata": {
    "colab_type": "text",
    "id": "mFTQu0j6Pm0Q"
   },
   "source": [
    "**Import data**"
   ]
  },
  {
   "cell_type": "code",
   "execution_count": 2,
   "metadata": {
    "colab": {
     "base_uri": "https://localhost:8080/",
     "height": 124
    },
    "colab_type": "code",
    "executionInfo": {
     "elapsed": 21407,
     "status": "ok",
     "timestamp": 1557995783436,
     "user": {
      "displayName": "Hai Minh Do",
      "photoUrl": "https://lh6.googleusercontent.com/-ZUlR9wP4IpA/AAAAAAAAAAI/AAAAAAAAAAc/F2ZaIjf8WSY/s64/photo.jpg",
      "userId": "12822549848477954436"
     },
     "user_tz": -420
    },
    "id": "el89bMeBTApY",
    "outputId": "0ce4fb69-e900-44cf-86e7-a0f6c5e31e85"
   },
   "outputs": [
    {
     "name": "stdout",
     "output_type": "stream",
     "text": [
      "Go to this URL in a browser: https://accounts.google.com/o/oauth2/auth?client_id=947318989803-6bn6qk8qdgf4n4g3pfee6491hc0brc4i.apps.googleusercontent.com&redirect_uri=urn%3Aietf%3Awg%3Aoauth%3A2.0%3Aoob&scope=email%20https%3A%2F%2Fwww.googleapis.com%2Fauth%2Fdocs.test%20https%3A%2F%2Fwww.googleapis.com%2Fauth%2Fdrive%20https%3A%2F%2Fwww.googleapis.com%2Fauth%2Fdrive.photos.readonly%20https%3A%2F%2Fwww.googleapis.com%2Fauth%2Fpeopleapi.readonly&response_type=code\n",
      "\n",
      "Enter your authorization code:\n",
      "··········\n",
      "Mounted at /content/gdrive\n"
     ]
    }
   ],
   "source": [
    "from google.colab import drive\n",
    "drive.mount('/content/gdrive')"
   ]
  },
  {
   "cell_type": "code",
   "execution_count": 0,
   "metadata": {
    "colab": {},
    "colab_type": "code",
    "id": "w0YVchrVPm0R"
   },
   "outputs": [],
   "source": [
    "# Fill the blanks\n",
    "sal = pd.read_csv('gdrive/My Drive/CoderSchool-DAwP/Data/Salaries.csv')"
   ]
  },
  {
   "cell_type": "markdown",
   "metadata": {
    "colab_type": "text",
    "id": "6nU6CxSjPm0U"
   },
   "source": [
    "**Check out head(), sample(), info(), describe()**"
   ]
  },
  {
   "cell_type": "code",
   "execution_count": 4,
   "metadata": {
    "colab": {
     "base_uri": "https://localhost:8080/",
     "height": 477
    },
    "colab_type": "code",
    "executionInfo": {
     "elapsed": 920,
     "status": "ok",
     "timestamp": 1557995788206,
     "user": {
      "displayName": "Hai Minh Do",
      "photoUrl": "https://lh6.googleusercontent.com/-ZUlR9wP4IpA/AAAAAAAAAAI/AAAAAAAAAAc/F2ZaIjf8WSY/s64/photo.jpg",
      "userId": "12822549848477954436"
     },
     "user_tz": -420
    },
    "id": "v_BKYV2qPm0V",
    "outputId": "20b7fcfd-4555-4585-959a-f319aa62aed7"
   },
   "outputs": [
    {
     "data": {
      "text/html": [
       "<div>\n",
       "<style scoped>\n",
       "    .dataframe tbody tr th:only-of-type {\n",
       "        vertical-align: middle;\n",
       "    }\n",
       "\n",
       "    .dataframe tbody tr th {\n",
       "        vertical-align: top;\n",
       "    }\n",
       "\n",
       "    .dataframe thead th {\n",
       "        text-align: right;\n",
       "    }\n",
       "</style>\n",
       "<table border=\"1\" class=\"dataframe\">\n",
       "  <thead>\n",
       "    <tr style=\"text-align: right;\">\n",
       "      <th></th>\n",
       "      <th>Id</th>\n",
       "      <th>EmployeeName</th>\n",
       "      <th>JobTitle</th>\n",
       "      <th>BasePay</th>\n",
       "      <th>OvertimePay</th>\n",
       "      <th>OtherPay</th>\n",
       "      <th>Benefits</th>\n",
       "      <th>TotalPay</th>\n",
       "      <th>TotalPayBenefits</th>\n",
       "      <th>Year</th>\n",
       "      <th>Notes</th>\n",
       "      <th>Agency</th>\n",
       "      <th>Status</th>\n",
       "    </tr>\n",
       "  </thead>\n",
       "  <tbody>\n",
       "    <tr>\n",
       "      <th>0</th>\n",
       "      <td>1</td>\n",
       "      <td>NATHANIEL FORD</td>\n",
       "      <td>GENERAL MANAGER-METROPOLITAN TRANSIT AUTHORITY</td>\n",
       "      <td>167411.18</td>\n",
       "      <td>0.00</td>\n",
       "      <td>400184.25</td>\n",
       "      <td>NaN</td>\n",
       "      <td>567595.43</td>\n",
       "      <td>567595.43</td>\n",
       "      <td>2011</td>\n",
       "      <td>NaN</td>\n",
       "      <td>San Francisco</td>\n",
       "      <td>NaN</td>\n",
       "    </tr>\n",
       "    <tr>\n",
       "      <th>1</th>\n",
       "      <td>2</td>\n",
       "      <td>GARY JIMENEZ</td>\n",
       "      <td>CAPTAIN III (POLICE DEPARTMENT)</td>\n",
       "      <td>155966.02</td>\n",
       "      <td>245131.88</td>\n",
       "      <td>137811.38</td>\n",
       "      <td>NaN</td>\n",
       "      <td>538909.28</td>\n",
       "      <td>538909.28</td>\n",
       "      <td>2011</td>\n",
       "      <td>NaN</td>\n",
       "      <td>San Francisco</td>\n",
       "      <td>NaN</td>\n",
       "    </tr>\n",
       "    <tr>\n",
       "      <th>2</th>\n",
       "      <td>3</td>\n",
       "      <td>ALBERT PARDINI</td>\n",
       "      <td>CAPTAIN III (POLICE DEPARTMENT)</td>\n",
       "      <td>212739.13</td>\n",
       "      <td>106088.18</td>\n",
       "      <td>16452.60</td>\n",
       "      <td>NaN</td>\n",
       "      <td>335279.91</td>\n",
       "      <td>335279.91</td>\n",
       "      <td>2011</td>\n",
       "      <td>NaN</td>\n",
       "      <td>San Francisco</td>\n",
       "      <td>NaN</td>\n",
       "    </tr>\n",
       "    <tr>\n",
       "      <th>3</th>\n",
       "      <td>4</td>\n",
       "      <td>CHRISTOPHER CHONG</td>\n",
       "      <td>WIRE ROPE CABLE MAINTENANCE MECHANIC</td>\n",
       "      <td>77916.00</td>\n",
       "      <td>56120.71</td>\n",
       "      <td>198306.90</td>\n",
       "      <td>NaN</td>\n",
       "      <td>332343.61</td>\n",
       "      <td>332343.61</td>\n",
       "      <td>2011</td>\n",
       "      <td>NaN</td>\n",
       "      <td>San Francisco</td>\n",
       "      <td>NaN</td>\n",
       "    </tr>\n",
       "    <tr>\n",
       "      <th>4</th>\n",
       "      <td>5</td>\n",
       "      <td>PATRICK GARDNER</td>\n",
       "      <td>DEPUTY CHIEF OF DEPARTMENT,(FIRE DEPARTMENT)</td>\n",
       "      <td>134401.60</td>\n",
       "      <td>9737.00</td>\n",
       "      <td>182234.59</td>\n",
       "      <td>NaN</td>\n",
       "      <td>326373.19</td>\n",
       "      <td>326373.19</td>\n",
       "      <td>2011</td>\n",
       "      <td>NaN</td>\n",
       "      <td>San Francisco</td>\n",
       "      <td>NaN</td>\n",
       "    </tr>\n",
       "  </tbody>\n",
       "</table>\n",
       "</div>"
      ],
      "text/plain": [
       "   Id       EmployeeName  ...         Agency  Status\n",
       "0   1     NATHANIEL FORD  ...  San Francisco     NaN\n",
       "1   2       GARY JIMENEZ  ...  San Francisco     NaN\n",
       "2   3     ALBERT PARDINI  ...  San Francisco     NaN\n",
       "3   4  CHRISTOPHER CHONG  ...  San Francisco     NaN\n",
       "4   5    PATRICK GARDNER  ...  San Francisco     NaN\n",
       "\n",
       "[5 rows x 13 columns]"
      ]
     },
     "execution_count": 4,
     "metadata": {
      "tags": []
     },
     "output_type": "execute_result"
    }
   ],
   "source": [
    "# Fix the error\n",
    "sal.head()"
   ]
  },
  {
   "cell_type": "code",
   "execution_count": 5,
   "metadata": {
    "colab": {
     "base_uri": "https://localhost:8080/",
     "height": 305
    },
    "colab_type": "code",
    "executionInfo": {
     "elapsed": 489,
     "status": "ok",
     "timestamp": 1557995789412,
     "user": {
      "displayName": "Hai Minh Do",
      "photoUrl": "https://lh6.googleusercontent.com/-ZUlR9wP4IpA/AAAAAAAAAAI/AAAAAAAAAAc/F2ZaIjf8WSY/s64/photo.jpg",
      "userId": "12822549848477954436"
     },
     "user_tz": -420
    },
    "id": "OjLrS9wlPm0a",
    "outputId": "365f5c0a-898b-41de-cd0d-414cd022a4da"
   },
   "outputs": [
    {
     "data": {
      "text/html": [
       "<div>\n",
       "<style scoped>\n",
       "    .dataframe tbody tr th:only-of-type {\n",
       "        vertical-align: middle;\n",
       "    }\n",
       "\n",
       "    .dataframe tbody tr th {\n",
       "        vertical-align: top;\n",
       "    }\n",
       "\n",
       "    .dataframe thead th {\n",
       "        text-align: right;\n",
       "    }\n",
       "</style>\n",
       "<table border=\"1\" class=\"dataframe\">\n",
       "  <thead>\n",
       "    <tr style=\"text-align: right;\">\n",
       "      <th></th>\n",
       "      <th>Id</th>\n",
       "      <th>EmployeeName</th>\n",
       "      <th>JobTitle</th>\n",
       "      <th>BasePay</th>\n",
       "      <th>OvertimePay</th>\n",
       "      <th>OtherPay</th>\n",
       "      <th>Benefits</th>\n",
       "      <th>TotalPay</th>\n",
       "      <th>TotalPayBenefits</th>\n",
       "      <th>Year</th>\n",
       "      <th>Notes</th>\n",
       "      <th>Agency</th>\n",
       "      <th>Status</th>\n",
       "    </tr>\n",
       "  </thead>\n",
       "  <tbody>\n",
       "    <tr>\n",
       "      <th>3077</th>\n",
       "      <td>3078</td>\n",
       "      <td>LIZA FERNANDEZ</td>\n",
       "      <td>REGISTERED NURSE</td>\n",
       "      <td>125885.10</td>\n",
       "      <td>4604.39</td>\n",
       "      <td>9586.85</td>\n",
       "      <td>NaN</td>\n",
       "      <td>140076.34</td>\n",
       "      <td>140076.34</td>\n",
       "      <td>2011</td>\n",
       "      <td>NaN</td>\n",
       "      <td>San Francisco</td>\n",
       "      <td>NaN</td>\n",
       "    </tr>\n",
       "    <tr>\n",
       "      <th>117812</th>\n",
       "      <td>117813</td>\n",
       "      <td>Stella Marie H Santos</td>\n",
       "      <td>Registered Nurse</td>\n",
       "      <td>108432.29</td>\n",
       "      <td>6695.48</td>\n",
       "      <td>5245.07</td>\n",
       "      <td>37858.47</td>\n",
       "      <td>120372.84</td>\n",
       "      <td>158231.31</td>\n",
       "      <td>2014</td>\n",
       "      <td>NaN</td>\n",
       "      <td>San Francisco</td>\n",
       "      <td>NaN</td>\n",
       "    </tr>\n",
       "    <tr>\n",
       "      <th>3434</th>\n",
       "      <td>3435</td>\n",
       "      <td>RONIE TATAD</td>\n",
       "      <td>REGISTERED NURSE</td>\n",
       "      <td>108045.95</td>\n",
       "      <td>4669.92</td>\n",
       "      <td>23682.30</td>\n",
       "      <td>NaN</td>\n",
       "      <td>136398.17</td>\n",
       "      <td>136398.17</td>\n",
       "      <td>2011</td>\n",
       "      <td>NaN</td>\n",
       "      <td>San Francisco</td>\n",
       "      <td>NaN</td>\n",
       "    </tr>\n",
       "    <tr>\n",
       "      <th>36954</th>\n",
       "      <td>36955</td>\n",
       "      <td>Steven Miller</td>\n",
       "      <td>Firefighter</td>\n",
       "      <td>110847.13</td>\n",
       "      <td>67848.40</td>\n",
       "      <td>15490.64</td>\n",
       "      <td>39119.20</td>\n",
       "      <td>194186.17</td>\n",
       "      <td>233305.37</td>\n",
       "      <td>2012</td>\n",
       "      <td>NaN</td>\n",
       "      <td>San Francisco</td>\n",
       "      <td>NaN</td>\n",
       "    </tr>\n",
       "    <tr>\n",
       "      <th>24066</th>\n",
       "      <td>24067</td>\n",
       "      <td>MARCUS EDWARDS</td>\n",
       "      <td>PORTER</td>\n",
       "      <td>46027.53</td>\n",
       "      <td>5183.62</td>\n",
       "      <td>782.00</td>\n",
       "      <td>NaN</td>\n",
       "      <td>51993.15</td>\n",
       "      <td>51993.15</td>\n",
       "      <td>2011</td>\n",
       "      <td>NaN</td>\n",
       "      <td>San Francisco</td>\n",
       "      <td>NaN</td>\n",
       "    </tr>\n",
       "  </tbody>\n",
       "</table>\n",
       "</div>"
      ],
      "text/plain": [
       "            Id           EmployeeName  ...         Agency  Status\n",
       "3077      3078         LIZA FERNANDEZ  ...  San Francisco     NaN\n",
       "117812  117813  Stella Marie H Santos  ...  San Francisco     NaN\n",
       "3434      3435            RONIE TATAD  ...  San Francisco     NaN\n",
       "36954    36955          Steven Miller  ...  San Francisco     NaN\n",
       "24066    24067         MARCUS EDWARDS  ...  San Francisco     NaN\n",
       "\n",
       "[5 rows x 13 columns]"
      ]
     },
     "execution_count": 5,
     "metadata": {
      "tags": []
     },
     "output_type": "execute_result"
    }
   ],
   "source": [
    "# Fix the error\n",
    "sal.sample(5)"
   ]
  },
  {
   "cell_type": "code",
   "execution_count": 6,
   "metadata": {
    "colab": {
     "base_uri": "https://localhost:8080/",
     "height": 328
    },
    "colab_type": "code",
    "executionInfo": {
     "elapsed": 848,
     "status": "ok",
     "timestamp": 1557995791117,
     "user": {
      "displayName": "Hai Minh Do",
      "photoUrl": "https://lh6.googleusercontent.com/-ZUlR9wP4IpA/AAAAAAAAAAI/AAAAAAAAAAc/F2ZaIjf8WSY/s64/photo.jpg",
      "userId": "12822549848477954436"
     },
     "user_tz": -420
    },
    "id": "AQ25O59kPm0d",
    "outputId": "3bc5a268-698f-46ce-a658-a4187087eb98"
   },
   "outputs": [
    {
     "name": "stdout",
     "output_type": "stream",
     "text": [
      "<class 'pandas.core.frame.DataFrame'>\n",
      "RangeIndex: 148654 entries, 0 to 148653\n",
      "Data columns (total 13 columns):\n",
      "Id                  148654 non-null int64\n",
      "EmployeeName        148654 non-null object\n",
      "JobTitle            148654 non-null object\n",
      "BasePay             148045 non-null float64\n",
      "OvertimePay         148650 non-null float64\n",
      "OtherPay            148650 non-null float64\n",
      "Benefits            112491 non-null float64\n",
      "TotalPay            148654 non-null float64\n",
      "TotalPayBenefits    148654 non-null float64\n",
      "Year                148654 non-null int64\n",
      "Notes               0 non-null float64\n",
      "Agency              148654 non-null object\n",
      "Status              0 non-null float64\n",
      "dtypes: float64(8), int64(2), object(3)\n",
      "memory usage: 14.7+ MB\n"
     ]
    }
   ],
   "source": [
    "# Fix the error\n",
    "sal.info()"
   ]
  },
  {
   "cell_type": "code",
   "execution_count": 7,
   "metadata": {
    "colab": {
     "base_uri": "https://localhost:8080/",
     "height": 308
    },
    "colab_type": "code",
    "executionInfo": {
     "elapsed": 969,
     "status": "ok",
     "timestamp": 1557995791544,
     "user": {
      "displayName": "Hai Minh Do",
      "photoUrl": "https://lh6.googleusercontent.com/-ZUlR9wP4IpA/AAAAAAAAAAI/AAAAAAAAAAc/F2ZaIjf8WSY/s64/photo.jpg",
      "userId": "12822549848477954436"
     },
     "user_tz": -420
    },
    "id": "oL4V7oDyPm0h",
    "outputId": "c207e33b-c004-4713-8b02-546a7f087c7f"
   },
   "outputs": [
    {
     "data": {
      "text/html": [
       "<div>\n",
       "<style scoped>\n",
       "    .dataframe tbody tr th:only-of-type {\n",
       "        vertical-align: middle;\n",
       "    }\n",
       "\n",
       "    .dataframe tbody tr th {\n",
       "        vertical-align: top;\n",
       "    }\n",
       "\n",
       "    .dataframe thead th {\n",
       "        text-align: right;\n",
       "    }\n",
       "</style>\n",
       "<table border=\"1\" class=\"dataframe\">\n",
       "  <thead>\n",
       "    <tr style=\"text-align: right;\">\n",
       "      <th></th>\n",
       "      <th>Id</th>\n",
       "      <th>BasePay</th>\n",
       "      <th>OvertimePay</th>\n",
       "      <th>OtherPay</th>\n",
       "      <th>Benefits</th>\n",
       "      <th>TotalPay</th>\n",
       "      <th>TotalPayBenefits</th>\n",
       "      <th>Year</th>\n",
       "      <th>Notes</th>\n",
       "      <th>Status</th>\n",
       "    </tr>\n",
       "  </thead>\n",
       "  <tbody>\n",
       "    <tr>\n",
       "      <th>count</th>\n",
       "      <td>148654.000000</td>\n",
       "      <td>148045.000000</td>\n",
       "      <td>148650.000000</td>\n",
       "      <td>148650.000000</td>\n",
       "      <td>112491.000000</td>\n",
       "      <td>148654.000000</td>\n",
       "      <td>148654.000000</td>\n",
       "      <td>148654.000000</td>\n",
       "      <td>0.0</td>\n",
       "      <td>0.0</td>\n",
       "    </tr>\n",
       "    <tr>\n",
       "      <th>mean</th>\n",
       "      <td>74327.500000</td>\n",
       "      <td>66325.448841</td>\n",
       "      <td>5066.059886</td>\n",
       "      <td>3648.767297</td>\n",
       "      <td>25007.893151</td>\n",
       "      <td>74768.321972</td>\n",
       "      <td>93692.554811</td>\n",
       "      <td>2012.522643</td>\n",
       "      <td>NaN</td>\n",
       "      <td>NaN</td>\n",
       "    </tr>\n",
       "    <tr>\n",
       "      <th>std</th>\n",
       "      <td>42912.857795</td>\n",
       "      <td>42764.635495</td>\n",
       "      <td>11454.380559</td>\n",
       "      <td>8056.601866</td>\n",
       "      <td>15402.215858</td>\n",
       "      <td>50517.005274</td>\n",
       "      <td>62793.533483</td>\n",
       "      <td>1.117538</td>\n",
       "      <td>NaN</td>\n",
       "      <td>NaN</td>\n",
       "    </tr>\n",
       "    <tr>\n",
       "      <th>min</th>\n",
       "      <td>1.000000</td>\n",
       "      <td>-166.010000</td>\n",
       "      <td>-0.010000</td>\n",
       "      <td>-7058.590000</td>\n",
       "      <td>-33.890000</td>\n",
       "      <td>-618.130000</td>\n",
       "      <td>-618.130000</td>\n",
       "      <td>2011.000000</td>\n",
       "      <td>NaN</td>\n",
       "      <td>NaN</td>\n",
       "    </tr>\n",
       "    <tr>\n",
       "      <th>25%</th>\n",
       "      <td>37164.250000</td>\n",
       "      <td>33588.200000</td>\n",
       "      <td>0.000000</td>\n",
       "      <td>0.000000</td>\n",
       "      <td>11535.395000</td>\n",
       "      <td>36168.995000</td>\n",
       "      <td>44065.650000</td>\n",
       "      <td>2012.000000</td>\n",
       "      <td>NaN</td>\n",
       "      <td>NaN</td>\n",
       "    </tr>\n",
       "    <tr>\n",
       "      <th>50%</th>\n",
       "      <td>74327.500000</td>\n",
       "      <td>65007.450000</td>\n",
       "      <td>0.000000</td>\n",
       "      <td>811.270000</td>\n",
       "      <td>28628.620000</td>\n",
       "      <td>71426.610000</td>\n",
       "      <td>92404.090000</td>\n",
       "      <td>2013.000000</td>\n",
       "      <td>NaN</td>\n",
       "      <td>NaN</td>\n",
       "    </tr>\n",
       "    <tr>\n",
       "      <th>75%</th>\n",
       "      <td>111490.750000</td>\n",
       "      <td>94691.050000</td>\n",
       "      <td>4658.175000</td>\n",
       "      <td>4236.065000</td>\n",
       "      <td>35566.855000</td>\n",
       "      <td>105839.135000</td>\n",
       "      <td>132876.450000</td>\n",
       "      <td>2014.000000</td>\n",
       "      <td>NaN</td>\n",
       "      <td>NaN</td>\n",
       "    </tr>\n",
       "    <tr>\n",
       "      <th>max</th>\n",
       "      <td>148654.000000</td>\n",
       "      <td>319275.010000</td>\n",
       "      <td>245131.880000</td>\n",
       "      <td>400184.250000</td>\n",
       "      <td>96570.660000</td>\n",
       "      <td>567595.430000</td>\n",
       "      <td>567595.430000</td>\n",
       "      <td>2014.000000</td>\n",
       "      <td>NaN</td>\n",
       "      <td>NaN</td>\n",
       "    </tr>\n",
       "  </tbody>\n",
       "</table>\n",
       "</div>"
      ],
      "text/plain": [
       "                  Id        BasePay  ...  Notes  Status\n",
       "count  148654.000000  148045.000000  ...    0.0     0.0\n",
       "mean    74327.500000   66325.448841  ...    NaN     NaN\n",
       "std     42912.857795   42764.635495  ...    NaN     NaN\n",
       "min         1.000000    -166.010000  ...    NaN     NaN\n",
       "25%     37164.250000   33588.200000  ...    NaN     NaN\n",
       "50%     74327.500000   65007.450000  ...    NaN     NaN\n",
       "75%    111490.750000   94691.050000  ...    NaN     NaN\n",
       "max    148654.000000  319275.010000  ...    NaN     NaN\n",
       "\n",
       "[8 rows x 10 columns]"
      ]
     },
     "execution_count": 7,
     "metadata": {
      "tags": []
     },
     "output_type": "execute_result"
    }
   ],
   "source": [
    "# Fix the error\n",
    "sal.describe()"
   ]
  },
  {
   "cell_type": "markdown",
   "metadata": {
    "colab_type": "text",
    "id": "wY6yv3UsPm0k"
   },
   "source": [
    "### Step 3 - Cleaning the data\n",
    "\n",
    "Few of useful data cleaning functions:\n",
    "\n",
    "* `s.astype('category')` # This will convert the datatype of the series to float *Please note that \"s\" here is a Pandas Series\n",
    "\n",
    "* `s.replace(1,'one')` # This will replace all values equal to 1 with 'one'\n",
    "\n",
    "* `s.replace([1,3],['one','three'])` # This will replace all 1 with 'one' and 3 with 'three'\n",
    "\n",
    "* `data.rename(columns=lambda x: x + 1)` # Mass renaming of columns\n",
    "\n",
    "* `data.rename(columns={'oldname': 'new name'})` # Selective renaming\n",
    "\n",
    "* `data.set_index('column_one')` #  This will change the index\n",
    "\n",
    "* `data.rename(index=lambda x: x + 1)` # Mass renaming of index\n",
    "\n",
    "* `data.dropna()` # Remove missing values\n",
    "\n",
    "* `data.fillna(x)` #  This will replaces all null values with x\n",
    "\n",
    "* `s.fillna(s.mean())` # This will replace all null values with the mean (mean can be replaced with almost any function from the below section) :\n",
    "\n",
    "* `data.corr()` # This will return the correlation between columns in a DataFrame\n",
    "\n",
    "* `data.count()` # This will return the number of non-null values in each DataFrame column\n",
    "\n",
    "* `data.max()` # This will return the highest value in each column\n",
    "\n",
    "* `data.min()` # This will return the lowest value in each column\n",
    "\n",
    "* `data.median()` # This will return the median of each column\n",
    "\n",
    "* `data.std()` # This will returns the standard deviation of each column\n"
   ]
  },
  {
   "cell_type": "markdown",
   "metadata": {
    "colab_type": "text",
    "id": "e5NuNcPscq9x"
   },
   "source": [
    "**Check duplication in columns in which the data must be unique**"
   ]
  },
  {
   "cell_type": "code",
   "execution_count": 8,
   "metadata": {
    "colab": {
     "base_uri": "https://localhost:8080/",
     "height": 35
    },
    "colab_type": "code",
    "executionInfo": {
     "elapsed": 1087,
     "status": "ok",
     "timestamp": 1557995793108,
     "user": {
      "displayName": "Hai Minh Do",
      "photoUrl": "https://lh6.googleusercontent.com/-ZUlR9wP4IpA/AAAAAAAAAAI/AAAAAAAAAAc/F2ZaIjf8WSY/s64/photo.jpg",
      "userId": "12822549848477954436"
     },
     "user_tz": -420
    },
    "id": "GPIDpsygPm0l",
    "outputId": "54dbb010-2978-4f56-8b73-d86f1c348dbe"
   },
   "outputs": [
    {
     "data": {
      "text/plain": [
       "True"
      ]
     },
     "execution_count": 8,
     "metadata": {
      "tags": []
     },
     "output_type": "execute_result"
    }
   ],
   "source": [
    "# Id must be unique\n",
    "# So the number of unique values must be equal the number of rows\n",
    "# Fill the blanks\n",
    "sal['Id'].nunique() == sal['Id'].count()"
   ]
  },
  {
   "cell_type": "markdown",
   "metadata": {
    "colab_type": "text",
    "id": "1cmMLYR5fsGl"
   },
   "source": [
    "**Change the type to category**"
   ]
  },
  {
   "cell_type": "code",
   "execution_count": 0,
   "metadata": {
    "colab": {},
    "colab_type": "code",
    "id": "LtaeNb4yPm0p"
   },
   "outputs": [],
   "source": [
    "sal['Id'] = sal['Id'].astype('category')\n",
    "\n",
    "# Change Year to be a categorical variable too\n",
    "# Your code here\n",
    "sal['Year'] = sal['Year'].astype('category')\n"
   ]
  },
  {
   "cell_type": "markdown",
   "metadata": {
    "colab_type": "text",
    "id": "VSVoX1K3Pm0s"
   },
   "source": [
    "**Drop unnecessary columns**"
   ]
  },
  {
   "cell_type": "code",
   "execution_count": 0,
   "metadata": {
    "colab": {},
    "colab_type": "code",
    "id": "RHV8TMa1Pm0t"
   },
   "outputs": [],
   "source": [
    "# Look at the info() again, which columns you can drop immediately?\n",
    "# Fill the blanks\n",
    "sal.drop(columns=['Notes', 'Status'], inplace=True)"
   ]
  },
  {
   "cell_type": "code",
   "execution_count": 0,
   "metadata": {
    "colab": {},
    "colab_type": "code",
    "id": "xCvrYvQMPm0w"
   },
   "outputs": [],
   "source": [
    "# Are there any other columns that don't bring us much information?\n",
    "# Drop them coldbloodedly\n",
    "# Your code here\n",
    "sal.drop(columns=['Agency'], inplace=True)"
   ]
  },
  {
   "cell_type": "markdown",
   "metadata": {
    "colab_type": "text",
    "id": "VQahMsbheuOM"
   },
   "source": []
  },
  {
   "cell_type": "code",
   "execution_count": 12,
   "metadata": {
    "colab": {
     "base_uri": "https://localhost:8080/",
     "height": 276
    },
    "colab_type": "code",
    "executionInfo": {
     "elapsed": 1249,
     "status": "ok",
     "timestamp": 1557995795213,
     "user": {
      "displayName": "Hai Minh Do",
      "photoUrl": "https://lh6.googleusercontent.com/-ZUlR9wP4IpA/AAAAAAAAAAI/AAAAAAAAAAc/F2ZaIjf8WSY/s64/photo.jpg",
      "userId": "12822549848477954436"
     },
     "user_tz": -420
    },
    "id": "-Aykt_CoPm02",
    "outputId": "67f1f2cb-32ac-4eb3-a7da-e9cf315e6a36"
   },
   "outputs": [
    {
     "name": "stdout",
     "output_type": "stream",
     "text": [
      "<class 'pandas.core.frame.DataFrame'>\n",
      "RangeIndex: 148654 entries, 0 to 148653\n",
      "Data columns (total 10 columns):\n",
      "Id                  148654 non-null category\n",
      "EmployeeName        148654 non-null object\n",
      "JobTitle            148654 non-null object\n",
      "BasePay             148045 non-null float64\n",
      "OvertimePay         148650 non-null float64\n",
      "OtherPay            148650 non-null float64\n",
      "Benefits            112491 non-null float64\n",
      "TotalPay            148654 non-null float64\n",
      "TotalPayBenefits    148654 non-null float64\n",
      "Year                148654 non-null category\n",
      "dtypes: category(2), float64(6), object(2)\n",
      "memory usage: 15.9+ MB\n"
     ]
    }
   ],
   "source": [
    "# Check again with info()\n",
    "# Your code here\n",
    "sal.info()"
   ]
  },
  {
   "cell_type": "markdown",
   "metadata": {
    "colab_type": "text",
    "id": "rcNsGWarPm06"
   },
   "source": [
    "**Check for NaN values**"
   ]
  },
  {
   "cell_type": "code",
   "execution_count": 13,
   "metadata": {
    "colab": {
     "base_uri": "https://localhost:8080/",
     "height": 207
    },
    "colab_type": "code",
    "executionInfo": {
     "elapsed": 1130,
     "status": "ok",
     "timestamp": 1557995797067,
     "user": {
      "displayName": "Hai Minh Do",
      "photoUrl": "https://lh6.googleusercontent.com/-ZUlR9wP4IpA/AAAAAAAAAAI/AAAAAAAAAAc/F2ZaIjf8WSY/s64/photo.jpg",
      "userId": "12822549848477954436"
     },
     "user_tz": -420
    },
    "id": "TqLxHGy2Pm06",
    "outputId": "d0c1ec69-4075-4756-9a6c-50cfee5ae958"
   },
   "outputs": [
    {
     "data": {
      "text/plain": [
       "Id                      0\n",
       "EmployeeName            0\n",
       "JobTitle                0\n",
       "BasePay               609\n",
       "OvertimePay             4\n",
       "OtherPay                4\n",
       "Benefits            36163\n",
       "TotalPay                0\n",
       "TotalPayBenefits        0\n",
       "Year                    0\n",
       "dtype: int64"
      ]
     },
     "execution_count": 13,
     "metadata": {
      "tags": []
     },
     "output_type": "execute_result"
    }
   ],
   "source": [
    "# Fill the blank\n",
    "sal.isnull().sum()"
   ]
  },
  {
   "cell_type": "markdown",
   "metadata": {
    "colab_type": "text",
    "id": "RdhPk_x1Pm0-"
   },
   "source": [
    "**Examine few examples of NaN values**"
   ]
  },
  {
   "cell_type": "code",
   "execution_count": 14,
   "metadata": {
    "colab": {
     "base_uri": "https://localhost:8080/",
     "height": 257
    },
    "colab_type": "code",
    "executionInfo": {
     "elapsed": 757,
     "status": "ok",
     "timestamp": 1557995797068,
     "user": {
      "displayName": "Hai Minh Do",
      "photoUrl": "https://lh6.googleusercontent.com/-ZUlR9wP4IpA/AAAAAAAAAAI/AAAAAAAAAAc/F2ZaIjf8WSY/s64/photo.jpg",
      "userId": "12822549848477954436"
     },
     "user_tz": -420
    },
    "id": "3kGYpbdOPm0-",
    "outputId": "ef0894f8-5dce-4b92-f620-8c4089369942"
   },
   "outputs": [
    {
     "data": {
      "text/html": [
       "<div>\n",
       "<style scoped>\n",
       "    .dataframe tbody tr th:only-of-type {\n",
       "        vertical-align: middle;\n",
       "    }\n",
       "\n",
       "    .dataframe tbody tr th {\n",
       "        vertical-align: top;\n",
       "    }\n",
       "\n",
       "    .dataframe thead th {\n",
       "        text-align: right;\n",
       "    }\n",
       "</style>\n",
       "<table border=\"1\" class=\"dataframe\">\n",
       "  <thead>\n",
       "    <tr style=\"text-align: right;\">\n",
       "      <th></th>\n",
       "      <th>Id</th>\n",
       "      <th>EmployeeName</th>\n",
       "      <th>JobTitle</th>\n",
       "      <th>BasePay</th>\n",
       "      <th>OvertimePay</th>\n",
       "      <th>OtherPay</th>\n",
       "      <th>Benefits</th>\n",
       "      <th>TotalPay</th>\n",
       "      <th>TotalPayBenefits</th>\n",
       "      <th>Year</th>\n",
       "    </tr>\n",
       "  </thead>\n",
       "  <tbody>\n",
       "    <tr>\n",
       "      <th>148646</th>\n",
       "      <td>148647</td>\n",
       "      <td>Not provided</td>\n",
       "      <td>Not provided</td>\n",
       "      <td>NaN</td>\n",
       "      <td>NaN</td>\n",
       "      <td>NaN</td>\n",
       "      <td>NaN</td>\n",
       "      <td>0.0</td>\n",
       "      <td>0.0</td>\n",
       "      <td>2014</td>\n",
       "    </tr>\n",
       "    <tr>\n",
       "      <th>148650</th>\n",
       "      <td>148651</td>\n",
       "      <td>Not provided</td>\n",
       "      <td>Not provided</td>\n",
       "      <td>NaN</td>\n",
       "      <td>NaN</td>\n",
       "      <td>NaN</td>\n",
       "      <td>NaN</td>\n",
       "      <td>0.0</td>\n",
       "      <td>0.0</td>\n",
       "      <td>2014</td>\n",
       "    </tr>\n",
       "    <tr>\n",
       "      <th>148651</th>\n",
       "      <td>148652</td>\n",
       "      <td>Not provided</td>\n",
       "      <td>Not provided</td>\n",
       "      <td>NaN</td>\n",
       "      <td>NaN</td>\n",
       "      <td>NaN</td>\n",
       "      <td>NaN</td>\n",
       "      <td>0.0</td>\n",
       "      <td>0.0</td>\n",
       "      <td>2014</td>\n",
       "    </tr>\n",
       "    <tr>\n",
       "      <th>148652</th>\n",
       "      <td>148653</td>\n",
       "      <td>Not provided</td>\n",
       "      <td>Not provided</td>\n",
       "      <td>NaN</td>\n",
       "      <td>NaN</td>\n",
       "      <td>NaN</td>\n",
       "      <td>NaN</td>\n",
       "      <td>0.0</td>\n",
       "      <td>0.0</td>\n",
       "      <td>2014</td>\n",
       "    </tr>\n",
       "  </tbody>\n",
       "</table>\n",
       "</div>"
      ],
      "text/plain": [
       "            Id  EmployeeName      JobTitle  ...  TotalPay  TotalPayBenefits  Year\n",
       "148646  148647  Not provided  Not provided  ...       0.0               0.0  2014\n",
       "148650  148651  Not provided  Not provided  ...       0.0               0.0  2014\n",
       "148651  148652  Not provided  Not provided  ...       0.0               0.0  2014\n",
       "148652  148653  Not provided  Not provided  ...       0.0               0.0  2014\n",
       "\n",
       "[4 rows x 10 columns]"
      ]
     },
     "execution_count": 14,
     "metadata": {
      "tags": []
     },
     "output_type": "execute_result"
    }
   ],
   "source": [
    "# List all NaN values of OtherPay\n",
    "# Fill the blanks\n",
    "sal[sal['OtherPay'].isnull()]"
   ]
  },
  {
   "cell_type": "markdown",
   "metadata": {
    "colab_type": "text",
    "id": "pNv3autOjiFj"
   },
   "source": [
    "**Drop missing values of OtherPay and OvertimePay**"
   ]
  },
  {
   "cell_type": "code",
   "execution_count": 0,
   "metadata": {
    "colab": {},
    "colab_type": "code",
    "id": "ZDgbdnlhPm1C"
   },
   "outputs": [],
   "source": [
    "# Option 1\n",
    "# sal.drop(labels=[148646, 148650, 148651, 148652], axis=0)\n",
    "\n",
    "# Something cooler\n",
    "# Solution: Select data that OtherPay is not null and assign it to the dataframe 'sal'\n",
    "# Your code here\n",
    "# sal = sal[~sal['OtherPay'].isnull()]\n",
    "sal = sal[sal['OtherPay'].notnull()]"
   ]
  },
  {
   "cell_type": "markdown",
   "metadata": {
    "colab_type": "text",
    "id": "E8C8-rJ6kb5A"
   },
   "source": [
    "**Analize missing values of BasePay and Benefits**"
   ]
  },
  {
   "cell_type": "code",
   "execution_count": 16,
   "metadata": {
    "colab": {
     "base_uri": "https://localhost:8080/",
     "height": 339
    },
    "colab_type": "code",
    "executionInfo": {
     "elapsed": 500,
     "status": "ok",
     "timestamp": 1557995800034,
     "user": {
      "displayName": "Hai Minh Do",
      "photoUrl": "https://lh6.googleusercontent.com/-ZUlR9wP4IpA/AAAAAAAAAAI/AAAAAAAAAAc/F2ZaIjf8WSY/s64/photo.jpg",
      "userId": "12822549848477954436"
     },
     "user_tz": -420
    },
    "id": "auarSm-bPm1G",
    "outputId": "2b354f19-23b2-46f8-9963-1889752cb988"
   },
   "outputs": [
    {
     "data": {
      "text/html": [
       "<div>\n",
       "<style scoped>\n",
       "    .dataframe tbody tr th:only-of-type {\n",
       "        vertical-align: middle;\n",
       "    }\n",
       "\n",
       "    .dataframe tbody tr th {\n",
       "        vertical-align: top;\n",
       "    }\n",
       "\n",
       "    .dataframe thead th {\n",
       "        text-align: right;\n",
       "    }\n",
       "</style>\n",
       "<table border=\"1\" class=\"dataframe\">\n",
       "  <thead>\n",
       "    <tr style=\"text-align: right;\">\n",
       "      <th></th>\n",
       "      <th>Id</th>\n",
       "      <th>EmployeeName</th>\n",
       "      <th>JobTitle</th>\n",
       "      <th>BasePay</th>\n",
       "      <th>OvertimePay</th>\n",
       "      <th>OtherPay</th>\n",
       "      <th>Benefits</th>\n",
       "      <th>TotalPay</th>\n",
       "      <th>TotalPayBenefits</th>\n",
       "      <th>Year</th>\n",
       "    </tr>\n",
       "  </thead>\n",
       "  <tbody>\n",
       "    <tr>\n",
       "      <th>106886</th>\n",
       "      <td>106887</td>\n",
       "      <td>George  Yamasaki</td>\n",
       "      <td>Commissioner 16.700c, No Pay</td>\n",
       "      <td>NaN</td>\n",
       "      <td>0.0</td>\n",
       "      <td>0.00</td>\n",
       "      <td>7959.18</td>\n",
       "      <td>0.00</td>\n",
       "      <td>7959.18</td>\n",
       "      <td>2013</td>\n",
       "    </tr>\n",
       "    <tr>\n",
       "      <th>106384</th>\n",
       "      <td>106385</td>\n",
       "      <td>Elaine M Vuong</td>\n",
       "      <td>Senior Eligibility Worker</td>\n",
       "      <td>NaN</td>\n",
       "      <td>0.0</td>\n",
       "      <td>752.07</td>\n",
       "      <td>7959.18</td>\n",
       "      <td>752.07</td>\n",
       "      <td>8711.25</td>\n",
       "      <td>2013</td>\n",
       "    </tr>\n",
       "    <tr>\n",
       "      <th>106083</th>\n",
       "      <td>106084</td>\n",
       "      <td>Ka S  Pang</td>\n",
       "      <td>Transit Operator</td>\n",
       "      <td>NaN</td>\n",
       "      <td>0.0</td>\n",
       "      <td>1708.32</td>\n",
       "      <td>7959.18</td>\n",
       "      <td>1708.32</td>\n",
       "      <td>9667.50</td>\n",
       "      <td>2013</td>\n",
       "    </tr>\n",
       "    <tr>\n",
       "      <th>110529</th>\n",
       "      <td>110530</td>\n",
       "      <td>Mark E Laherty</td>\n",
       "      <td>Police Officer 3</td>\n",
       "      <td>NaN</td>\n",
       "      <td>0.0</td>\n",
       "      <td>0.00</td>\n",
       "      <td>-8.20</td>\n",
       "      <td>0.00</td>\n",
       "      <td>-8.20</td>\n",
       "      <td>2013</td>\n",
       "    </tr>\n",
       "    <tr>\n",
       "      <th>106646</th>\n",
       "      <td>106647</td>\n",
       "      <td>Tina G Winston</td>\n",
       "      <td>Transit Operator</td>\n",
       "      <td>NaN</td>\n",
       "      <td>0.0</td>\n",
       "      <td>127.23</td>\n",
       "      <td>7959.18</td>\n",
       "      <td>127.23</td>\n",
       "      <td>8086.41</td>\n",
       "      <td>2013</td>\n",
       "    </tr>\n",
       "  </tbody>\n",
       "</table>\n",
       "</div>"
      ],
      "text/plain": [
       "            Id      EmployeeName  ... TotalPayBenefits  Year\n",
       "106886  106887  George  Yamasaki  ...          7959.18  2013\n",
       "106384  106385    Elaine M Vuong  ...          8711.25  2013\n",
       "106083  106084        Ka S  Pang  ...          9667.50  2013\n",
       "110529  110530    Mark E Laherty  ...            -8.20  2013\n",
       "106646  106647    Tina G Winston  ...          8086.41  2013\n",
       "\n",
       "[5 rows x 10 columns]"
      ]
     },
     "execution_count": 16,
     "metadata": {
      "tags": []
     },
     "output_type": "execute_result"
    }
   ],
   "source": [
    "# Select 5 sample of data that BasePay is null\n",
    "# Your code here\n",
    "sal[sal['BasePay'].isnull()].sample(5)"
   ]
  },
  {
   "cell_type": "markdown",
   "metadata": {
    "colab_type": "text",
    "id": "LI8UuvPePm1J"
   },
   "source": [
    "**For BasePay and Benefits, it is clear that NaN values are zeroes (from TotalPay and TotalPayBenefits).**\n",
    "\n",
    "**So, simply fill NaN values with 0**"
   ]
  },
  {
   "cell_type": "code",
   "execution_count": 0,
   "metadata": {
    "colab": {},
    "colab_type": "code",
    "id": "weJT0fK1Pm1K"
   },
   "outputs": [],
   "source": [
    "# Fill the blanks\n",
    "sal['Benefits'].fillna(value=0, inplace=True)"
   ]
  },
  {
   "cell_type": "code",
   "execution_count": 0,
   "metadata": {
    "colab": {},
    "colab_type": "code",
    "id": "CtY8mxaJPm1N"
   },
   "outputs": [],
   "source": [
    "# Fill the blanks\n",
    "sal['BasePay'].fillna(value=0, inplace=True)"
   ]
  },
  {
   "cell_type": "code",
   "execution_count": 19,
   "metadata": {
    "colab": {
     "base_uri": "https://localhost:8080/",
     "height": 207
    },
    "colab_type": "code",
    "executionInfo": {
     "elapsed": 1247,
     "status": "ok",
     "timestamp": 1557995803075,
     "user": {
      "displayName": "Hai Minh Do",
      "photoUrl": "https://lh6.googleusercontent.com/-ZUlR9wP4IpA/AAAAAAAAAAI/AAAAAAAAAAc/F2ZaIjf8WSY/s64/photo.jpg",
      "userId": "12822549848477954436"
     },
     "user_tz": -420
    },
    "id": "6r011Nm-Pm1Q",
    "outputId": "54cdbca6-c708-426a-abb2-5b90a634fcbd"
   },
   "outputs": [
    {
     "data": {
      "text/plain": [
       "Id                  0\n",
       "EmployeeName        0\n",
       "JobTitle            0\n",
       "BasePay             0\n",
       "OvertimePay         0\n",
       "OtherPay            0\n",
       "Benefits            0\n",
       "TotalPay            0\n",
       "TotalPayBenefits    0\n",
       "Year                0\n",
       "dtype: int64"
      ]
     },
     "execution_count": 19,
     "metadata": {
      "tags": []
     },
     "output_type": "execute_result"
    }
   ],
   "source": [
    "# Let check for NaN values again\n",
    "# Your code here\n",
    "sal.isnull().sum()"
   ]
  },
  {
   "cell_type": "markdown",
   "metadata": {
    "colab_type": "text",
    "id": "4OJQFuzhPm1T"
   },
   "source": [
    "**Min values of some payments are negative. Let's check it out**"
   ]
  },
  {
   "cell_type": "code",
   "execution_count": 20,
   "metadata": {
    "colab": {
     "base_uri": "https://localhost:8080/",
     "height": 275
    },
    "colab_type": "code",
    "executionInfo": {
     "elapsed": 562,
     "status": "ok",
     "timestamp": 1557995804422,
     "user": {
      "displayName": "Hai Minh Do",
      "photoUrl": "https://lh6.googleusercontent.com/-ZUlR9wP4IpA/AAAAAAAAAAI/AAAAAAAAAAc/F2ZaIjf8WSY/s64/photo.jpg",
      "userId": "12822549848477954436"
     },
     "user_tz": -420
    },
    "id": "DS8XEj1UPm1U",
    "outputId": "c1e3aed2-d271-4b32-b75e-1b6a96a19601"
   },
   "outputs": [
    {
     "data": {
      "text/html": [
       "<div>\n",
       "<style scoped>\n",
       "    .dataframe tbody tr th:only-of-type {\n",
       "        vertical-align: middle;\n",
       "    }\n",
       "\n",
       "    .dataframe tbody tr th {\n",
       "        vertical-align: top;\n",
       "    }\n",
       "\n",
       "    .dataframe thead th {\n",
       "        text-align: right;\n",
       "    }\n",
       "</style>\n",
       "<table border=\"1\" class=\"dataframe\">\n",
       "  <thead>\n",
       "    <tr style=\"text-align: right;\">\n",
       "      <th></th>\n",
       "      <th>Id</th>\n",
       "      <th>EmployeeName</th>\n",
       "      <th>JobTitle</th>\n",
       "      <th>BasePay</th>\n",
       "      <th>OvertimePay</th>\n",
       "      <th>OtherPay</th>\n",
       "      <th>Benefits</th>\n",
       "      <th>TotalPay</th>\n",
       "      <th>TotalPayBenefits</th>\n",
       "      <th>Year</th>\n",
       "    </tr>\n",
       "  </thead>\n",
       "  <tbody>\n",
       "    <tr>\n",
       "      <th>110528</th>\n",
       "      <td>110529</td>\n",
       "      <td>Timothy E Gibson</td>\n",
       "      <td>Police Officer 3</td>\n",
       "      <td>0.0</td>\n",
       "      <td>0.0</td>\n",
       "      <td>0.00</td>\n",
       "      <td>-2.73</td>\n",
       "      <td>0.00</td>\n",
       "      <td>-2.73</td>\n",
       "      <td>2013</td>\n",
       "    </tr>\n",
       "    <tr>\n",
       "      <th>110529</th>\n",
       "      <td>110530</td>\n",
       "      <td>Mark E Laherty</td>\n",
       "      <td>Police Officer 3</td>\n",
       "      <td>0.0</td>\n",
       "      <td>0.0</td>\n",
       "      <td>0.00</td>\n",
       "      <td>-8.20</td>\n",
       "      <td>0.00</td>\n",
       "      <td>-8.20</td>\n",
       "      <td>2013</td>\n",
       "    </tr>\n",
       "    <tr>\n",
       "      <th>110530</th>\n",
       "      <td>110531</td>\n",
       "      <td>David P Kucia</td>\n",
       "      <td>Police Officer 3</td>\n",
       "      <td>0.0</td>\n",
       "      <td>0.0</td>\n",
       "      <td>0.00</td>\n",
       "      <td>-33.89</td>\n",
       "      <td>0.00</td>\n",
       "      <td>-33.89</td>\n",
       "      <td>2013</td>\n",
       "    </tr>\n",
       "    <tr>\n",
       "      <th>148653</th>\n",
       "      <td>148654</td>\n",
       "      <td>Joe Lopez</td>\n",
       "      <td>Counselor, Log Cabin Ranch</td>\n",
       "      <td>0.0</td>\n",
       "      <td>0.0</td>\n",
       "      <td>-618.13</td>\n",
       "      <td>0.00</td>\n",
       "      <td>-618.13</td>\n",
       "      <td>-618.13</td>\n",
       "      <td>2014</td>\n",
       "    </tr>\n",
       "  </tbody>\n",
       "</table>\n",
       "</div>"
      ],
      "text/plain": [
       "            Id      EmployeeName  ... TotalPayBenefits  Year\n",
       "110528  110529  Timothy E Gibson  ...            -2.73  2013\n",
       "110529  110530    Mark E Laherty  ...            -8.20  2013\n",
       "110530  110531     David P Kucia  ...           -33.89  2013\n",
       "148653  148654         Joe Lopez  ...          -618.13  2014\n",
       "\n",
       "[4 rows x 10 columns]"
      ]
     },
     "execution_count": 20,
     "metadata": {
      "tags": []
     },
     "output_type": "execute_result"
    }
   ],
   "source": [
    "# Select data that has negative TotalPay or TotalPayBenefits\n",
    "# Fill the blanks\n",
    "sal[(sal['TotalPay'] < 0) | (sal['TotalPayBenefits'] < 0)]"
   ]
  },
  {
   "cell_type": "markdown",
   "metadata": {
    "colab_type": "text",
    "id": "9w7-ugL0mQPC"
   },
   "source": [
    "**There are only 4 of them, we can safely drop these data**"
   ]
  },
  {
   "cell_type": "code",
   "execution_count": 0,
   "metadata": {
    "colab": {},
    "colab_type": "code",
    "id": "2SfJWB9qPm1X"
   },
   "outputs": [],
   "source": [
    "# Your code here\n",
    "sal = sal[~((sal['TotalPay'] < 0) | (sal['TotalPayBenefits'] < 0))]"
   ]
  },
  {
   "cell_type": "markdown",
   "metadata": {
    "colab_type": "text",
    "id": "mPny_KZsPm1Z"
   },
   "source": [
    "**Identify any errors or miscoding of variables**"
   ]
  },
  {
   "cell_type": "code",
   "execution_count": 22,
   "metadata": {
    "colab": {
     "base_uri": "https://localhost:8080/",
     "height": 52
    },
    "colab_type": "code",
    "executionInfo": {
     "elapsed": 772,
     "status": "ok",
     "timestamp": 1557995807002,
     "user": {
      "displayName": "Hai Minh Do",
      "photoUrl": "https://lh6.googleusercontent.com/-ZUlR9wP4IpA/AAAAAAAAAAI/AAAAAAAAAAc/F2ZaIjf8WSY/s64/photo.jpg",
      "userId": "12822549848477954436"
     },
     "user_tz": -420
    },
    "id": "9K85MLVzPm1Z",
    "outputId": "6dabcc43-5890-4ff7-92ce-3f0964e5e25f"
   },
   "outputs": [
    {
     "data": {
      "text/plain": [
       "[2011, 2012, 2013, 2014]\n",
       "Categories (4, int64): [2011, 2012, 2013, 2014]"
      ]
     },
     "execution_count": 22,
     "metadata": {
      "tags": []
     },
     "output_type": "execute_result"
    }
   ],
   "source": [
    "# Check the unique values of Year\n",
    "# Your code here\n",
    "sal['Year'].unique()"
   ]
  },
  {
   "cell_type": "markdown",
   "metadata": {
    "colab_type": "text",
    "id": "c56z5tkKPm1c"
   },
   "source": [
    "Check duplication"
   ]
  },
  {
   "cell_type": "code",
   "execution_count": 0,
   "metadata": {
    "colab": {},
    "colab_type": "code",
    "id": "_JW2GOxIPm1c"
   },
   "outputs": [],
   "source": [
    "# Apply strip() on EmployeeName and Jobtitle \n",
    "# to remove all the leading and trailing spaces\n",
    "# Fill the blanks\n",
    "sal['EmployeeName'] = sal['EmployeeName'].str.strip()\n",
    "sal['JobTitle'] = sal['JobTitle'].str.strip()"
   ]
  },
  {
   "cell_type": "code",
   "execution_count": 24,
   "metadata": {
    "colab": {
     "base_uri": "https://localhost:8080/",
     "height": 35
    },
    "colab_type": "code",
    "executionInfo": {
     "elapsed": 1371,
     "status": "ok",
     "timestamp": 1557995810136,
     "user": {
      "displayName": "Hai Minh Do",
      "photoUrl": "https://lh6.googleusercontent.com/-ZUlR9wP4IpA/AAAAAAAAAAI/AAAAAAAAAAc/F2ZaIjf8WSY/s64/photo.jpg",
      "userId": "12822549848477954436"
     },
     "user_tz": -420
    },
    "id": "ZCl0vCkbPm1e",
    "outputId": "ddcff79b-01b6-4326-f327-cfc07a5bf912"
   },
   "outputs": [
    {
     "data": {
      "text/plain": [
       "110806"
      ]
     },
     "execution_count": 24,
     "metadata": {
      "tags": []
     },
     "output_type": "execute_result"
    }
   ],
   "source": [
    "# Check the number of unique value of EmployeeName\n",
    "sal['EmployeeName'].nunique()"
   ]
  },
  {
   "cell_type": "code",
   "execution_count": 25,
   "metadata": {
    "colab": {
     "base_uri": "https://localhost:8080/",
     "height": 35
    },
    "colab_type": "code",
    "executionInfo": {
     "elapsed": 1203,
     "status": "ok",
     "timestamp": 1557995810137,
     "user": {
      "displayName": "Hai Minh Do",
      "photoUrl": "https://lh6.googleusercontent.com/-ZUlR9wP4IpA/AAAAAAAAAAI/AAAAAAAAAAc/F2ZaIjf8WSY/s64/photo.jpg",
      "userId": "12822549848477954436"
     },
     "user_tz": -420
    },
    "id": "AjoEmOqOPm1i",
    "outputId": "3e66092d-6a37-4db7-ed68-b8502efa12b2"
   },
   "outputs": [
    {
     "data": {
      "text/plain": [
       "80455"
      ]
     },
     "execution_count": 25,
     "metadata": {
      "tags": []
     },
     "output_type": "execute_result"
    }
   ],
   "source": [
    "# Check the number of unique value of EmployeeName in lower case\n",
    "# Fill the blanks\n",
    "sal['EmployeeName'].str.lower().nunique()"
   ]
  },
  {
   "cell_type": "code",
   "execution_count": 26,
   "metadata": {
    "colab": {
     "base_uri": "https://localhost:8080/",
     "height": 52
    },
    "colab_type": "code",
    "executionInfo": {
     "elapsed": 1024,
     "status": "ok",
     "timestamp": 1557995810138,
     "user": {
      "displayName": "Hai Minh Do",
      "photoUrl": "https://lh6.googleusercontent.com/-ZUlR9wP4IpA/AAAAAAAAAAI/AAAAAAAAAAc/F2ZaIjf8WSY/s64/photo.jpg",
      "userId": "12822549848477954436"
     },
     "user_tz": -420
    },
    "id": "xkHpzbNpPm1l",
    "outputId": "f0fd4c77-c0e2-4798-ab97-ae88a3ccab16"
   },
   "outputs": [
    {
     "name": "stdout",
     "output_type": "stream",
     "text": [
      "2158\n",
      "1636\n"
     ]
    }
   ],
   "source": [
    "# Do the same with JobTitle\n",
    "# Fill the blank\n",
    "print(sal['JobTitle'].nunique())\n",
    "print(sal['JobTitle'].str.lower().nunique())\n"
   ]
  },
  {
   "cell_type": "code",
   "execution_count": 0,
   "metadata": {
    "colab": {},
    "colab_type": "code",
    "id": "jpt9F8hoPm1o"
   },
   "outputs": [],
   "source": []
  },
  {
   "cell_type": "code",
   "execution_count": 27,
   "metadata": {
    "colab": {
     "base_uri": "https://localhost:8080/",
     "height": 1056
    },
    "colab_type": "code",
    "executionInfo": {
     "elapsed": 948,
     "status": "ok",
     "timestamp": 1557995810422,
     "user": {
      "displayName": "Hai Minh Do",
      "photoUrl": "https://lh6.googleusercontent.com/-ZUlR9wP4IpA/AAAAAAAAAAI/AAAAAAAAAAc/F2ZaIjf8WSY/s64/photo.jpg",
      "userId": "12822549848477954436"
     },
     "user_tz": -420
    },
    "id": "-JLeksePPm1r",
    "outputId": "a5ec3f13-60f6-4452-92c1-4c9a0f42a35e"
   },
   "outputs": [
    {
     "data": {
      "text/html": [
       "<div>\n",
       "<style scoped>\n",
       "    .dataframe tbody tr th:only-of-type {\n",
       "        vertical-align: middle;\n",
       "    }\n",
       "\n",
       "    .dataframe tbody tr th {\n",
       "        vertical-align: top;\n",
       "    }\n",
       "\n",
       "    .dataframe thead th {\n",
       "        text-align: right;\n",
       "    }\n",
       "</style>\n",
       "<table border=\"1\" class=\"dataframe\">\n",
       "  <thead>\n",
       "    <tr style=\"text-align: right;\">\n",
       "      <th></th>\n",
       "      <th>Id</th>\n",
       "      <th>EmployeeName</th>\n",
       "      <th>JobTitle</th>\n",
       "      <th>BasePay</th>\n",
       "      <th>OvertimePay</th>\n",
       "      <th>OtherPay</th>\n",
       "      <th>Benefits</th>\n",
       "      <th>TotalPay</th>\n",
       "      <th>TotalPayBenefits</th>\n",
       "      <th>Year</th>\n",
       "    </tr>\n",
       "  </thead>\n",
       "  <tbody>\n",
       "    <tr>\n",
       "      <th>3824</th>\n",
       "      <td>3825</td>\n",
       "      <td>KEVIN LEE</td>\n",
       "      <td>POLICE OFFICER III</td>\n",
       "      <td>112401.08</td>\n",
       "      <td>19374.72</td>\n",
       "      <td>1062.10</td>\n",
       "      <td>0.00</td>\n",
       "      <td>132837.90</td>\n",
       "      <td>132837.90</td>\n",
       "      <td>2011</td>\n",
       "    </tr>\n",
       "    <tr>\n",
       "      <th>4036</th>\n",
       "      <td>4037</td>\n",
       "      <td>KEVIN LEE</td>\n",
       "      <td>POLICE OFFICER II</td>\n",
       "      <td>108000.94</td>\n",
       "      <td>17468.40</td>\n",
       "      <td>6025.54</td>\n",
       "      <td>0.00</td>\n",
       "      <td>131494.88</td>\n",
       "      <td>131494.88</td>\n",
       "      <td>2011</td>\n",
       "    </tr>\n",
       "    <tr>\n",
       "      <th>5279</th>\n",
       "      <td>5280</td>\n",
       "      <td>KEVIN LEE</td>\n",
       "      <td>ELECTRICAL TRANSIT SYSTEM MECHANIC</td>\n",
       "      <td>77580.68</td>\n",
       "      <td>36378.97</td>\n",
       "      <td>8858.96</td>\n",
       "      <td>0.00</td>\n",
       "      <td>122818.61</td>\n",
       "      <td>122818.61</td>\n",
       "      <td>2011</td>\n",
       "    </tr>\n",
       "    <tr>\n",
       "      <th>13169</th>\n",
       "      <td>13170</td>\n",
       "      <td>KEVIN LEE</td>\n",
       "      <td>DEPUTY COURT CLERK III</td>\n",
       "      <td>83693.01</td>\n",
       "      <td>0.00</td>\n",
       "      <td>609.60</td>\n",
       "      <td>0.00</td>\n",
       "      <td>84302.61</td>\n",
       "      <td>84302.61</td>\n",
       "      <td>2011</td>\n",
       "    </tr>\n",
       "    <tr>\n",
       "      <th>13419</th>\n",
       "      <td>13420</td>\n",
       "      <td>KEVIN LEE</td>\n",
       "      <td>DEPUTY COURT CLERK III</td>\n",
       "      <td>83560.00</td>\n",
       "      <td>0.00</td>\n",
       "      <td>0.00</td>\n",
       "      <td>0.00</td>\n",
       "      <td>83560.00</td>\n",
       "      <td>83560.00</td>\n",
       "      <td>2011</td>\n",
       "    </tr>\n",
       "    <tr>\n",
       "      <th>15312</th>\n",
       "      <td>15313</td>\n",
       "      <td>KEVIN LEE</td>\n",
       "      <td>PERSONNEL ANALYST</td>\n",
       "      <td>76786.31</td>\n",
       "      <td>0.00</td>\n",
       "      <td>0.00</td>\n",
       "      <td>0.00</td>\n",
       "      <td>76786.31</td>\n",
       "      <td>76786.31</td>\n",
       "      <td>2011</td>\n",
       "    </tr>\n",
       "    <tr>\n",
       "      <th>17163</th>\n",
       "      <td>17164</td>\n",
       "      <td>KEVIN LEE</td>\n",
       "      <td>SENIOR PARKING CONTROL OFFICER</td>\n",
       "      <td>65324.60</td>\n",
       "      <td>4944.02</td>\n",
       "      <td>686.93</td>\n",
       "      <td>0.00</td>\n",
       "      <td>70955.55</td>\n",
       "      <td>70955.55</td>\n",
       "      <td>2011</td>\n",
       "    </tr>\n",
       "    <tr>\n",
       "      <th>17646</th>\n",
       "      <td>17647</td>\n",
       "      <td>KEVIN LEE</td>\n",
       "      <td>IS ADMINISTRATOR II</td>\n",
       "      <td>66349.74</td>\n",
       "      <td>718.23</td>\n",
       "      <td>2325.47</td>\n",
       "      <td>0.00</td>\n",
       "      <td>69393.44</td>\n",
       "      <td>69393.44</td>\n",
       "      <td>2011</td>\n",
       "    </tr>\n",
       "    <tr>\n",
       "      <th>27053</th>\n",
       "      <td>27054</td>\n",
       "      <td>KEVIN LEE</td>\n",
       "      <td>TRANSIT OPERATOR</td>\n",
       "      <td>31501.33</td>\n",
       "      <td>5003.46</td>\n",
       "      <td>770.75</td>\n",
       "      <td>0.00</td>\n",
       "      <td>37275.54</td>\n",
       "      <td>37275.54</td>\n",
       "      <td>2011</td>\n",
       "    </tr>\n",
       "    <tr>\n",
       "      <th>39715</th>\n",
       "      <td>39716</td>\n",
       "      <td>Kevin Lee</td>\n",
       "      <td>Police Officer 3</td>\n",
       "      <td>115866.90</td>\n",
       "      <td>23523.30</td>\n",
       "      <td>9313.54</td>\n",
       "      <td>34906.20</td>\n",
       "      <td>148703.74</td>\n",
       "      <td>183609.94</td>\n",
       "      <td>2012</td>\n",
       "    </tr>\n",
       "    <tr>\n",
       "      <th>40570</th>\n",
       "      <td>40571</td>\n",
       "      <td>Kevin Lee</td>\n",
       "      <td>Police Officer 3</td>\n",
       "      <td>117171.41</td>\n",
       "      <td>19606.88</td>\n",
       "      <td>4244.90</td>\n",
       "      <td>34610.10</td>\n",
       "      <td>141023.19</td>\n",
       "      <td>175633.29</td>\n",
       "      <td>2012</td>\n",
       "    </tr>\n",
       "    <tr>\n",
       "      <th>42510</th>\n",
       "      <td>42511</td>\n",
       "      <td>Kevin Lee</td>\n",
       "      <td>Electrical Transit System Mech</td>\n",
       "      <td>79220.54</td>\n",
       "      <td>40247.39</td>\n",
       "      <td>3353.49</td>\n",
       "      <td>38781.04</td>\n",
       "      <td>122821.42</td>\n",
       "      <td>161602.46</td>\n",
       "      <td>2012</td>\n",
       "    </tr>\n",
       "    <tr>\n",
       "      <th>49270</th>\n",
       "      <td>49271</td>\n",
       "      <td>Kevin Lee</td>\n",
       "      <td>Deputy Court Clerk III</td>\n",
       "      <td>84512.32</td>\n",
       "      <td>0.00</td>\n",
       "      <td>1469.99</td>\n",
       "      <td>36080.30</td>\n",
       "      <td>85982.31</td>\n",
       "      <td>122062.61</td>\n",
       "      <td>2012</td>\n",
       "    </tr>\n",
       "    <tr>\n",
       "      <th>49439</th>\n",
       "      <td>49440</td>\n",
       "      <td>Kevin Lee</td>\n",
       "      <td>Deputy Court Clerk III</td>\n",
       "      <td>84512.34</td>\n",
       "      <td>0.00</td>\n",
       "      <td>975.44</td>\n",
       "      <td>35902.02</td>\n",
       "      <td>85487.78</td>\n",
       "      <td>121389.80</td>\n",
       "      <td>2012</td>\n",
       "    </tr>\n",
       "    <tr>\n",
       "      <th>50123</th>\n",
       "      <td>50124</td>\n",
       "      <td>Kevin Lee</td>\n",
       "      <td>Personnel Analyst</td>\n",
       "      <td>83382.00</td>\n",
       "      <td>0.00</td>\n",
       "      <td>0.00</td>\n",
       "      <td>35210.59</td>\n",
       "      <td>83382.00</td>\n",
       "      <td>118592.59</td>\n",
       "      <td>2012</td>\n",
       "    </tr>\n",
       "    <tr>\n",
       "      <th>52233</th>\n",
       "      <td>52234</td>\n",
       "      <td>Kevin Lee</td>\n",
       "      <td>Senior Parking Control Officer</td>\n",
       "      <td>66774.03</td>\n",
       "      <td>9599.08</td>\n",
       "      <td>1092.62</td>\n",
       "      <td>31902.38</td>\n",
       "      <td>77465.73</td>\n",
       "      <td>109368.11</td>\n",
       "      <td>2012</td>\n",
       "    </tr>\n",
       "    <tr>\n",
       "      <th>53931</th>\n",
       "      <td>53932</td>\n",
       "      <td>Kevin Lee</td>\n",
       "      <td>Transit Operator</td>\n",
       "      <td>57397.32</td>\n",
       "      <td>9989.83</td>\n",
       "      <td>1800.48</td>\n",
       "      <td>34577.54</td>\n",
       "      <td>69187.63</td>\n",
       "      <td>103765.17</td>\n",
       "      <td>2012</td>\n",
       "    </tr>\n",
       "    <tr>\n",
       "      <th>55119</th>\n",
       "      <td>55120</td>\n",
       "      <td>Kevin Lee</td>\n",
       "      <td>IS Administrator 2</td>\n",
       "      <td>68940.44</td>\n",
       "      <td>0.00</td>\n",
       "      <td>0.00</td>\n",
       "      <td>30650.48</td>\n",
       "      <td>68940.44</td>\n",
       "      <td>99590.92</td>\n",
       "      <td>2012</td>\n",
       "    </tr>\n",
       "    <tr>\n",
       "      <th>112385</th>\n",
       "      <td>112386</td>\n",
       "      <td>Kevin Lee</td>\n",
       "      <td>Sergeant 3</td>\n",
       "      <td>137982.14</td>\n",
       "      <td>18537.19</td>\n",
       "      <td>16039.62</td>\n",
       "      <td>43039.12</td>\n",
       "      <td>172558.95</td>\n",
       "      <td>215598.07</td>\n",
       "      <td>2014</td>\n",
       "    </tr>\n",
       "    <tr>\n",
       "      <th>123141</th>\n",
       "      <td>123142</td>\n",
       "      <td>Kevin Lee</td>\n",
       "      <td>IT Operations Support Admin IV</td>\n",
       "      <td>91606.03</td>\n",
       "      <td>0.00</td>\n",
       "      <td>1013.00</td>\n",
       "      <td>34109.61</td>\n",
       "      <td>92619.03</td>\n",
       "      <td>126728.64</td>\n",
       "      <td>2014</td>\n",
       "    </tr>\n",
       "    <tr>\n",
       "      <th>124165</th>\n",
       "      <td>124166</td>\n",
       "      <td>Kevin Lee</td>\n",
       "      <td>Personnel Analyst</td>\n",
       "      <td>88353.01</td>\n",
       "      <td>0.00</td>\n",
       "      <td>0.00</td>\n",
       "      <td>33172.33</td>\n",
       "      <td>88353.01</td>\n",
       "      <td>121525.34</td>\n",
       "      <td>2014</td>\n",
       "    </tr>\n",
       "    <tr>\n",
       "      <th>124658</th>\n",
       "      <td>124659</td>\n",
       "      <td>Kevin Lee</td>\n",
       "      <td>Transit Operator</td>\n",
       "      <td>67230.30</td>\n",
       "      <td>10961.25</td>\n",
       "      <td>4050.85</td>\n",
       "      <td>36777.83</td>\n",
       "      <td>82242.40</td>\n",
       "      <td>119020.23</td>\n",
       "      <td>2014</td>\n",
       "    </tr>\n",
       "  </tbody>\n",
       "</table>\n",
       "</div>"
      ],
      "text/plain": [
       "            Id EmployeeName  ... TotalPayBenefits  Year\n",
       "3824      3825    KEVIN LEE  ...        132837.90  2011\n",
       "4036      4037    KEVIN LEE  ...        131494.88  2011\n",
       "5279      5280    KEVIN LEE  ...        122818.61  2011\n",
       "13169    13170    KEVIN LEE  ...         84302.61  2011\n",
       "13419    13420    KEVIN LEE  ...         83560.00  2011\n",
       "15312    15313    KEVIN LEE  ...         76786.31  2011\n",
       "17163    17164    KEVIN LEE  ...         70955.55  2011\n",
       "17646    17647    KEVIN LEE  ...         69393.44  2011\n",
       "27053    27054    KEVIN LEE  ...         37275.54  2011\n",
       "39715    39716    Kevin Lee  ...        183609.94  2012\n",
       "40570    40571    Kevin Lee  ...        175633.29  2012\n",
       "42510    42511    Kevin Lee  ...        161602.46  2012\n",
       "49270    49271    Kevin Lee  ...        122062.61  2012\n",
       "49439    49440    Kevin Lee  ...        121389.80  2012\n",
       "50123    50124    Kevin Lee  ...        118592.59  2012\n",
       "52233    52234    Kevin Lee  ...        109368.11  2012\n",
       "53931    53932    Kevin Lee  ...        103765.17  2012\n",
       "55119    55120    Kevin Lee  ...         99590.92  2012\n",
       "112385  112386    Kevin Lee  ...        215598.07  2014\n",
       "123141  123142    Kevin Lee  ...        126728.64  2014\n",
       "124165  124166    Kevin Lee  ...        121525.34  2014\n",
       "124658  124659    Kevin Lee  ...        119020.23  2014\n",
       "\n",
       "[22 rows x 10 columns]"
      ]
     },
     "execution_count": 27,
     "metadata": {
      "tags": []
     },
     "output_type": "execute_result"
    }
   ],
   "source": [
    "# Select the most common name\n",
    "# Something wrong, fix the error\n",
    "names = sal['EmployeeName'].str.lower().value_counts()\n",
    "sample = names[names > 1].head(1).index\n",
    "sal[sal['EmployeeName'].str.lower().isin(sample)]\n"
   ]
  },
  {
   "cell_type": "markdown",
   "metadata": {
    "colab_type": "text",
    "id": "zB_Fu1c9Pm1u"
   },
   "source": [
    "*The names are duplicated because the data describes one person in different years or just because there are people who have same name. It's ok so we only need to uppercase all of the name to eliminate case sensitive.*\n",
    "\n",
    "*But there are definitely some duplication of Job Title, example `Police Officer 3` and `POLICE OFFICER III`*"
   ]
  },
  {
   "cell_type": "code",
   "execution_count": 0,
   "metadata": {
    "colab": {},
    "colab_type": "code",
    "id": "Ufw8QW-6Pm1u"
   },
   "outputs": [],
   "source": [
    "# Replace Name and Job Title with its uppercase\n",
    "# Fill the blanks\n",
    "sal['EmployeeName'] = sal['EmployeeName'].str.upper()\n",
    "sal['JobTitle'] = sal['JobTitle'].str.upper()"
   ]
  },
  {
   "cell_type": "code",
   "execution_count": 0,
   "metadata": {
    "colab": {},
    "colab_type": "code",
    "id": "z36es8P5tNDb"
   },
   "outputs": [],
   "source": []
  },
  {
   "cell_type": "code",
   "execution_count": 29,
   "metadata": {
    "colab": {
     "base_uri": "https://localhost:8080/",
     "height": 1088
    },
    "colab_type": "code",
    "executionInfo": {
     "elapsed": 974,
     "status": "ok",
     "timestamp": 1557995813107,
     "user": {
      "displayName": "Hai Minh Do",
      "photoUrl": "https://lh6.googleusercontent.com/-ZUlR9wP4IpA/AAAAAAAAAAI/AAAAAAAAAAc/F2ZaIjf8WSY/s64/photo.jpg",
      "userId": "12822549848477954436"
     },
     "user_tz": -420
    },
    "id": "heSYToXzPm1x",
    "outputId": "7c8cb619-4e7d-49a2-8b71-4147bd237ffe"
   },
   "outputs": [
    {
     "data": {
      "text/plain": [
       "POLICE OFFICER 3                 2418\n",
       "POLICE OFFICER 2                 1141\n",
       "SERGEANT 3                       1047\n",
       "LIBRARIAN 1                       530\n",
       "HEALTH WORKER 3                   438\n",
       "HEALTH WORKER 2                   415\n",
       "INSPECTOR 3                       318\n",
       "LIEUTENANT 3                      303\n",
       "SECRETARY 2                       301\n",
       "LIBRARY TECHNICAL ASSISTANT 1     237\n",
       "EXECUTIVE SECRETARY 1             184\n",
       "LEGAL SECRETARY 1                 184\n",
       "EXECUTIVE SECRETARY 2             178\n",
       "HEALTH CARE BILLING CLERK 2       177\n",
       "LIBRARIAN 2                       174\n",
       "PLANNER 3                         174\n",
       "EMPLOYMENT & TRAINING SPEC 3      167\n",
       "HEALTH PROGRAM COORDINATOR 3      167\n",
       "HEALTH WORKER 1                   163\n",
       "SR. COMMUNITY DEVL SPC 1          148\n",
       "GENERAL LABORER SUPERVISOR 1      137\n",
       "SERGEANT 2                        131\n",
       "IS ADMINISTRATOR 2                113\n",
       "PLANNER 2                         106\n",
       "COMMUNICATIONS DISPATCHER 1       106\n",
       "CAPTAIN 3                         101\n",
       "ENGINEERING ASSOCIATE 1            99\n",
       "CONTRACT COMPLIANCE OFFICER 1      96\n",
       "LIBRARY TECHNICAL ASSISTANT 2      96\n",
       "COMMUNICATIONS DISPATCHER 2        88\n",
       "                                 ... \n",
       "SPECIAL ASSISTANT 21                3\n",
       "PAINTER SUPERVISOR 2                3\n",
       "PLUMBER SUPERVISOR 2                3\n",
       "ASPHALT PLANT SUPERVISOR 1          3\n",
       "BD/COMM SECRETARY 3                 3\n",
       "TRNST POWER LINE WRK SPRV 2         3\n",
       "POWER PLANT SUPERVISOR 1            3\n",
       "ORTHOPEDIC TECHNICIAN 1             3\n",
       "EMPLOYMENT & TRAINING SPEC 6        3\n",
       "SPECIAL ASSISTANT 14                3\n",
       "SPECIALIST IN AGING 2               3\n",
       "SPECIAL ASSISTANT 15                3\n",
       "ORNAMENTAL IRON WRK SPRV 1          3\n",
       "ASST DIR OF CLINICAL SVCS 1         3\n",
       "ELECTRIC MOTOR REPAIR SPRV 1        3\n",
       "WHARFINGER 1                        3\n",
       "AUTO BODY & FENDER WRK SPRV 1       3\n",
       "ORTHOPEDIC TECHNICIAN 2             3\n",
       "GLAZIER SUPERVISOR 1                2\n",
       "CEMENT FINISHER SUPERVISOR 2        2\n",
       "SPECIAL ASSISTANT 11                2\n",
       "ENVIRONMENTAL HLTH TECH 2           2\n",
       "SPECIAL ASSISTANT 16                2\n",
       "TRANSIT PAINT SHOP SPRV1            2\n",
       "WATER METER SHOP SUPERVISOR 1       2\n",
       "CASHIER 3                           1\n",
       "SPECIAL ASSISTANT 8                 1\n",
       "SPECIAL ASSISTANT 13                1\n",
       "SPECIAL ASSISTANT 18                1\n",
       "ASST DIR CLINICAL SVCS 2            1\n",
       "Name: JobTitle, Length: 166, dtype: int64"
      ]
     },
     "execution_count": 29,
     "metadata": {
      "tags": []
     },
     "output_type": "execute_result"
    }
   ],
   "source": [
    "# Write a regular expression to select JobTitle that ends with a digit\n",
    "# Fill the blank\n",
    "sal['JobTitle'][sal['JobTitle'].str.contains('\\d$', regex=True)].value_counts()"
   ]
  },
  {
   "cell_type": "code",
   "execution_count": 30,
   "metadata": {
    "colab": {
     "base_uri": "https://localhost:8080/",
     "height": 138
    },
    "colab_type": "code",
    "executionInfo": {
     "elapsed": 1345,
     "status": "ok",
     "timestamp": 1557995814026,
     "user": {
      "displayName": "Hai Minh Do",
      "photoUrl": "https://lh6.googleusercontent.com/-ZUlR9wP4IpA/AAAAAAAAAAI/AAAAAAAAAAc/F2ZaIjf8WSY/s64/photo.jpg",
      "userId": "12822549848477954436"
     },
     "user_tz": -420
    },
    "id": "xaYYbPRPPm10",
    "outputId": "42a5bed4-655f-4768-90e0-18d3d6971ee0"
   },
   "outputs": [
    {
     "data": {
      "text/plain": [
       "POLICE OFFICER 3      2418\n",
       "POLICE OFFICER        1476\n",
       "POLICE OFFICER 2      1141\n",
       "POLICE OFFICER III     779\n",
       "POLICE OFFICER I       467\n",
       "POLICE OFFICER II      361\n",
       "Name: JobTitle, dtype: int64"
      ]
     },
     "execution_count": 30,
     "metadata": {
      "tags": []
     },
     "output_type": "execute_result"
    }
   ],
   "source": [
    "# Write a regex that count all type of POLICE OFFICER\n",
    "# Fill the blank\n",
    "sal['JobTitle'][sal['JobTitle'].str.contains('^POLICE OFFICER', regex=True)].value_counts()"
   ]
  },
  {
   "cell_type": "code",
   "execution_count": 31,
   "metadata": {
    "colab": {
     "base_uri": "https://localhost:8080/",
     "height": 35
    },
    "colab_type": "code",
    "executionInfo": {
     "elapsed": 1150,
     "status": "ok",
     "timestamp": 1557995814028,
     "user": {
      "displayName": "Hai Minh Do",
      "photoUrl": "https://lh6.googleusercontent.com/-ZUlR9wP4IpA/AAAAAAAAAAI/AAAAAAAAAAc/F2ZaIjf8WSY/s64/photo.jpg",
      "userId": "12822549848477954436"
     },
     "user_tz": -420
    },
    "id": "V1eYSjo0Pm12",
    "outputId": "56df1e88-53f5-4820-e4c2-4c07b4873d42"
   },
   "outputs": [
    {
     "data": {
      "text/plain": [
       "'POLICE OFFICER 3'"
      ]
     },
     "execution_count": 31,
     "metadata": {
      "tags": []
     },
     "output_type": "execute_result"
    }
   ],
   "source": [
    "# This is a simple function to transform roman number\n",
    "def transform_roman(s):\n",
    "    d = {'I':1, 'II':2, 'III':3, 'IV':4, 'V':5, 'VI':6, 'VII':7, 'VIII':8, 'IX':9, 'X':10, \n",
    "        'XI':11, 'XII':12, 'XIII':13, 'XIV':14, 'XV':15, 'XVI':16, 'XVII':17, 'XVIII':18, 'XIX':19, 'XX':20}\n",
    "    \n",
    "    s_split = s.split()\n",
    "    if s_split[-1] in d.keys():\n",
    "        s_split[-1] = str(d[s_split[-1]])\n",
    "    return ' '.join(s_split)\n",
    "\n",
    "# Test it out\n",
    "transform_roman('POLICE OFFICER III')"
   ]
  },
  {
   "cell_type": "code",
   "execution_count": 0,
   "metadata": {
    "colab": {},
    "colab_type": "code",
    "id": "s339HvCvuvsn"
   },
   "outputs": [],
   "source": []
  },
  {
   "cell_type": "code",
   "execution_count": 0,
   "metadata": {
    "colab": {},
    "colab_type": "code",
    "id": "2PX5dFaxPm14"
   },
   "outputs": [],
   "source": [
    "# Apply the function above to the column JobTitle\n",
    "# Fill the blank\n",
    "sal['JobTitle'] = sal['JobTitle'].apply(transform_roman)"
   ]
  },
  {
   "cell_type": "markdown",
   "metadata": {
    "colab_type": "text",
    "id": "Ikd1t-v3Pm17"
   },
   "source": [
    "### Step 4 - EDA"
   ]
  },
  {
   "cell_type": "markdown",
   "metadata": {
    "colab_type": "text",
    "id": "-dEBLw1uPm1-"
   },
   "source": [
    "**Plot categorical data**"
   ]
  },
  {
   "cell_type": "code",
   "execution_count": 33,
   "metadata": {
    "colab": {
     "base_uri": "https://localhost:8080/",
     "height": 301
    },
    "colab_type": "code",
    "executionInfo": {
     "elapsed": 963,
     "status": "ok",
     "timestamp": 1557995821255,
     "user": {
      "displayName": "Hai Minh Do",
      "photoUrl": "https://lh6.googleusercontent.com/-ZUlR9wP4IpA/AAAAAAAAAAI/AAAAAAAAAAc/F2ZaIjf8WSY/s64/photo.jpg",
      "userId": "12822549848477954436"
     },
     "user_tz": -420
    },
    "id": "_N-UF331Pm1-",
    "outputId": "b6ee30e6-2e02-434e-ca79-fe5bd5f6ec94"
   },
   "outputs": [
    {
     "data": {
      "text/plain": [
       "<matplotlib.axes._subplots.AxesSubplot at 0x7fbb4d3e6278>"
      ]
     },
     "execution_count": 33,
     "metadata": {
      "tags": []
     },
     "output_type": "execute_result"
    },
    {
     "data": {
      "image/png": "[encoded data removed]",
      "text/plain": [
       "<Figure size 432x288 with 1 Axes>"
      ]
     },
     "metadata": {
      "tags": []
     },
     "output_type": "display_data"
    }
   ],
   "source": [
    "sns.countplot(x='Year', data=sal)\n",
    "# What can you tell about this?"
   ]
  },
  {
   "cell_type": "markdown",
   "metadata": {
    "colab_type": "text",
    "id": "pGvAB5cNPm2D"
   },
   "source": [
    "**Top 5 common job titles**"
   ]
  },
  {
   "cell_type": "code",
   "execution_count": 34,
   "metadata": {
    "colab": {
     "base_uri": "https://localhost:8080/",
     "height": 286
    },
    "colab_type": "code",
    "executionInfo": {
     "elapsed": 916,
     "status": "ok",
     "timestamp": 1557995838802,
     "user": {
      "displayName": "Hai Minh Do",
      "photoUrl": "https://lh6.googleusercontent.com/-ZUlR9wP4IpA/AAAAAAAAAAI/AAAAAAAAAAc/F2ZaIjf8WSY/s64/photo.jpg",
      "userId": "12822549848477954436"
     },
     "user_tz": -420
    },
    "id": "3LrHbjpHPm2D",
    "outputId": "88913cf3-c4a5-4378-9ab2-fc2db0d80960"
   },
   "outputs": [
    {
     "data": {
      "text/plain": [
       "<matplotlib.axes._subplots.AxesSubplot at 0x7fbb4d3474a8>"
      ]
     },
     "execution_count": 34,
     "metadata": {
      "tags": []
     },
     "output_type": "execute_result"
    },
    {
     "data": {
      "image/png": "[encoded data removed]",
      "text/plain": [
       "<Figure size 432x288 with 1 Axes>"
      ]
     },
     "metadata": {
      "tags": []
     },
     "output_type": "display_data"
    }
   ],
   "source": [
    "# Fill the blanks\n",
    "sal['JobTitle'].value_counts().head().plot(kind='barh')"
   ]
  },
  {
   "cell_type": "markdown",
   "metadata": {
    "colab_type": "text",
    "id": "JZvwnGZ-Pm2F"
   },
   "source": [
    "**Distribution of numerical data**"
   ]
  },
  {
   "cell_type": "code",
   "execution_count": 35,
   "metadata": {
    "colab": {
     "base_uri": "https://localhost:8080/",
     "height": 301
    },
    "colab_type": "code",
    "executionInfo": {
     "elapsed": 1379,
     "status": "ok",
     "timestamp": 1557995847815,
     "user": {
      "displayName": "Hai Minh Do",
      "photoUrl": "https://lh6.googleusercontent.com/-ZUlR9wP4IpA/AAAAAAAAAAI/AAAAAAAAAAc/F2ZaIjf8WSY/s64/photo.jpg",
      "userId": "12822549848477954436"
     },
     "user_tz": -420
    },
    "id": "UnTkDE4NPm2F",
    "outputId": "595e4e7b-8866-4052-c3ce-f7da3beee291"
   },
   "outputs": [
    {
     "data": {
      "text/plain": [
       "<matplotlib.axes._subplots.AxesSubplot at 0x7fbb4d172a58>"
      ]
     },
     "execution_count": 35,
     "metadata": {
      "tags": []
     },
     "output_type": "execute_result"
    },
    {
     "data": {
      "image/png": "[encoded data removed]",
      "text/plain": [
       "<Figure size 432x288 with 1 Axes>"
      ]
     },
     "metadata": {
      "tags": []
     },
     "output_type": "display_data"
    }
   ],
   "source": [
    "# Run this\n",
    "sns.distplot(sal['TotalPayBenefits'])"
   ]
  },
  {
   "cell_type": "code",
   "execution_count": 36,
   "metadata": {
    "colab": {
     "base_uri": "https://localhost:8080/",
     "height": 269
    },
    "colab_type": "code",
    "executionInfo": {
     "elapsed": 784,
     "status": "ok",
     "timestamp": 1557995850207,
     "user": {
      "displayName": "Hai Minh Do",
      "photoUrl": "https://lh6.googleusercontent.com/-ZUlR9wP4IpA/AAAAAAAAAAI/AAAAAAAAAAc/F2ZaIjf8WSY/s64/photo.jpg",
      "userId": "12822549848477954436"
     },
     "user_tz": -420
    },
    "id": "rS3lsmV4Pm2J",
    "outputId": "cbbd4c86-e9d6-491e-92c3-a5ccd90640e8"
   },
   "outputs": [
    {
     "data": {
      "image/png": "[encoded data removed]",
      "text/plain": [
       "<Figure size 432x288 with 1 Axes>"
      ]
     },
     "metadata": {
      "tags": []
     },
     "output_type": "display_data"
    }
   ],
   "source": [
    "# Histogram is sensitive with the bins, try some examples to prove that\n",
    "plt.hist(sal['TotalPayBenefits'], bins=5)\n",
    "plt.show()"
   ]
  },
  {
   "cell_type": "code",
   "execution_count": 37,
   "metadata": {
    "colab": {
     "base_uri": "https://localhost:8080/",
     "height": 398
    },
    "colab_type": "code",
    "executionInfo": {
     "elapsed": 1945,
     "status": "ok",
     "timestamp": 1557995870440,
     "user": {
      "displayName": "Hai Minh Do",
      "photoUrl": "https://lh6.googleusercontent.com/-ZUlR9wP4IpA/AAAAAAAAAAI/AAAAAAAAAAc/F2ZaIjf8WSY/s64/photo.jpg",
      "userId": "12822549848477954436"
     },
     "user_tz": -420
    },
    "id": "OmY97JiBsn__",
    "outputId": "97554e7a-4c33-4b67-8b90-3420c37b4e7d"
   },
   "outputs": [
    {
     "data": {
      "image/png": "[encoded data removed]",
      "text/plain": [
       "<Figure size 864x432 with 4 Axes>"
      ]
     },
     "metadata": {
      "tags": []
     },
     "output_type": "display_data"
    }
   ],
   "source": [
    "# Plot these diagrams in a dashboard with two rows and two columns\n",
    "\n",
    "f, axes = plt.subplots(2, 2, figsize=(12, 6))\n",
    "\n",
    "sns.kdeplot(sal['BasePay'], ax=axes[0,0])\n",
    "sns.kdeplot(sal['OvertimePay'], ax=axes[0,1])\n",
    "sns.kdeplot(sal['OtherPay'], ax=axes[1,0])\n",
    "sns.kdeplot(sal['Benefits'], ax=axes[1,1])\n",
    "\n",
    "plt.show()"
   ]
  },
  {
   "cell_type": "code",
   "execution_count": 38,
   "metadata": {
    "colab": {
     "base_uri": "https://localhost:8080/",
     "height": 413
    },
    "colab_type": "code",
    "executionInfo": {
     "elapsed": 1768,
     "status": "ok",
     "timestamp": 1557995886986,
     "user": {
      "displayName": "Hai Minh Do",
      "photoUrl": "https://lh6.googleusercontent.com/-ZUlR9wP4IpA/AAAAAAAAAAI/AAAAAAAAAAc/F2ZaIjf8WSY/s64/photo.jpg",
      "userId": "12822549848477954436"
     },
     "user_tz": -420
    },
    "id": "3bhCQzNfPm2S",
    "outputId": "983cf6ec-8120-4ce9-f438-5704d678efe7"
   },
   "outputs": [
    {
     "data": {
      "image/png": "[encoded data removed]",
      "text/plain": [
       "<Figure size 864x432 with 2 Axes>"
      ]
     },
     "metadata": {
      "tags": []
     },
     "output_type": "display_data"
    }
   ],
   "source": [
    "# Plot these diagrams in a dashboard with one rows and two columns\n",
    "\n",
    "f, axes = plt.subplots(1, 2, figsize=(12, 6))\n",
    "\n",
    "# Your code here\n",
    "sns.distplot(sal['TotalPay'], ax=axes[0])\n",
    "sns.distplot(sal['TotalPayBenefits'], ax=axes[1])\n",
    "\n",
    "plt.show()"
   ]
  },
  {
   "cell_type": "markdown",
   "metadata": {
    "colab_type": "text",
    "id": "AYQl8xQstFcl"
   },
   "source": [
    "**Analize richest people**"
   ]
  },
  {
   "cell_type": "code",
   "execution_count": 39,
   "metadata": {
    "colab": {
     "base_uri": "https://localhost:8080/",
     "height": 2895
    },
    "colab_type": "code",
    "executionInfo": {
     "elapsed": 866,
     "status": "ok",
     "timestamp": 1557995904637,
     "user": {
      "displayName": "Hai Minh Do",
      "photoUrl": "https://lh6.googleusercontent.com/-ZUlR9wP4IpA/AAAAAAAAAAI/AAAAAAAAAAc/F2ZaIjf8WSY/s64/photo.jpg",
      "userId": "12822549848477954436"
     },
     "user_tz": -420
    },
    "id": "wnr3XVJYPm2U",
    "outputId": "f0259985-1abe-41cf-e008-17a2e6580f32"
   },
   "outputs": [
    {
     "data": {
      "text/html": [
       "<div>\n",
       "<style scoped>\n",
       "    .dataframe tbody tr th:only-of-type {\n",
       "        vertical-align: middle;\n",
       "    }\n",
       "\n",
       "    .dataframe tbody tr th {\n",
       "        vertical-align: top;\n",
       "    }\n",
       "\n",
       "    .dataframe thead th {\n",
       "        text-align: right;\n",
       "    }\n",
       "</style>\n",
       "<table border=\"1\" class=\"dataframe\">\n",
       "  <thead>\n",
       "    <tr style=\"text-align: right;\">\n",
       "      <th></th>\n",
       "      <th>Id</th>\n",
       "      <th>EmployeeName</th>\n",
       "      <th>JobTitle</th>\n",
       "      <th>BasePay</th>\n",
       "      <th>OvertimePay</th>\n",
       "      <th>OtherPay</th>\n",
       "      <th>Benefits</th>\n",
       "      <th>TotalPay</th>\n",
       "      <th>TotalPayBenefits</th>\n",
       "      <th>Year</th>\n",
       "    </tr>\n",
       "  </thead>\n",
       "  <tbody>\n",
       "    <tr>\n",
       "      <th>0</th>\n",
       "      <td>1</td>\n",
       "      <td>NATHANIEL FORD</td>\n",
       "      <td>GENERAL MANAGER-METROPOLITAN TRANSIT AUTHORITY</td>\n",
       "      <td>167411.18</td>\n",
       "      <td>0.00</td>\n",
       "      <td>400184.25</td>\n",
       "      <td>0.00</td>\n",
       "      <td>567595.43</td>\n",
       "      <td>567595.43</td>\n",
       "      <td>2011</td>\n",
       "    </tr>\n",
       "    <tr>\n",
       "      <th>1</th>\n",
       "      <td>2</td>\n",
       "      <td>GARY JIMENEZ</td>\n",
       "      <td>CAPTAIN III (POLICE DEPARTMENT)</td>\n",
       "      <td>155966.02</td>\n",
       "      <td>245131.88</td>\n",
       "      <td>137811.38</td>\n",
       "      <td>0.00</td>\n",
       "      <td>538909.28</td>\n",
       "      <td>538909.28</td>\n",
       "      <td>2011</td>\n",
       "    </tr>\n",
       "    <tr>\n",
       "      <th>2</th>\n",
       "      <td>3</td>\n",
       "      <td>ALBERT PARDINI</td>\n",
       "      <td>CAPTAIN III (POLICE DEPARTMENT)</td>\n",
       "      <td>212739.13</td>\n",
       "      <td>106088.18</td>\n",
       "      <td>16452.60</td>\n",
       "      <td>0.00</td>\n",
       "      <td>335279.91</td>\n",
       "      <td>335279.91</td>\n",
       "      <td>2011</td>\n",
       "    </tr>\n",
       "    <tr>\n",
       "      <th>3</th>\n",
       "      <td>4</td>\n",
       "      <td>CHRISTOPHER CHONG</td>\n",
       "      <td>WIRE ROPE CABLE MAINTENANCE MECHANIC</td>\n",
       "      <td>77916.00</td>\n",
       "      <td>56120.71</td>\n",
       "      <td>198306.90</td>\n",
       "      <td>0.00</td>\n",
       "      <td>332343.61</td>\n",
       "      <td>332343.61</td>\n",
       "      <td>2011</td>\n",
       "    </tr>\n",
       "    <tr>\n",
       "      <th>4</th>\n",
       "      <td>5</td>\n",
       "      <td>PATRICK GARDNER</td>\n",
       "      <td>DEPUTY CHIEF OF DEPARTMENT,(FIRE DEPARTMENT)</td>\n",
       "      <td>134401.60</td>\n",
       "      <td>9737.00</td>\n",
       "      <td>182234.59</td>\n",
       "      <td>0.00</td>\n",
       "      <td>326373.19</td>\n",
       "      <td>326373.19</td>\n",
       "      <td>2011</td>\n",
       "    </tr>\n",
       "    <tr>\n",
       "      <th>5</th>\n",
       "      <td>6</td>\n",
       "      <td>DAVID SULLIVAN</td>\n",
       "      <td>ASSISTANT DEPUTY CHIEF 2</td>\n",
       "      <td>118602.00</td>\n",
       "      <td>8601.00</td>\n",
       "      <td>189082.74</td>\n",
       "      <td>0.00</td>\n",
       "      <td>316285.74</td>\n",
       "      <td>316285.74</td>\n",
       "      <td>2011</td>\n",
       "    </tr>\n",
       "    <tr>\n",
       "      <th>6</th>\n",
       "      <td>7</td>\n",
       "      <td>ALSON LEE</td>\n",
       "      <td>BATTALION CHIEF, (FIRE DEPARTMENT)</td>\n",
       "      <td>92492.01</td>\n",
       "      <td>89062.90</td>\n",
       "      <td>134426.14</td>\n",
       "      <td>0.00</td>\n",
       "      <td>315981.05</td>\n",
       "      <td>315981.05</td>\n",
       "      <td>2011</td>\n",
       "    </tr>\n",
       "    <tr>\n",
       "      <th>7</th>\n",
       "      <td>8</td>\n",
       "      <td>DAVID KUSHNER</td>\n",
       "      <td>DEPUTY DIRECTOR OF INVESTMENTS</td>\n",
       "      <td>256576.96</td>\n",
       "      <td>0.00</td>\n",
       "      <td>51322.50</td>\n",
       "      <td>0.00</td>\n",
       "      <td>307899.46</td>\n",
       "      <td>307899.46</td>\n",
       "      <td>2011</td>\n",
       "    </tr>\n",
       "    <tr>\n",
       "      <th>8</th>\n",
       "      <td>9</td>\n",
       "      <td>MICHAEL MORRIS</td>\n",
       "      <td>BATTALION CHIEF, (FIRE DEPARTMENT)</td>\n",
       "      <td>176932.64</td>\n",
       "      <td>86362.68</td>\n",
       "      <td>40132.23</td>\n",
       "      <td>0.00</td>\n",
       "      <td>303427.55</td>\n",
       "      <td>303427.55</td>\n",
       "      <td>2011</td>\n",
       "    </tr>\n",
       "    <tr>\n",
       "      <th>9</th>\n",
       "      <td>10</td>\n",
       "      <td>JOANNE HAYES-WHITE</td>\n",
       "      <td>CHIEF OF DEPARTMENT, (FIRE DEPARTMENT)</td>\n",
       "      <td>285262.00</td>\n",
       "      <td>0.00</td>\n",
       "      <td>17115.73</td>\n",
       "      <td>0.00</td>\n",
       "      <td>302377.73</td>\n",
       "      <td>302377.73</td>\n",
       "      <td>2011</td>\n",
       "    </tr>\n",
       "    <tr>\n",
       "      <th>36159</th>\n",
       "      <td>36160</td>\n",
       "      <td>GARY ALTENBERG</td>\n",
       "      <td>LIEUTENANT, FIRE SUPPRESSION</td>\n",
       "      <td>128808.87</td>\n",
       "      <td>220909.48</td>\n",
       "      <td>13126.31</td>\n",
       "      <td>44430.12</td>\n",
       "      <td>362844.66</td>\n",
       "      <td>407274.78</td>\n",
       "      <td>2012</td>\n",
       "    </tr>\n",
       "    <tr>\n",
       "      <th>36160</th>\n",
       "      <td>36161</td>\n",
       "      <td>GREGORY SUHR</td>\n",
       "      <td>CHIEF OF POLICE</td>\n",
       "      <td>302578.00</td>\n",
       "      <td>0.00</td>\n",
       "      <td>18974.11</td>\n",
       "      <td>69810.19</td>\n",
       "      <td>321552.11</td>\n",
       "      <td>391362.30</td>\n",
       "      <td>2012</td>\n",
       "    </tr>\n",
       "    <tr>\n",
       "      <th>36161</th>\n",
       "      <td>36162</td>\n",
       "      <td>KHOA TRINH</td>\n",
       "      <td>ELECTRONIC MAINTENANCE TECH</td>\n",
       "      <td>111921.00</td>\n",
       "      <td>146415.32</td>\n",
       "      <td>78057.41</td>\n",
       "      <td>53102.29</td>\n",
       "      <td>336393.73</td>\n",
       "      <td>389496.02</td>\n",
       "      <td>2012</td>\n",
       "    </tr>\n",
       "    <tr>\n",
       "      <th>36162</th>\n",
       "      <td>36163</td>\n",
       "      <td>JOANNE HAYES-WHITE</td>\n",
       "      <td>CHIEF, FIRE DEPARTMENT</td>\n",
       "      <td>296943.01</td>\n",
       "      <td>0.00</td>\n",
       "      <td>17816.59</td>\n",
       "      <td>72047.88</td>\n",
       "      <td>314759.60</td>\n",
       "      <td>386807.48</td>\n",
       "      <td>2012</td>\n",
       "    </tr>\n",
       "    <tr>\n",
       "      <th>36163</th>\n",
       "      <td>36164</td>\n",
       "      <td>FREDERICK BINKLEY</td>\n",
       "      <td>EMT/PARAMEDIC/FIREFIGHTER</td>\n",
       "      <td>126863.19</td>\n",
       "      <td>192424.49</td>\n",
       "      <td>17917.18</td>\n",
       "      <td>44438.25</td>\n",
       "      <td>337204.86</td>\n",
       "      <td>381643.11</td>\n",
       "      <td>2012</td>\n",
       "    </tr>\n",
       "    <tr>\n",
       "      <th>36164</th>\n",
       "      <td>36165</td>\n",
       "      <td>AMY HART</td>\n",
       "      <td>DEPT HEAD 5</td>\n",
       "      <td>271607.74</td>\n",
       "      <td>0.00</td>\n",
       "      <td>19782.03</td>\n",
       "      <td>84681.82</td>\n",
       "      <td>291389.77</td>\n",
       "      <td>376071.59</td>\n",
       "      <td>2012</td>\n",
       "    </tr>\n",
       "    <tr>\n",
       "      <th>36165</th>\n",
       "      <td>36166</td>\n",
       "      <td>EDWARD REISKIN</td>\n",
       "      <td>GEN MGR, PUBLIC TRNSP DEPT</td>\n",
       "      <td>294000.17</td>\n",
       "      <td>0.00</td>\n",
       "      <td>0.00</td>\n",
       "      <td>82001.94</td>\n",
       "      <td>294000.17</td>\n",
       "      <td>376002.11</td>\n",
       "      <td>2012</td>\n",
       "    </tr>\n",
       "    <tr>\n",
       "      <th>36166</th>\n",
       "      <td>36167</td>\n",
       "      <td>JOHN MARTIN</td>\n",
       "      <td>DEPT HEAD 5</td>\n",
       "      <td>287747.89</td>\n",
       "      <td>0.00</td>\n",
       "      <td>5274.57</td>\n",
       "      <td>81824.37</td>\n",
       "      <td>293022.46</td>\n",
       "      <td>374846.83</td>\n",
       "      <td>2012</td>\n",
       "    </tr>\n",
       "    <tr>\n",
       "      <th>36167</th>\n",
       "      <td>36168</td>\n",
       "      <td>JOHN GOLDBERG</td>\n",
       "      <td>CAPTAIN 3</td>\n",
       "      <td>104404.00</td>\n",
       "      <td>0.00</td>\n",
       "      <td>245999.41</td>\n",
       "      <td>24287.23</td>\n",
       "      <td>350403.41</td>\n",
       "      <td>374690.64</td>\n",
       "      <td>2012</td>\n",
       "    </tr>\n",
       "    <tr>\n",
       "      <th>36168</th>\n",
       "      <td>36169</td>\n",
       "      <td>DAVID FRANKLIN</td>\n",
       "      <td>ASST CHF OF DEPT (FIRE DEPT)</td>\n",
       "      <td>204032.52</td>\n",
       "      <td>85503.16</td>\n",
       "      <td>26193.09</td>\n",
       "      <td>58486.10</td>\n",
       "      <td>315728.77</td>\n",
       "      <td>374214.87</td>\n",
       "      <td>2012</td>\n",
       "    </tr>\n",
       "    <tr>\n",
       "      <th>36169</th>\n",
       "      <td>36170</td>\n",
       "      <td>BRENDAN WARD</td>\n",
       "      <td>BATTLION CHIEF, FIRE SUPPRESSI</td>\n",
       "      <td>174822.47</td>\n",
       "      <td>118215.58</td>\n",
       "      <td>28845.78</td>\n",
       "      <td>49648.09</td>\n",
       "      <td>321883.83</td>\n",
       "      <td>371531.92</td>\n",
       "      <td>2012</td>\n",
       "    </tr>\n",
       "    <tr>\n",
       "      <th>36170</th>\n",
       "      <td>36171</td>\n",
       "      <td>SAMSON LAI</td>\n",
       "      <td>BATTLION CHIEF, FIRE SUPPRESSI</td>\n",
       "      <td>174822.44</td>\n",
       "      <td>112731.28</td>\n",
       "      <td>28660.28</td>\n",
       "      <td>53249.56</td>\n",
       "      <td>316214.00</td>\n",
       "      <td>369463.56</td>\n",
       "      <td>2012</td>\n",
       "    </tr>\n",
       "    <tr>\n",
       "      <th>36171</th>\n",
       "      <td>36172</td>\n",
       "      <td>RUDY CASTELLANOS</td>\n",
       "      <td>BATTLION CHIEF, FIRE SUPPRESSI</td>\n",
       "      <td>176771.74</td>\n",
       "      <td>124413.13</td>\n",
       "      <td>15803.39</td>\n",
       "      <td>52320.90</td>\n",
       "      <td>316988.26</td>\n",
       "      <td>369309.16</td>\n",
       "      <td>2012</td>\n",
       "    </tr>\n",
       "    <tr>\n",
       "      <th>36172</th>\n",
       "      <td>36173</td>\n",
       "      <td>MARTY ROSS</td>\n",
       "      <td>BATTLION CHIEF, FIRE SUPPRESSI</td>\n",
       "      <td>174822.41</td>\n",
       "      <td>99623.51</td>\n",
       "      <td>36522.39</td>\n",
       "      <td>55353.92</td>\n",
       "      <td>310968.31</td>\n",
       "      <td>366322.23</td>\n",
       "      <td>2012</td>\n",
       "    </tr>\n",
       "    <tr>\n",
       "      <th>36173</th>\n",
       "      <td>36174</td>\n",
       "      <td>MARK KEARNEY</td>\n",
       "      <td>ASSISTANT DEPUTY CHIEF 2</td>\n",
       "      <td>124573.50</td>\n",
       "      <td>22599.60</td>\n",
       "      <td>180516.68</td>\n",
       "      <td>32381.00</td>\n",
       "      <td>327689.78</td>\n",
       "      <td>360070.78</td>\n",
       "      <td>2012</td>\n",
       "    </tr>\n",
       "    <tr>\n",
       "      <th>36174</th>\n",
       "      <td>36175</td>\n",
       "      <td>LEDA ROZIER</td>\n",
       "      <td>TRANSIT MANAGER 2</td>\n",
       "      <td>98211.01</td>\n",
       "      <td>0.00</td>\n",
       "      <td>200951.30</td>\n",
       "      <td>60285.44</td>\n",
       "      <td>299162.31</td>\n",
       "      <td>359447.75</td>\n",
       "      <td>2012</td>\n",
       "    </tr>\n",
       "    <tr>\n",
       "      <th>36175</th>\n",
       "      <td>36176</td>\n",
       "      <td>ELLEN MOFFATT</td>\n",
       "      <td>ASST MED EXAMINER</td>\n",
       "      <td>260528.26</td>\n",
       "      <td>3394.90</td>\n",
       "      <td>20400.00</td>\n",
       "      <td>73017.12</td>\n",
       "      <td>284323.16</td>\n",
       "      <td>357340.28</td>\n",
       "      <td>2012</td>\n",
       "    </tr>\n",
       "    <tr>\n",
       "      <th>36176</th>\n",
       "      <td>36177</td>\n",
       "      <td>RAYMOND GUZMAN</td>\n",
       "      <td>DEP CHF OF DEPT (FIRE DEPT)</td>\n",
       "      <td>244102.02</td>\n",
       "      <td>24204.66</td>\n",
       "      <td>20232.29</td>\n",
       "      <td>64702.72</td>\n",
       "      <td>288538.97</td>\n",
       "      <td>353241.69</td>\n",
       "      <td>2012</td>\n",
       "    </tr>\n",
       "    <tr>\n",
       "      <th>36177</th>\n",
       "      <td>36178</td>\n",
       "      <td>EDWARD HARRINGTON</td>\n",
       "      <td>EXECUTIVE CONTRACT EMPLOYEE</td>\n",
       "      <td>232815.01</td>\n",
       "      <td>0.00</td>\n",
       "      <td>51564.01</td>\n",
       "      <td>67667.09</td>\n",
       "      <td>284379.02</td>\n",
       "      <td>352046.11</td>\n",
       "      <td>2012</td>\n",
       "    </tr>\n",
       "    <tr>\n",
       "      <th>36178</th>\n",
       "      <td>36179</td>\n",
       "      <td>JUDY MELINEK</td>\n",
       "      <td>ASST MED EXAMINER</td>\n",
       "      <td>260528.15</td>\n",
       "      <td>377.21</td>\n",
       "      <td>18425.37</td>\n",
       "      <td>72286.35</td>\n",
       "      <td>279330.73</td>\n",
       "      <td>351617.08</td>\n",
       "      <td>2012</td>\n",
       "    </tr>\n",
       "    <tr>\n",
       "      <th>...</th>\n",
       "      <td>...</td>\n",
       "      <td>...</td>\n",
       "      <td>...</td>\n",
       "      <td>...</td>\n",
       "      <td>...</td>\n",
       "      <td>...</td>\n",
       "      <td>...</td>\n",
       "      <td>...</td>\n",
       "      <td>...</td>\n",
       "      <td>...</td>\n",
       "    </tr>\n",
       "    <tr>\n",
       "      <th>110592</th>\n",
       "      <td>110593</td>\n",
       "      <td>RAEMONA E WILLIAMS</td>\n",
       "      <td>BATTALION CHIEF, FIRE SUPPRESS</td>\n",
       "      <td>227252.87</td>\n",
       "      <td>2742.76</td>\n",
       "      <td>18620.41</td>\n",
       "      <td>65337.63</td>\n",
       "      <td>248616.04</td>\n",
       "      <td>313953.67</td>\n",
       "      <td>2014</td>\n",
       "    </tr>\n",
       "    <tr>\n",
       "      <th>110593</th>\n",
       "      <td>110594</td>\n",
       "      <td>ROMELIA C SCOTT</td>\n",
       "      <td>FIREFIGHTER</td>\n",
       "      <td>112703.73</td>\n",
       "      <td>134077.58</td>\n",
       "      <td>23626.96</td>\n",
       "      <td>43240.04</td>\n",
       "      <td>270408.27</td>\n",
       "      <td>313648.31</td>\n",
       "      <td>2014</td>\n",
       "    </tr>\n",
       "    <tr>\n",
       "      <th>110594</th>\n",
       "      <td>110595</td>\n",
       "      <td>GREGORY CORRALES</td>\n",
       "      <td>CAPTAIN 3</td>\n",
       "      <td>87324.00</td>\n",
       "      <td>0.00</td>\n",
       "      <td>199112.35</td>\n",
       "      <td>24960.45</td>\n",
       "      <td>286436.35</td>\n",
       "      <td>311396.80</td>\n",
       "      <td>2014</td>\n",
       "    </tr>\n",
       "    <tr>\n",
       "      <th>110595</th>\n",
       "      <td>110596</td>\n",
       "      <td>GEORGE FOURAS</td>\n",
       "      <td>SENIOR PHYSICIAN SPECIALIST</td>\n",
       "      <td>205331.77</td>\n",
       "      <td>0.00</td>\n",
       "      <td>41434.76</td>\n",
       "      <td>64305.43</td>\n",
       "      <td>246766.53</td>\n",
       "      <td>311071.96</td>\n",
       "      <td>2014</td>\n",
       "    </tr>\n",
       "    <tr>\n",
       "      <th>110596</th>\n",
       "      <td>110597</td>\n",
       "      <td>EMILIO CRUZ</td>\n",
       "      <td>EXECUTIVE CONTRACT EMPLOYEE</td>\n",
       "      <td>246928.40</td>\n",
       "      <td>0.00</td>\n",
       "      <td>0.00</td>\n",
       "      <td>63923.67</td>\n",
       "      <td>246928.40</td>\n",
       "      <td>310852.07</td>\n",
       "      <td>2014</td>\n",
       "    </tr>\n",
       "    <tr>\n",
       "      <th>110597</th>\n",
       "      <td>110598</td>\n",
       "      <td>DALE C CARNES</td>\n",
       "      <td>CAPTAIN, FIRE SUPPRESSION</td>\n",
       "      <td>230386.03</td>\n",
       "      <td>0.00</td>\n",
       "      <td>14512.16</td>\n",
       "      <td>64814.42</td>\n",
       "      <td>244898.19</td>\n",
       "      <td>309712.61</td>\n",
       "      <td>2014</td>\n",
       "    </tr>\n",
       "    <tr>\n",
       "      <th>110598</th>\n",
       "      <td>110599</td>\n",
       "      <td>TOMAS J ARAGON</td>\n",
       "      <td>MANAGER 8</td>\n",
       "      <td>226821.67</td>\n",
       "      <td>0.00</td>\n",
       "      <td>14569.23</td>\n",
       "      <td>68016.90</td>\n",
       "      <td>241390.90</td>\n",
       "      <td>309407.80</td>\n",
       "      <td>2014</td>\n",
       "    </tr>\n",
       "    <tr>\n",
       "      <th>110599</th>\n",
       "      <td>110600</td>\n",
       "      <td>LESLIE A DUBBIN</td>\n",
       "      <td>NURSING SUPERVISOR</td>\n",
       "      <td>199104.00</td>\n",
       "      <td>0.00</td>\n",
       "      <td>47099.71</td>\n",
       "      <td>62967.21</td>\n",
       "      <td>246203.71</td>\n",
       "      <td>309170.92</td>\n",
       "      <td>2014</td>\n",
       "    </tr>\n",
       "    <tr>\n",
       "      <th>110600</th>\n",
       "      <td>110601</td>\n",
       "      <td>CHARLES CRANE</td>\n",
       "      <td>BATTALION CHIEF, FIRE SUPPRESS</td>\n",
       "      <td>179464.22</td>\n",
       "      <td>39232.60</td>\n",
       "      <td>31782.54</td>\n",
       "      <td>58678.04</td>\n",
       "      <td>250479.36</td>\n",
       "      <td>309157.40</td>\n",
       "      <td>2014</td>\n",
       "    </tr>\n",
       "    <tr>\n",
       "      <th>110601</th>\n",
       "      <td>110602</td>\n",
       "      <td>MICHIE L WONG</td>\n",
       "      <td>LIEUT,FIRE PREV</td>\n",
       "      <td>230386.01</td>\n",
       "      <td>0.00</td>\n",
       "      <td>13823.16</td>\n",
       "      <td>64939.79</td>\n",
       "      <td>244209.17</td>\n",
       "      <td>309148.96</td>\n",
       "      <td>2014</td>\n",
       "    </tr>\n",
       "    <tr>\n",
       "      <th>110602</th>\n",
       "      <td>110603</td>\n",
       "      <td>IVAR C SATERO</td>\n",
       "      <td>DEP DIR 5</td>\n",
       "      <td>235462.09</td>\n",
       "      <td>0.00</td>\n",
       "      <td>0.00</td>\n",
       "      <td>73614.57</td>\n",
       "      <td>235462.09</td>\n",
       "      <td>309076.66</td>\n",
       "      <td>2014</td>\n",
       "    </tr>\n",
       "    <tr>\n",
       "      <th>110603</th>\n",
       "      <td>110604</td>\n",
       "      <td>ANA C SAMPERA</td>\n",
       "      <td>NURSING SUPERVISOR</td>\n",
       "      <td>205280.01</td>\n",
       "      <td>0.00</td>\n",
       "      <td>37590.20</td>\n",
       "      <td>65716.83</td>\n",
       "      <td>242870.21</td>\n",
       "      <td>308587.04</td>\n",
       "      <td>2014</td>\n",
       "    </tr>\n",
       "    <tr>\n",
       "      <th>110604</th>\n",
       "      <td>110605</td>\n",
       "      <td>JOHN A HICKEY</td>\n",
       "      <td>BATTALION CHIEF, FIRE SUPPRESS</td>\n",
       "      <td>177771.13</td>\n",
       "      <td>40640.32</td>\n",
       "      <td>30613.76</td>\n",
       "      <td>58498.47</td>\n",
       "      <td>249025.21</td>\n",
       "      <td>307523.68</td>\n",
       "      <td>2014</td>\n",
       "    </tr>\n",
       "    <tr>\n",
       "      <th>110605</th>\n",
       "      <td>110606</td>\n",
       "      <td>DENISE L NEWMAN</td>\n",
       "      <td>BATTALION CHIEF, FIRE SUPPRESS</td>\n",
       "      <td>179464.20</td>\n",
       "      <td>42739.00</td>\n",
       "      <td>25082.63</td>\n",
       "      <td>59634.58</td>\n",
       "      <td>247285.83</td>\n",
       "      <td>306920.41</td>\n",
       "      <td>2014</td>\n",
       "    </tr>\n",
       "    <tr>\n",
       "      <th>110606</th>\n",
       "      <td>110607</td>\n",
       "      <td>NELA C PONFERRADA</td>\n",
       "      <td>NURSING SUPERVISOR</td>\n",
       "      <td>205280.00</td>\n",
       "      <td>0.00</td>\n",
       "      <td>37590.20</td>\n",
       "      <td>62671.31</td>\n",
       "      <td>242870.20</td>\n",
       "      <td>305541.51</td>\n",
       "      <td>2014</td>\n",
       "    </tr>\n",
       "    <tr>\n",
       "      <th>110607</th>\n",
       "      <td>110608</td>\n",
       "      <td>JOHN S RAHAIM</td>\n",
       "      <td>DEPT HEAD 4</td>\n",
       "      <td>232489.33</td>\n",
       "      <td>0.00</td>\n",
       "      <td>0.00</td>\n",
       "      <td>72233.72</td>\n",
       "      <td>232489.33</td>\n",
       "      <td>304723.05</td>\n",
       "      <td>2014</td>\n",
       "    </tr>\n",
       "    <tr>\n",
       "      <th>110608</th>\n",
       "      <td>110609</td>\n",
       "      <td>TERENCE E WOO</td>\n",
       "      <td>FIREFIGHTER</td>\n",
       "      <td>111640.48</td>\n",
       "      <td>127698.35</td>\n",
       "      <td>21604.79</td>\n",
       "      <td>43610.42</td>\n",
       "      <td>260943.62</td>\n",
       "      <td>304554.04</td>\n",
       "      <td>2014</td>\n",
       "    </tr>\n",
       "    <tr>\n",
       "      <th>110609</th>\n",
       "      <td>110610</td>\n",
       "      <td>DENNIS J HERRERA</td>\n",
       "      <td>CITY ATTORNEY</td>\n",
       "      <td>231523.83</td>\n",
       "      <td>0.00</td>\n",
       "      <td>0.00</td>\n",
       "      <td>72593.84</td>\n",
       "      <td>231523.83</td>\n",
       "      <td>304117.67</td>\n",
       "      <td>2014</td>\n",
       "    </tr>\n",
       "    <tr>\n",
       "      <th>110610</th>\n",
       "      <td>110611</td>\n",
       "      <td>GERALD K MANSUR</td>\n",
       "      <td>EMT/PARAMEDIC/FIREFIGHTER</td>\n",
       "      <td>129037.14</td>\n",
       "      <td>111884.75</td>\n",
       "      <td>16129.63</td>\n",
       "      <td>47012.64</td>\n",
       "      <td>257051.52</td>\n",
       "      <td>304064.16</td>\n",
       "      <td>2014</td>\n",
       "    </tr>\n",
       "    <tr>\n",
       "      <th>110611</th>\n",
       "      <td>110612</td>\n",
       "      <td>MICHAEL I THOMPSON</td>\n",
       "      <td>BATTALION CHIEF, FIRE SUPPRESS</td>\n",
       "      <td>179464.22</td>\n",
       "      <td>50039.97</td>\n",
       "      <td>16160.22</td>\n",
       "      <td>57811.77</td>\n",
       "      <td>245664.41</td>\n",
       "      <td>303476.18</td>\n",
       "      <td>2014</td>\n",
       "    </tr>\n",
       "    <tr>\n",
       "      <th>110612</th>\n",
       "      <td>110613</td>\n",
       "      <td>REX J HALE</td>\n",
       "      <td>BATTALION CHIEF, FIRE SUPPRESS</td>\n",
       "      <td>179464.22</td>\n",
       "      <td>37039.89</td>\n",
       "      <td>26894.45</td>\n",
       "      <td>59996.26</td>\n",
       "      <td>243398.56</td>\n",
       "      <td>303394.82</td>\n",
       "      <td>2014</td>\n",
       "    </tr>\n",
       "    <tr>\n",
       "      <th>110613</th>\n",
       "      <td>110614</td>\n",
       "      <td>ALBERT YU</td>\n",
       "      <td>MANAGER 8</td>\n",
       "      <td>231435.01</td>\n",
       "      <td>0.00</td>\n",
       "      <td>0.00</td>\n",
       "      <td>71499.66</td>\n",
       "      <td>231435.01</td>\n",
       "      <td>302934.67</td>\n",
       "      <td>2014</td>\n",
       "    </tr>\n",
       "    <tr>\n",
       "      <th>110614</th>\n",
       "      <td>110615</td>\n",
       "      <td>SHANNON S HEINTZ</td>\n",
       "      <td>ANESTHETIST</td>\n",
       "      <td>213558.05</td>\n",
       "      <td>3773.32</td>\n",
       "      <td>18588.58</td>\n",
       "      <td>66844.67</td>\n",
       "      <td>235919.95</td>\n",
       "      <td>302764.62</td>\n",
       "      <td>2014</td>\n",
       "    </tr>\n",
       "    <tr>\n",
       "      <th>110615</th>\n",
       "      <td>110616</td>\n",
       "      <td>SAMUEL ROMERO</td>\n",
       "      <td>BATTALION CHIEF, FIRE SUPPRESS</td>\n",
       "      <td>179464.20</td>\n",
       "      <td>38802.15</td>\n",
       "      <td>24701.63</td>\n",
       "      <td>59547.42</td>\n",
       "      <td>242967.98</td>\n",
       "      <td>302515.40</td>\n",
       "      <td>2014</td>\n",
       "    </tr>\n",
       "    <tr>\n",
       "      <th>110616</th>\n",
       "      <td>110617</td>\n",
       "      <td>ALEXANDER CHEN</td>\n",
       "      <td>SENIOR PHYSICIAN SPECIALIST</td>\n",
       "      <td>198874.01</td>\n",
       "      <td>0.00</td>\n",
       "      <td>40826.32</td>\n",
       "      <td>62701.48</td>\n",
       "      <td>239700.33</td>\n",
       "      <td>302401.81</td>\n",
       "      <td>2014</td>\n",
       "    </tr>\n",
       "    <tr>\n",
       "      <th>110617</th>\n",
       "      <td>110618</td>\n",
       "      <td>JAY K DOWKE</td>\n",
       "      <td>POLICE OFFICER 3</td>\n",
       "      <td>100148.75</td>\n",
       "      <td>15716.42</td>\n",
       "      <td>152037.57</td>\n",
       "      <td>33847.07</td>\n",
       "      <td>267902.74</td>\n",
       "      <td>301749.81</td>\n",
       "      <td>2014</td>\n",
       "    </tr>\n",
       "    <tr>\n",
       "      <th>110618</th>\n",
       "      <td>110619</td>\n",
       "      <td>EDWARD Y CHU</td>\n",
       "      <td>LIEUTENANT, FIRE SUPPRESSION</td>\n",
       "      <td>129817.24</td>\n",
       "      <td>108123.01</td>\n",
       "      <td>16979.29</td>\n",
       "      <td>46748.39</td>\n",
       "      <td>254919.54</td>\n",
       "      <td>301667.93</td>\n",
       "      <td>2014</td>\n",
       "    </tr>\n",
       "    <tr>\n",
       "      <th>110619</th>\n",
       "      <td>110620</td>\n",
       "      <td>MATTHEW J MCNAUGHTON</td>\n",
       "      <td>ASST CHF OF DEPT (FIRE DEPT)</td>\n",
       "      <td>205480.80</td>\n",
       "      <td>0.00</td>\n",
       "      <td>29794.80</td>\n",
       "      <td>65881.22</td>\n",
       "      <td>235275.60</td>\n",
       "      <td>301156.82</td>\n",
       "      <td>2014</td>\n",
       "    </tr>\n",
       "    <tr>\n",
       "      <th>110620</th>\n",
       "      <td>110621</td>\n",
       "      <td>MADONNA P VALENCIA</td>\n",
       "      <td>MANAGER, DEPT PUBLIC HEALTH</td>\n",
       "      <td>201305.83</td>\n",
       "      <td>0.00</td>\n",
       "      <td>37292.77</td>\n",
       "      <td>62477.06</td>\n",
       "      <td>238598.60</td>\n",
       "      <td>301075.66</td>\n",
       "      <td>2014</td>\n",
       "    </tr>\n",
       "    <tr>\n",
       "      <th>110621</th>\n",
       "      <td>110622</td>\n",
       "      <td>ROSS B MIRKARIMI</td>\n",
       "      <td>SHERIFF (SFERS)</td>\n",
       "      <td>215629.23</td>\n",
       "      <td>0.00</td>\n",
       "      <td>12937.66</td>\n",
       "      <td>71962.27</td>\n",
       "      <td>228566.89</td>\n",
       "      <td>300529.16</td>\n",
       "      <td>2014</td>\n",
       "    </tr>\n",
       "  </tbody>\n",
       "</table>\n",
       "<p>289 rows × 10 columns</p>\n",
       "</div>"
      ],
      "text/plain": [
       "            Id          EmployeeName  ... TotalPayBenefits  Year\n",
       "0            1        NATHANIEL FORD  ...        567595.43  2011\n",
       "1            2          GARY JIMENEZ  ...        538909.28  2011\n",
       "2            3        ALBERT PARDINI  ...        335279.91  2011\n",
       "3            4     CHRISTOPHER CHONG  ...        332343.61  2011\n",
       "4            5       PATRICK GARDNER  ...        326373.19  2011\n",
       "5            6        DAVID SULLIVAN  ...        316285.74  2011\n",
       "6            7             ALSON LEE  ...        315981.05  2011\n",
       "7            8         DAVID KUSHNER  ...        307899.46  2011\n",
       "8            9        MICHAEL MORRIS  ...        303427.55  2011\n",
       "9           10    JOANNE HAYES-WHITE  ...        302377.73  2011\n",
       "36159    36160        GARY ALTENBERG  ...        407274.78  2012\n",
       "36160    36161          GREGORY SUHR  ...        391362.30  2012\n",
       "36161    36162            KHOA TRINH  ...        389496.02  2012\n",
       "36162    36163    JOANNE HAYES-WHITE  ...        386807.48  2012\n",
       "36163    36164     FREDERICK BINKLEY  ...        381643.11  2012\n",
       "36164    36165              AMY HART  ...        376071.59  2012\n",
       "36165    36166        EDWARD REISKIN  ...        376002.11  2012\n",
       "36166    36167           JOHN MARTIN  ...        374846.83  2012\n",
       "36167    36168         JOHN GOLDBERG  ...        374690.64  2012\n",
       "36168    36169        DAVID FRANKLIN  ...        374214.87  2012\n",
       "36169    36170          BRENDAN WARD  ...        371531.92  2012\n",
       "36170    36171            SAMSON LAI  ...        369463.56  2012\n",
       "36171    36172      RUDY CASTELLANOS  ...        369309.16  2012\n",
       "36172    36173            MARTY ROSS  ...        366322.23  2012\n",
       "36173    36174          MARK KEARNEY  ...        360070.78  2012\n",
       "36174    36175           LEDA ROZIER  ...        359447.75  2012\n",
       "36175    36176         ELLEN MOFFATT  ...        357340.28  2012\n",
       "36176    36177        RAYMOND GUZMAN  ...        353241.69  2012\n",
       "36177    36178     EDWARD HARRINGTON  ...        352046.11  2012\n",
       "36178    36179          JUDY MELINEK  ...        351617.08  2012\n",
       "...        ...                   ...  ...              ...   ...\n",
       "110592  110593    RAEMONA E WILLIAMS  ...        313953.67  2014\n",
       "110593  110594       ROMELIA C SCOTT  ...        313648.31  2014\n",
       "110594  110595      GREGORY CORRALES  ...        311396.80  2014\n",
       "110595  110596         GEORGE FOURAS  ...        311071.96  2014\n",
       "110596  110597           EMILIO CRUZ  ...        310852.07  2014\n",
       "110597  110598         DALE C CARNES  ...        309712.61  2014\n",
       "110598  110599        TOMAS J ARAGON  ...        309407.80  2014\n",
       "110599  110600       LESLIE A DUBBIN  ...        309170.92  2014\n",
       "110600  110601         CHARLES CRANE  ...        309157.40  2014\n",
       "110601  110602         MICHIE L WONG  ...        309148.96  2014\n",
       "110602  110603         IVAR C SATERO  ...        309076.66  2014\n",
       "110603  110604         ANA C SAMPERA  ...        308587.04  2014\n",
       "110604  110605         JOHN A HICKEY  ...        307523.68  2014\n",
       "110605  110606       DENISE L NEWMAN  ...        306920.41  2014\n",
       "110606  110607     NELA C PONFERRADA  ...        305541.51  2014\n",
       "110607  110608         JOHN S RAHAIM  ...        304723.05  2014\n",
       "110608  110609         TERENCE E WOO  ...        304554.04  2014\n",
       "110609  110610      DENNIS J HERRERA  ...        304117.67  2014\n",
       "110610  110611       GERALD K MANSUR  ...        304064.16  2014\n",
       "110611  110612    MICHAEL I THOMPSON  ...        303476.18  2014\n",
       "110612  110613            REX J HALE  ...        303394.82  2014\n",
       "110613  110614             ALBERT YU  ...        302934.67  2014\n",
       "110614  110615      SHANNON S HEINTZ  ...        302764.62  2014\n",
       "110615  110616         SAMUEL ROMERO  ...        302515.40  2014\n",
       "110616  110617        ALEXANDER CHEN  ...        302401.81  2014\n",
       "110617  110618           JAY K DOWKE  ...        301749.81  2014\n",
       "110618  110619          EDWARD Y CHU  ...        301667.93  2014\n",
       "110619  110620  MATTHEW J MCNAUGHTON  ...        301156.82  2014\n",
       "110620  110621    MADONNA P VALENCIA  ...        301075.66  2014\n",
       "110621  110622      ROSS B MIRKARIMI  ...        300529.16  2014\n",
       "\n",
       "[289 rows x 10 columns]"
      ]
     },
     "execution_count": 39,
     "metadata": {
      "tags": []
     },
     "output_type": "execute_result"
    }
   ],
   "source": [
    "# Select people that have TotalPayBenefit greater than $300k\n",
    "# Your code here\n",
    "sal[sal['TotalPayBenefits'] > 300000]"
   ]
  },
  {
   "cell_type": "code",
   "execution_count": 0,
   "metadata": {
    "colab": {},
    "colab_type": "code",
    "id": "Qc4DYmaNPm2Y"
   },
   "outputs": [],
   "source": [
    "def split_income_type(n):\n",
    "    if n < 1000:\n",
    "        return 'Retired'\n",
    "    elif n < 50000:\n",
    "        return 'Low Income'\n",
    "    elif n < 150000:\n",
    "        return 'Midrange'\n",
    "    elif n < 250000:\n",
    "        return 'High Income'\n",
    "    else:\n",
    "        return 'Millionaire'"
   ]
  },
  {
   "cell_type": "code",
   "execution_count": 0,
   "metadata": {
    "colab": {},
    "colab_type": "code",
    "id": "ndS0LG9_tX0Y"
   },
   "outputs": [],
   "source": [
    "# Apply the function above to create a new column name IncomeType from TotalPayBenefits\n",
    "# Fill the blank\n",
    "sal['IncomeType'] = sal['TotalPayBenefits'].apply(split_income_type)"
   ]
  },
  {
   "cell_type": "code",
   "execution_count": 42,
   "metadata": {
    "colab": {
     "base_uri": "https://localhost:8080/",
     "height": 301
    },
    "colab_type": "code",
    "executionInfo": {
     "elapsed": 877,
     "status": "ok",
     "timestamp": 1557995928646,
     "user": {
      "displayName": "Hai Minh Do",
      "photoUrl": "https://lh6.googleusercontent.com/-ZUlR9wP4IpA/AAAAAAAAAAI/AAAAAAAAAAc/F2ZaIjf8WSY/s64/photo.jpg",
      "userId": "12822549848477954436"
     },
     "user_tz": -420
    },
    "id": "Uh8VVB1nPm2a",
    "outputId": "062936d0-3866-4aca-e427-a3c1344fe448"
   },
   "outputs": [
    {
     "data": {
      "text/plain": [
       "<matplotlib.axes._subplots.AxesSubplot at 0x7fbb4cf50e80>"
      ]
     },
     "execution_count": 42,
     "metadata": {
      "tags": []
     },
     "output_type": "execute_result"
    },
    {
     "data": {
      "image/png": "[encoded data removed]",
      "text/plain": [
       "<Figure size 432x288 with 1 Axes>"
      ]
     },
     "metadata": {
      "tags": []
     },
     "output_type": "display_data"
    }
   ],
   "source": [
    "sns.countplot(sal['IncomeType'])\n",
    "# What can you tell?"
   ]
  },
  {
   "cell_type": "code",
   "execution_count": 43,
   "metadata": {
    "colab": {
     "base_uri": "https://localhost:8080/",
     "height": 297
    },
    "colab_type": "code",
    "executionInfo": {
     "elapsed": 1023,
     "status": "ok",
     "timestamp": 1557995933903,
     "user": {
      "displayName": "Hai Minh Do",
      "photoUrl": "https://lh6.googleusercontent.com/-ZUlR9wP4IpA/AAAAAAAAAAI/AAAAAAAAAAc/F2ZaIjf8WSY/s64/photo.jpg",
      "userId": "12822549848477954436"
     },
     "user_tz": -420
    },
    "id": "iQtknDUIPm2e",
    "outputId": "6bd54408-6d4e-467d-d97c-c811c4d5cd01"
   },
   "outputs": [
    {
     "data": {
      "image/png": "[encoded data removed]",
      "text/plain": [
       "<Figure size 432x288 with 1 Axes>"
      ]
     },
     "metadata": {
      "tags": []
     },
     "output_type": "display_data"
    }
   ],
   "source": [
    "# Pie chart\n",
    "labels = []\n",
    "sizes = []\n",
    "explode = []\n",
    "\n",
    "labels = sal['IncomeType'].value_counts().index\n",
    "for index, size in enumerate(sal['IncomeType'].value_counts()):\n",
    "    sizes.append(size)\n",
    "    if labels[index]=='Millionaire':\n",
    "        explode.append(0.2)\n",
    "    else: # add high income too?\n",
    "        explode.append(0)\n",
    " \n",
    "f, ax1 = plt.subplots()\n",
    "ax1.pie(sizes, explode=explode, labels=labels, autopct='%1.1f%%',\n",
    "        shadow=True, startangle=45)\n",
    "# Equal aspect ratio ensures that pie is drawn as a circle\n",
    "ax1.axis('equal')  \n",
    "plt.tight_layout()\n",
    "plt.show()"
   ]
  },
  {
   "cell_type": "code",
   "execution_count": 44,
   "metadata": {
    "colab": {
     "base_uri": "https://localhost:8080/",
     "height": 286
    },
    "colab_type": "code",
    "executionInfo": {
     "elapsed": 1013,
     "status": "ok",
     "timestamp": 1557995983256,
     "user": {
      "displayName": "Hai Minh Do",
      "photoUrl": "https://lh6.googleusercontent.com/-ZUlR9wP4IpA/AAAAAAAAAAI/AAAAAAAAAAc/F2ZaIjf8WSY/s64/photo.jpg",
      "userId": "12822549848477954436"
     },
     "user_tz": -420
    },
    "id": "pbAUA-kgPm20",
    "outputId": "2394f784-c214-40f3-c07d-610681668eae"
   },
   "outputs": [
    {
     "data": {
      "text/plain": [
       "<matplotlib.axes._subplots.AxesSubplot at 0x7fbb4d4ff9b0>"
      ]
     },
     "execution_count": 44,
     "metadata": {
      "tags": []
     },
     "output_type": "execute_result"
    },
    {
     "data": {
      "image/png": "[encoded data removed]",
      "text/plain": [
       "<Figure size 432x288 with 1 Axes>"
      ]
     },
     "metadata": {
      "tags": []
     },
     "output_type": "display_data"
    }
   ],
   "source": [
    "# What is the top 10 Job Title of Millionaire\n",
    "# Fill the blank\n",
    "millionare_jobs = sal[sal['TotalPayBenefits']>300000].groupby('JobTitle').mean()\n",
    "millionare_jobs.sort_values(by=['TotalPayBenefits'], ascending=False)['TotalPayBenefits'].head(10).plot(kind='barh')"
   ]
  },
  {
   "cell_type": "code",
   "execution_count": 47,
   "metadata": {
    "colab": {
     "base_uri": "https://localhost:8080/",
     "height": 207
    },
    "colab_type": "code",
    "executionInfo": {
     "elapsed": 796,
     "status": "ok",
     "timestamp": 1557996136176,
     "user": {
      "displayName": "Hai Minh Do",
      "photoUrl": "https://lh6.googleusercontent.com/-ZUlR9wP4IpA/AAAAAAAAAAI/AAAAAAAAAAc/F2ZaIjf8WSY/s64/photo.jpg",
      "userId": "12822549848477954436"
     },
     "user_tz": -420
    },
    "id": "5LNMS8DGPm22",
    "outputId": "73112808-51dc-4836-882b-c356bb490284"
   },
   "outputs": [
    {
     "data": {
      "text/plain": [
       "array([['NATHANIEL FORD',\n",
       "        'GENERAL MANAGER-METROPOLITAN TRANSIT AUTHORITY'],\n",
       "       ['GARY JIMENEZ', 'CAPTAIN III (POLICE DEPARTMENT)'],\n",
       "       ['DAVID SHINN', 'DEPUTY CHIEF 3'],\n",
       "       ['AMY P HART', 'ASST MED EXAMINER'],\n",
       "       ['WILLIAM J COAKER JR.', 'CHIEF INVESTMENT OFFICER'],\n",
       "       ['GREGORY P SUHR', 'CHIEF OF POLICE'],\n",
       "       ['JOANNE M HAYES-WHITE', 'CHIEF, FIRE DEPARTMENT'],\n",
       "       ['GREGORY P SUHR', 'CHIEF OF POLICE'],\n",
       "       ['JOANNE M HAYES-WHITE', 'CHIEF, FIRE DEPARTMENT'],\n",
       "       ['ELLEN G MOFFATT', 'ASST MED EXAMINER']], dtype=object)"
      ]
     },
     "execution_count": 47,
     "metadata": {
      "tags": []
     },
     "output_type": "execute_result"
    }
   ],
   "source": [
    "# Find the name of 10 richest man\n",
    "# Your code here\n",
    "richest_man = sal.sort_values(by=['TotalPayBenefits'], ascending=False)[['EmployeeName', 'JobTitle']].head(10).values\n",
    "richest_man"
   ]
  },
  {
   "cell_type": "code",
   "execution_count": 48,
   "metadata": {
    "colab": {
     "base_uri": "https://localhost:8080/",
     "height": 301
    },
    "colab_type": "code",
    "executionInfo": {
     "elapsed": 1452,
     "status": "ok",
     "timestamp": 1557996340493,
     "user": {
      "displayName": "Hai Minh Do",
      "photoUrl": "https://lh6.googleusercontent.com/-ZUlR9wP4IpA/AAAAAAAAAAI/AAAAAAAAAAc/F2ZaIjf8WSY/s64/photo.jpg",
      "userId": "12822549848477954436"
     },
     "user_tz": -420
    },
    "id": "TDMwfQIfPm2-",
    "outputId": "8e299dfc-5b75-4724-fd15-5b0f5cea0038"
   },
   "outputs": [
    {
     "data": {
      "text/plain": [
       "<matplotlib.axes._subplots.AxesSubplot at 0x7fbb49a344a8>"
      ]
     },
     "execution_count": 48,
     "metadata": {
      "tags": []
     },
     "output_type": "execute_result"
    },
    {
     "data": {
      "image/png": "[encoded data removed]",
      "text/plain": [
       "<Figure size 432x288 with 1 Axes>"
      ]
     },
     "metadata": {
      "tags": []
     },
     "output_type": "display_data"
    }
   ],
   "source": [
    "# Analyze TotalPayBenefits of 10 richest man each Year\n",
    "# Your code here\n",
    "rich_data = sal[sal['EmployeeName'].isin(richest_man[:,0]) & sal['JobTitle'].isin(richest_man[:,1])]\n",
    "sns.barplot(data=rich_data, y='EmployeeName', x='TotalPayBenefits', hue='Year')"
   ]
  },
  {
   "cell_type": "markdown",
   "metadata": {
    "colab_type": "text",
    "id": "MoBgPjDiwhdV"
   },
   "source": [
    "### You are awesome!!"
   ]
  }
 ],
 "metadata": {
  "colab": {
   "collapsed_sections": [
    "MoBgPjDiwhdV"
   ],
   "name": "Lab_3_EDA_Solution.ipynb",
   "provenance": [],
   "version": "0.3.2"
  },
  "kernelspec": {
   "display_name": "Python 3",
   "language": "python",
   "name": "python3"
  },
  "language_info": {
   "codemirror_mode": {
    "name": "ipython",
    "version": 3
   },
   "file_extension": ".py",
   "mimetype": "text/x-python",
   "name": "python",
   "nbconvert_exporter": "python",
   "pygments_lexer": "ipython3",
   "version": "3.7.3"
  }
 },
 "nbformat": 4,
 "nbformat_minor": 1
}
