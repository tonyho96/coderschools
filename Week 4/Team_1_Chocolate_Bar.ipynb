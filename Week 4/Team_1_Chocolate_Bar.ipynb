{
 "cells": [
  {
   "cell_type": "markdown",
   "metadata": {
    "colab_type": "text",
    "id": "_jlcedcWfWcs"
   },
   "source": [
    "# Team 1 - Chocolate Bar\n",
    "\n",
    "![](https://img.newatlas.com/cocoa-tree-domestication-chocolate-1.jpg?auto=format%2Ccompress&ch=Width%2CDPR&fit=crop&h=347&q=60&rect=0%2C18%2C1620%2C911&w=616&s=2c0f902d21b734d77c99fd13171fb979)\n",
    "\n",
    "_For more information about the dataset, read [here](https://www.kaggle.com/rtatman/chocolate-bar-ratings)._\n",
    "\n",
    "## Your tasks\n",
    "- Name your team!\n",
    "- Read the source and do some quick research to understand more about the dataset and its topic\n",
    "- Clean the data\n",
    "- Perform Exploratory Data Analysis on the dataset\n",
    "- Analyze the data more deeply and extract insights\n",
    "- Visualize your analysis on Google Data Studio\n",
    "- Present your works in front of the class and guests next Monday\n",
    "\n",
    "## Submission Guide\n",
    "- Create a Github repository for your project\n",
    "- Upload the dataset (.csv file) and the Jupyter Notebook to your Github repository. In the Jupyter Notebook, **include the link to your Google Data Studio report**.\n",
    "- Submit your works through this [Google Form](https://forms.gle/oxtXpGfS8JapVj3V8).\n",
    "\n",
    "## Tips for Data Cleaning, Manipulation & Visualization\n",
    "- Here are some of our tips for Data Cleaning, Manipulation & Visualization. [Click here](https://hackmd.io/cBNV7E6TT2WMliQC-GTw1A)\n",
    "\n",
    "_____________________________\n",
    "\n",
    "## Some Hints for This Dataset:\n",
    "- There are lots of poorly labeled data in `Broad Bean Origin` column.\n",
    "- There are some rows in `Broad Bean Origin` with multiple values, those values will create errors in our data. \n",
    "- How can we get rid of the `%` sign in `Cocoa Percent` column?\n",
    "- And more..."
   ]
  },
  {
   "cell_type": "markdown",
   "metadata": {},
   "source": [
    "Link Data Studio"
   ]
  },
  {
   "cell_type": "markdown",
   "metadata": {},
   "source": [
    "https://datastudio.google.com/open/1lDVSIPLpEUvbVjefKw1FD6TraCkNvKNS"
   ]
  },
  {
   "cell_type": "code",
   "execution_count": 1,
   "metadata": {
    "colab": {},
    "colab_type": "code",
    "id": "pZ3eIvxYfWcu"
   },
   "outputs": [],
   "source": [
    "import numpy as np\n",
    "import pandas as pd\n",
    "import seaborn as sns\n",
    "import matplotlib.pyplot as plt\n",
    "%matplotlib inline\n",
    "import warnings\n",
    "warnings.filterwarnings('ignore')\n",
    "\n",
    "sns.set_style(\"whitegrid\")"
   ]
  },
  {
   "cell_type": "markdown",
   "metadata": {},
   "source": [
    "Google Drive"
   ]
  },
  {
   "cell_type": "code",
   "execution_count": null,
   "metadata": {
    "colab": {
     "base_uri": "https://localhost:8080/",
     "height": 34
    },
    "colab_type": "code",
    "id": "6i_sIts7f162",
    "outputId": "ee6bb774-65f6-4fbf-c3b3-c28c9a28808e",
    "scrolled": true
   },
   "outputs": [],
   "source": [
    "from google.colab import drive\n",
    "drive.mount('/content/gdrive')"
   ]
  },
  {
   "cell_type": "code",
   "execution_count": null,
   "metadata": {
    "colab": {},
    "colab_type": "code",
    "id": "SngKlAEFfWcy"
   },
   "outputs": [],
   "source": [
    "choco = pd.read_csv('gdrive/My Drive/Colab Notebooks/data/01-chocolate-bar/chocolate.csv')"
   ]
  },
  {
   "cell_type": "markdown",
   "metadata": {},
   "source": [
    "Local Folder"
   ]
  },
  {
   "cell_type": "code",
   "execution_count": 2,
   "metadata": {},
   "outputs": [],
   "source": [
    "choco = pd.read_csv('data/01-chocolate-bar/chocolate.csv')"
   ]
  },
  {
   "cell_type": "markdown",
   "metadata": {},
   "source": [
    "Exploratory data analysis"
   ]
  },
  {
   "cell_type": "code",
   "execution_count": 3,
   "metadata": {
    "colab": {
     "base_uri": "https://localhost:8080/",
     "height": 204
    },
    "colab_type": "code",
    "id": "m4UNi060fWc1",
    "outputId": "76f7bd3c-2019-4371-8d24-593c48d01e3d"
   },
   "outputs": [
    {
     "data": {
      "text/html": [
       "<div>\n",
       "<style scoped>\n",
       "    .dataframe tbody tr th:only-of-type {\n",
       "        vertical-align: middle;\n",
       "    }\n",
       "\n",
       "    .dataframe tbody tr th {\n",
       "        vertical-align: top;\n",
       "    }\n",
       "\n",
       "    .dataframe thead th {\n",
       "        text-align: right;\n",
       "    }\n",
       "</style>\n",
       "<table border=\"1\" class=\"dataframe\">\n",
       "  <thead>\n",
       "    <tr style=\"text-align: right;\">\n",
       "      <th></th>\n",
       "      <th>Company \\n(Maker-if known)</th>\n",
       "      <th>Specific Bean Origin\\nor Bar Name</th>\n",
       "      <th>REF</th>\n",
       "      <th>Review\\nDate</th>\n",
       "      <th>Cocoa\\nPercent</th>\n",
       "      <th>Company\\nLocation</th>\n",
       "      <th>Rating</th>\n",
       "      <th>Bean\\nType</th>\n",
       "      <th>Broad Bean\\nOrigin</th>\n",
       "    </tr>\n",
       "  </thead>\n",
       "  <tbody>\n",
       "    <tr>\n",
       "      <th>0</th>\n",
       "      <td>A. Morin</td>\n",
       "      <td>Agua Grande</td>\n",
       "      <td>1876</td>\n",
       "      <td>2016</td>\n",
       "      <td>63%</td>\n",
       "      <td>France</td>\n",
       "      <td>3.75</td>\n",
       "      <td></td>\n",
       "      <td>Sao Tome</td>\n",
       "    </tr>\n",
       "    <tr>\n",
       "      <th>1</th>\n",
       "      <td>A. Morin</td>\n",
       "      <td>Kpime</td>\n",
       "      <td>1676</td>\n",
       "      <td>2015</td>\n",
       "      <td>70%</td>\n",
       "      <td>France</td>\n",
       "      <td>2.75</td>\n",
       "      <td></td>\n",
       "      <td>Togo</td>\n",
       "    </tr>\n",
       "    <tr>\n",
       "      <th>2</th>\n",
       "      <td>A. Morin</td>\n",
       "      <td>Atsane</td>\n",
       "      <td>1676</td>\n",
       "      <td>2015</td>\n",
       "      <td>70%</td>\n",
       "      <td>France</td>\n",
       "      <td>3.00</td>\n",
       "      <td></td>\n",
       "      <td>Togo</td>\n",
       "    </tr>\n",
       "    <tr>\n",
       "      <th>3</th>\n",
       "      <td>A. Morin</td>\n",
       "      <td>Akata</td>\n",
       "      <td>1680</td>\n",
       "      <td>2015</td>\n",
       "      <td>70%</td>\n",
       "      <td>France</td>\n",
       "      <td>3.50</td>\n",
       "      <td></td>\n",
       "      <td>Togo</td>\n",
       "    </tr>\n",
       "    <tr>\n",
       "      <th>4</th>\n",
       "      <td>A. Morin</td>\n",
       "      <td>Quilla</td>\n",
       "      <td>1704</td>\n",
       "      <td>2015</td>\n",
       "      <td>70%</td>\n",
       "      <td>France</td>\n",
       "      <td>3.50</td>\n",
       "      <td></td>\n",
       "      <td>Peru</td>\n",
       "    </tr>\n",
       "  </tbody>\n",
       "</table>\n",
       "</div>"
      ],
      "text/plain": [
       "  Company \\n(Maker-if known) Specific Bean Origin\\nor Bar Name   REF  \\\n",
       "0                   A. Morin                       Agua Grande  1876   \n",
       "1                   A. Morin                             Kpime  1676   \n",
       "2                   A. Morin                            Atsane  1676   \n",
       "3                   A. Morin                             Akata  1680   \n",
       "4                   A. Morin                            Quilla  1704   \n",
       "\n",
       "   Review\\nDate Cocoa\\nPercent Company\\nLocation  Rating Bean\\nType  \\\n",
       "0          2016            63%            France    3.75              \n",
       "1          2015            70%            France    2.75              \n",
       "2          2015            70%            France    3.00              \n",
       "3          2015            70%            France    3.50              \n",
       "4          2015            70%            France    3.50              \n",
       "\n",
       "  Broad Bean\\nOrigin  \n",
       "0           Sao Tome  \n",
       "1               Togo  \n",
       "2               Togo  \n",
       "3               Togo  \n",
       "4               Peru  "
      ]
     },
     "execution_count": 3,
     "metadata": {},
     "output_type": "execute_result"
    }
   ],
   "source": [
    "choco.head()"
   ]
  },
  {
   "cell_type": "code",
   "execution_count": 4,
   "metadata": {
    "colab": {
     "base_uri": "https://localhost:8080/",
     "height": 374
    },
    "colab_type": "code",
    "id": "xQ3yRqE_fWc5",
    "outputId": "f444dc64-2337-410e-c425-8ecab8319f68"
   },
   "outputs": [
    {
     "name": "stdout",
     "output_type": "stream",
     "text": [
      "<class 'pandas.core.frame.DataFrame'>\n",
      "RangeIndex: 1795 entries, 0 to 1794\n",
      "Data columns (total 9 columns):\n",
      "Company \n",
      "(Maker-if known)           1795 non-null object\n",
      "Specific Bean Origin\n",
      "or Bar Name    1795 non-null object\n",
      "REF                                 1795 non-null int64\n",
      "Review\n",
      "Date                         1795 non-null int64\n",
      "Cocoa\n",
      "Percent                       1795 non-null object\n",
      "Company\n",
      "Location                    1795 non-null object\n",
      "Rating                              1795 non-null float64\n",
      "Bean\n",
      "Type                           1794 non-null object\n",
      "Broad Bean\n",
      "Origin                   1794 non-null object\n",
      "dtypes: float64(1), int64(2), object(6)\n",
      "memory usage: 126.3+ KB\n"
     ]
    }
   ],
   "source": [
    "choco.info()"
   ]
  },
  {
   "cell_type": "code",
   "execution_count": 5,
   "metadata": {
    "colab": {
     "base_uri": "https://localhost:8080/",
     "height": 142
    },
    "colab_type": "code",
    "id": "6NIpr5hwfWc8",
    "outputId": "983fa85f-02e7-424e-9e93-633d0dff2667"
   },
   "outputs": [
    {
     "data": {
      "text/html": [
       "<div>\n",
       "<style scoped>\n",
       "    .dataframe tbody tr th:only-of-type {\n",
       "        vertical-align: middle;\n",
       "    }\n",
       "\n",
       "    .dataframe tbody tr th {\n",
       "        vertical-align: top;\n",
       "    }\n",
       "\n",
       "    .dataframe thead th {\n",
       "        text-align: right;\n",
       "    }\n",
       "</style>\n",
       "<table border=\"1\" class=\"dataframe\">\n",
       "  <thead>\n",
       "    <tr style=\"text-align: right;\">\n",
       "      <th></th>\n",
       "      <th>count</th>\n",
       "      <th>mean</th>\n",
       "      <th>std</th>\n",
       "      <th>min</th>\n",
       "      <th>25%</th>\n",
       "      <th>50%</th>\n",
       "      <th>75%</th>\n",
       "      <th>max</th>\n",
       "    </tr>\n",
       "  </thead>\n",
       "  <tbody>\n",
       "    <tr>\n",
       "      <th>REF</th>\n",
       "      <td>1795.0</td>\n",
       "      <td>1035.904735</td>\n",
       "      <td>552.886365</td>\n",
       "      <td>5.0</td>\n",
       "      <td>576.000</td>\n",
       "      <td>1069.00</td>\n",
       "      <td>1502.0</td>\n",
       "      <td>1952.0</td>\n",
       "    </tr>\n",
       "    <tr>\n",
       "      <th>Review\\nDate</th>\n",
       "      <td>1795.0</td>\n",
       "      <td>2012.325348</td>\n",
       "      <td>2.927210</td>\n",
       "      <td>2006.0</td>\n",
       "      <td>2010.000</td>\n",
       "      <td>2013.00</td>\n",
       "      <td>2015.0</td>\n",
       "      <td>2017.0</td>\n",
       "    </tr>\n",
       "    <tr>\n",
       "      <th>Rating</th>\n",
       "      <td>1795.0</td>\n",
       "      <td>3.185933</td>\n",
       "      <td>0.478062</td>\n",
       "      <td>1.0</td>\n",
       "      <td>2.875</td>\n",
       "      <td>3.25</td>\n",
       "      <td>3.5</td>\n",
       "      <td>5.0</td>\n",
       "    </tr>\n",
       "  </tbody>\n",
       "</table>\n",
       "</div>"
      ],
      "text/plain": [
       "               count         mean         std     min       25%      50%  \\\n",
       "REF           1795.0  1035.904735  552.886365     5.0   576.000  1069.00   \n",
       "Review\\nDate  1795.0  2012.325348    2.927210  2006.0  2010.000  2013.00   \n",
       "Rating        1795.0     3.185933    0.478062     1.0     2.875     3.25   \n",
       "\n",
       "                 75%     max  \n",
       "REF           1502.0  1952.0  \n",
       "Review\\nDate  2015.0  2017.0  \n",
       "Rating           3.5     5.0  "
      ]
     },
     "execution_count": 5,
     "metadata": {},
     "output_type": "execute_result"
    }
   ],
   "source": [
    "choco.describe().T"
   ]
  },
  {
   "cell_type": "code",
   "execution_count": 6,
   "metadata": {
    "colab": {
     "base_uri": "https://localhost:8080/",
     "height": 187
    },
    "colab_type": "code",
    "id": "SwdhoXlIfWc_",
    "outputId": "7f75cd1d-7112-4235-f937-1a697bde93f5"
   },
   "outputs": [
    {
     "data": {
      "text/plain": [
       "Company \\n(Maker-if known)            object\n",
       "Specific Bean Origin\\nor Bar Name     object\n",
       "REF                                    int64\n",
       "Review\\nDate                           int64\n",
       "Cocoa\\nPercent                        object\n",
       "Company\\nLocation                     object\n",
       "Rating                               float64\n",
       "Bean\\nType                            object\n",
       "Broad Bean\\nOrigin                    object\n",
       "dtype: object"
      ]
     },
     "execution_count": 6,
     "metadata": {},
     "output_type": "execute_result"
    }
   ],
   "source": [
    "choco.dtypes"
   ]
  },
  {
   "cell_type": "code",
   "execution_count": 7,
   "metadata": {
    "colab": {
     "base_uri": "https://localhost:8080/",
     "height": 204
    },
    "colab_type": "code",
    "id": "pX3TW-_ufWdD",
    "outputId": "8db96adf-bda6-4309-9856-2994a048771a"
   },
   "outputs": [
    {
     "data": {
      "text/html": [
       "<div>\n",
       "<style scoped>\n",
       "    .dataframe tbody tr th:only-of-type {\n",
       "        vertical-align: middle;\n",
       "    }\n",
       "\n",
       "    .dataframe tbody tr th {\n",
       "        vertical-align: top;\n",
       "    }\n",
       "\n",
       "    .dataframe thead th {\n",
       "        text-align: right;\n",
       "    }\n",
       "</style>\n",
       "<table border=\"1\" class=\"dataframe\">\n",
       "  <thead>\n",
       "    <tr style=\"text-align: right;\">\n",
       "      <th></th>\n",
       "      <th>company</th>\n",
       "      <th>species</th>\n",
       "      <th>REF</th>\n",
       "      <th>review_year</th>\n",
       "      <th>cocoa_percent</th>\n",
       "      <th>company_location</th>\n",
       "      <th>rating</th>\n",
       "      <th>bean_type</th>\n",
       "      <th>bean_origin</th>\n",
       "    </tr>\n",
       "  </thead>\n",
       "  <tbody>\n",
       "    <tr>\n",
       "      <th>0</th>\n",
       "      <td>A. Morin</td>\n",
       "      <td>Agua Grande</td>\n",
       "      <td>1876</td>\n",
       "      <td>2016</td>\n",
       "      <td>0.63</td>\n",
       "      <td>France</td>\n",
       "      <td>3.75</td>\n",
       "      <td></td>\n",
       "      <td>Sao Tome</td>\n",
       "    </tr>\n",
       "    <tr>\n",
       "      <th>1</th>\n",
       "      <td>A. Morin</td>\n",
       "      <td>Kpime</td>\n",
       "      <td>1676</td>\n",
       "      <td>2015</td>\n",
       "      <td>0.70</td>\n",
       "      <td>France</td>\n",
       "      <td>2.75</td>\n",
       "      <td></td>\n",
       "      <td>Togo</td>\n",
       "    </tr>\n",
       "    <tr>\n",
       "      <th>2</th>\n",
       "      <td>A. Morin</td>\n",
       "      <td>Atsane</td>\n",
       "      <td>1676</td>\n",
       "      <td>2015</td>\n",
       "      <td>0.70</td>\n",
       "      <td>France</td>\n",
       "      <td>3.00</td>\n",
       "      <td></td>\n",
       "      <td>Togo</td>\n",
       "    </tr>\n",
       "    <tr>\n",
       "      <th>3</th>\n",
       "      <td>A. Morin</td>\n",
       "      <td>Akata</td>\n",
       "      <td>1680</td>\n",
       "      <td>2015</td>\n",
       "      <td>0.70</td>\n",
       "      <td>France</td>\n",
       "      <td>3.50</td>\n",
       "      <td></td>\n",
       "      <td>Togo</td>\n",
       "    </tr>\n",
       "    <tr>\n",
       "      <th>4</th>\n",
       "      <td>A. Morin</td>\n",
       "      <td>Quilla</td>\n",
       "      <td>1704</td>\n",
       "      <td>2015</td>\n",
       "      <td>0.70</td>\n",
       "      <td>France</td>\n",
       "      <td>3.50</td>\n",
       "      <td></td>\n",
       "      <td>Peru</td>\n",
       "    </tr>\n",
       "  </tbody>\n",
       "</table>\n",
       "</div>"
      ],
      "text/plain": [
       "    company      species   REF  review_year  cocoa_percent company_location  \\\n",
       "0  A. Morin  Agua Grande  1876         2016           0.63           France   \n",
       "1  A. Morin        Kpime  1676         2015           0.70           France   \n",
       "2  A. Morin       Atsane  1676         2015           0.70           France   \n",
       "3  A. Morin        Akata  1680         2015           0.70           France   \n",
       "4  A. Morin       Quilla  1704         2015           0.70           France   \n",
       "\n",
       "   rating bean_type bean_origin  \n",
       "0    3.75              Sao Tome  \n",
       "1    2.75                  Togo  \n",
       "2    3.00                  Togo  \n",
       "3    3.50                  Togo  \n",
       "4    3.50                  Peru  "
      ]
     },
     "execution_count": 7,
     "metadata": {},
     "output_type": "execute_result"
    }
   ],
   "source": [
    "original_colnames = choco.columns\n",
    "new_colnames = ['company', 'species', 'REF', 'review_year', 'cocoa_percent',\n",
    "                'company_location', 'rating', 'bean_type', 'bean_origin']\n",
    "choco = choco.rename(columns=dict(zip(original_colnames, new_colnames)))\n",
    "\n",
    "choco['cocoa_percent'] = choco['cocoa_percent'].str.replace('%', '').astype(float)/100\n",
    "choco.head()"
   ]
  },
  {
   "cell_type": "code",
   "execution_count": 8,
   "metadata": {
    "colab": {
     "base_uri": "https://localhost:8080/",
     "height": 173
    },
    "colab_type": "code",
    "id": "fIXdvGF1fWdG",
    "outputId": "a9c58757-992f-4bd9-a34c-3cded4be69d9"
   },
   "outputs": [
    {
     "data": {
      "text/html": [
       "<div>\n",
       "<style scoped>\n",
       "    .dataframe tbody tr th:only-of-type {\n",
       "        vertical-align: middle;\n",
       "    }\n",
       "\n",
       "    .dataframe tbody tr th {\n",
       "        vertical-align: top;\n",
       "    }\n",
       "\n",
       "    .dataframe thead th {\n",
       "        text-align: right;\n",
       "    }\n",
       "</style>\n",
       "<table border=\"1\" class=\"dataframe\">\n",
       "  <thead>\n",
       "    <tr style=\"text-align: right;\">\n",
       "      <th></th>\n",
       "      <th>count</th>\n",
       "      <th>mean</th>\n",
       "      <th>std</th>\n",
       "      <th>min</th>\n",
       "      <th>25%</th>\n",
       "      <th>50%</th>\n",
       "      <th>75%</th>\n",
       "      <th>max</th>\n",
       "    </tr>\n",
       "  </thead>\n",
       "  <tbody>\n",
       "    <tr>\n",
       "      <th>REF</th>\n",
       "      <td>1795.0</td>\n",
       "      <td>1035.904735</td>\n",
       "      <td>552.886365</td>\n",
       "      <td>5.00</td>\n",
       "      <td>576.000</td>\n",
       "      <td>1069.00</td>\n",
       "      <td>1502.00</td>\n",
       "      <td>1952.0</td>\n",
       "    </tr>\n",
       "    <tr>\n",
       "      <th>review_year</th>\n",
       "      <td>1795.0</td>\n",
       "      <td>2012.325348</td>\n",
       "      <td>2.927210</td>\n",
       "      <td>2006.00</td>\n",
       "      <td>2010.000</td>\n",
       "      <td>2013.00</td>\n",
       "      <td>2015.00</td>\n",
       "      <td>2017.0</td>\n",
       "    </tr>\n",
       "    <tr>\n",
       "      <th>cocoa_percent</th>\n",
       "      <td>1795.0</td>\n",
       "      <td>0.716983</td>\n",
       "      <td>0.063231</td>\n",
       "      <td>0.42</td>\n",
       "      <td>0.700</td>\n",
       "      <td>0.70</td>\n",
       "      <td>0.75</td>\n",
       "      <td>1.0</td>\n",
       "    </tr>\n",
       "    <tr>\n",
       "      <th>rating</th>\n",
       "      <td>1795.0</td>\n",
       "      <td>3.185933</td>\n",
       "      <td>0.478062</td>\n",
       "      <td>1.00</td>\n",
       "      <td>2.875</td>\n",
       "      <td>3.25</td>\n",
       "      <td>3.50</td>\n",
       "      <td>5.0</td>\n",
       "    </tr>\n",
       "  </tbody>\n",
       "</table>\n",
       "</div>"
      ],
      "text/plain": [
       "                count         mean         std      min       25%      50%  \\\n",
       "REF            1795.0  1035.904735  552.886365     5.00   576.000  1069.00   \n",
       "review_year    1795.0  2012.325348    2.927210  2006.00  2010.000  2013.00   \n",
       "cocoa_percent  1795.0     0.716983    0.063231     0.42     0.700     0.70   \n",
       "rating         1795.0     3.185933    0.478062     1.00     2.875     3.25   \n",
       "\n",
       "                   75%     max  \n",
       "REF            1502.00  1952.0  \n",
       "review_year    2015.00  2017.0  \n",
       "cocoa_percent     0.75     1.0  \n",
       "rating            3.50     5.0  "
      ]
     },
     "execution_count": 8,
     "metadata": {},
     "output_type": "execute_result"
    }
   ],
   "source": [
    "choco.describe().T"
   ]
  },
  {
   "cell_type": "code",
   "execution_count": 9,
   "metadata": {
    "colab": {
     "base_uri": "https://localhost:8080/",
     "height": 187
    },
    "colab_type": "code",
    "id": "R5OslxWYy8jb",
    "outputId": "53fd7316-a5ff-486b-a400-14aed51e3e0a"
   },
   "outputs": [
    {
     "data": {
      "text/plain": [
       "company             0\n",
       "species             0\n",
       "REF                 0\n",
       "review_year         0\n",
       "cocoa_percent       0\n",
       "company_location    0\n",
       "rating              0\n",
       "bean_type           1\n",
       "bean_origin         1\n",
       "dtype: int64"
      ]
     },
     "execution_count": 9,
     "metadata": {},
     "output_type": "execute_result"
    }
   ],
   "source": [
    "choco.isnull().sum()"
   ]
  },
  {
   "cell_type": "code",
   "execution_count": 10,
   "metadata": {
    "colab": {
     "base_uri": "https://localhost:8080/",
     "height": 1000
    },
    "colab_type": "code",
    "id": "TSBOEHZozvgE",
    "outputId": "a2b8d0c0-5055-4df6-8501-ec51d0a6d522"
   },
   "outputs": [],
   "source": [
    "choco['bean_type'] = choco['bean_type'].str.strip()"
   ]
  },
  {
   "cell_type": "code",
   "execution_count": 11,
   "metadata": {
    "colab": {
     "base_uri": "https://localhost:8080/",
     "height": 1000
    },
    "colab_type": "code",
    "id": "sQ8xcCN7z9Xp",
    "outputId": "ea1c5df1-3ea9-4b97-e71c-9932237dbfff"
   },
   "outputs": [],
   "source": [
    "choco['bean_type'].replace('', 'Others', inplace = True)"
   ]
  },
  {
   "cell_type": "code",
   "execution_count": 12,
   "metadata": {
    "colab": {},
    "colab_type": "code",
    "id": "TWjYKlqjzzEJ"
   },
   "outputs": [],
   "source": [
    "choco['bean_type'] = choco['bean_type'].fillna(value = 'Others')"
   ]
  },
  {
   "cell_type": "code",
   "execution_count": 13,
   "metadata": {},
   "outputs": [
    {
     "data": {
      "text/plain": [
       "0     Others\n",
       "1     Others\n",
       "2     Others\n",
       "3     Others\n",
       "4     Others\n",
       "5    Criollo\n",
       "6     Others\n",
       "7    Criollo\n",
       "8    Criollo\n",
       "9     Others\n",
       "Name: bean_type, dtype: object"
      ]
     },
     "execution_count": 13,
     "metadata": {},
     "output_type": "execute_result"
    }
   ],
   "source": [
    "choco['bean_type'].head(10)"
   ]
  },
  {
   "cell_type": "code",
   "execution_count": 14,
   "metadata": {
    "colab": {
     "base_uri": "https://localhost:8080/",
     "height": 1000
    },
    "colab_type": "code",
    "id": "J5GL5rz7fWdP",
    "outputId": "25d19e64-eec9-4be7-885f-3425b67e97fc"
   },
   "outputs": [],
   "source": [
    "choco['bean_origin'] = choco['bean_origin'].str.strip()"
   ]
  },
  {
   "cell_type": "code",
   "execution_count": 15,
   "metadata": {
    "colab": {},
    "colab_type": "code",
    "id": "6zaZqC02yCSf"
   },
   "outputs": [],
   "source": [
    "choco['bean_origin'].replace('', 'Others', inplace = True)"
   ]
  },
  {
   "cell_type": "code",
   "execution_count": 16,
   "metadata": {
    "colab": {
     "base_uri": "https://localhost:8080/",
     "height": 68
    },
    "colab_type": "code",
    "id": "E7Ku87d7ySlF",
    "outputId": "16a5de56-5407-4e69-b0d9-c20c1fd10730"
   },
   "outputs": [
    {
     "data": {
      "text/plain": [
       "False    1794\n",
       "True        1\n",
       "Name: bean_origin, dtype: int64"
      ]
     },
     "execution_count": 16,
     "metadata": {},
     "output_type": "execute_result"
    }
   ],
   "source": [
    "choco['bean_origin'].isnull().value_counts()"
   ]
  },
  {
   "cell_type": "code",
   "execution_count": 17,
   "metadata": {
    "colab": {},
    "colab_type": "code",
    "id": "lA44fRzIyKeN"
   },
   "outputs": [],
   "source": [
    "choco['bean_origin'] = choco['bean_origin'].fillna(value = 'Others')"
   ]
  },
  {
   "cell_type": "code",
   "execution_count": 18,
   "metadata": {
    "colab": {
     "base_uri": "https://localhost:8080/",
     "height": 51
    },
    "colab_type": "code",
    "id": "8d5l_0DtygB8",
    "outputId": "b4ce3a9f-1877-4148-9f32-0f3de9096bc7"
   },
   "outputs": [
    {
     "data": {
      "text/plain": [
       "False    1795\n",
       "Name: bean_origin, dtype: int64"
      ]
     },
     "execution_count": 18,
     "metadata": {},
     "output_type": "execute_result"
    }
   ],
   "source": [
    "choco['bean_origin'].isnull().value_counts()"
   ]
  },
  {
   "cell_type": "code",
   "execution_count": 19,
   "metadata": {
    "colab": {
     "base_uri": "https://localhost:8080/",
     "height": 204
    },
    "colab_type": "code",
    "id": "JvoXcgFFyh8k",
    "outputId": "371765ef-bf56-403b-dc07-30131651af9d"
   },
   "outputs": [
    {
     "data": {
      "text/plain": [
       "0     Sao Tome\n",
       "1         Togo\n",
       "2         Togo\n",
       "3         Togo\n",
       "4         Peru\n",
       "5    Venezuela\n",
       "6         Cuba\n",
       "7    Venezuela\n",
       "8    Venezuela\n",
       "9         Peru\n",
       "Name: bean_origin, dtype: object"
      ]
     },
     "execution_count": 19,
     "metadata": {},
     "output_type": "execute_result"
    }
   ],
   "source": [
    "choco['bean_origin'].head(10)"
   ]
  },
  {
   "cell_type": "code",
   "execution_count": 20,
   "metadata": {
    "colab": {
     "base_uri": "https://localhost:8080/",
     "height": 527
    },
    "colab_type": "code",
    "id": "iX2fOQAtfWdn",
    "outputId": "d39c2208-8d98-47da-e579-b47a59067371"
   },
   "outputs": [
    {
     "data": {
      "text/plain": [
       "array(['Africa, Carribean, C. Am.', 'Australia', 'Belize', 'Bolivia',\n",
       "       'Brazil', 'Burma', 'Cameroon', 'Carribean',\n",
       "       'Carribean(DR/Jam/Tri)', 'Central and S. America', 'Colombia',\n",
       "       'Colombia, Ecuador', 'Congo', 'Cost Rica, Ven', 'Costa Rica',\n",
       "       'Cuba', 'DR, Ecuador, Peru', 'Dom. Rep., Madagascar',\n",
       "       'Domincan Republic', 'Dominican Rep., Bali', 'Dominican Republic',\n",
       "       'Ecuador', 'Ecuador, Costa Rica', 'Ecuador, Mad., PNG',\n",
       "       'El Salvador', 'Fiji', 'Gabon', 'Ghana', 'Ghana & Madagascar',\n",
       "       'Ghana, Domin. Rep', 'Ghana, Panama, Ecuador',\n",
       "       'Gre., PNG, Haw., Haiti, Mad', 'Grenada',\n",
       "       'Guat., D.R., Peru, Mad., PNG', 'Guatemala', 'Haiti', 'Hawaii',\n",
       "       'Honduras', 'India', 'Indonesia', 'Indonesia, Ghana',\n",
       "       'Ivory Coast', 'Jamaica', 'Liberia', 'Mad., Java, PNG',\n",
       "       'Madagascar', 'Madagascar & Ecuador', 'Malaysia', 'Martinique',\n",
       "       'Mexico', 'Nicaragua', 'Nigeria', 'Others', 'PNG, Vanuatu, Mad',\n",
       "       'Panama', 'Papua New Guinea', 'Peru',\n",
       "       'Peru(SMartin,Pangoa,nacional)', 'Peru, Belize', 'Peru, Dom. Rep',\n",
       "       'Peru, Ecuador', 'Peru, Ecuador, Venezuela',\n",
       "       'Peru, Mad., Dom. Rep.', 'Peru, Madagascar', 'Philippines',\n",
       "       'Principe', 'Puerto Rico', 'Samoa', 'Sao Tome',\n",
       "       'Sao Tome & Principe', 'Solomon Islands', 'South America',\n",
       "       'South America, Africa', 'Sri Lanka', 'St. Lucia', 'Suriname',\n",
       "       'Tanzania', 'Tobago', 'Togo', 'Trinidad', 'Trinidad, Ecuador',\n",
       "       'Trinidad, Tobago', 'Trinidad-Tobago', 'Uganda', 'Vanuatu',\n",
       "       'Ven, Bolivia, D.R.', 'Ven, Trinidad, Ecuador',\n",
       "       'Ven., Indonesia, Ecuad.', 'Ven., Trinidad, Mad.',\n",
       "       'Ven.,Ecu.,Peru,Nic.', 'Venez,Africa,Brasil,Peru,Mex', 'Venezuela',\n",
       "       'Venezuela, Carribean', 'Venezuela, Dom. Rep.', 'Venezuela, Ghana',\n",
       "       'Venezuela, Java', 'Venezuela, Trinidad', 'Venezuela/ Ghana',\n",
       "       'Vietnam', 'West Africa'], dtype=object)"
      ]
     },
     "execution_count": 20,
     "metadata": {},
     "output_type": "execute_result"
    }
   ],
   "source": [
    "choco['bean_origin'].sort_values().unique()"
   ]
  },
  {
   "cell_type": "code",
   "execution_count": 21,
   "metadata": {
    "colab": {},
    "colab_type": "code",
    "id": "jeYA5_h7fWdp"
   },
   "outputs": [],
   "source": [
    "import re"
   ]
  },
  {
   "cell_type": "code",
   "execution_count": 22,
   "metadata": {
    "colab": {},
    "colab_type": "code",
    "id": "Zg-LWPzOfWds"
   },
   "outputs": [],
   "source": [
    "def txt_prep(text):\n",
    "    replacements = [\n",
    "        ['-', ', '], ['/ ', ', '], ['/', ', '], ['\\(', ', '], [' and', ', '], [' &', ', '], ['\\)', ''],\n",
    "        ['Dom Rep|DR|Domin Rep|Dominican Rep,|Domincan Republic', 'Dominican Republic'],\n",
    "        ['Mad,|Mad$', 'Madagascar, '],\n",
    "        ['PNG', 'Papua New Guinea, '],\n",
    "        ['Guat,|Guat$', 'Guatemala, '],\n",
    "        ['Ven,|Ven$|Venez,|Venez$', 'Venezuela, '],\n",
    "        ['Ecu,|Ecu$|Ecuad,|Ecuad$', 'Ecuador, '],\n",
    "        ['Nic,|Nic$', 'Nicaragua, '],\n",
    "        ['Cost Rica', 'Costa Rica'],\n",
    "        ['Mex,|Mex$', 'Mexico, '],\n",
    "        ['Jam,|Jam$', 'Jamaica, '],\n",
    "        ['Haw,|Haw$', 'Hawaii, '],\n",
    "        ['Gre,|Gre$', 'Grenada, '],\n",
    "        ['Tri,|Tri$', 'Trinidad, '],\n",
    "        ['C Am', 'Central America'],\n",
    "        ['S America', 'South America'],\n",
    "        [', $', ''], [',  ', ', '], [', ,', ', '], ['\\xa0', ' '],[',\\s+', ','],\n",
    "        [' Bali', ',Bali']\n",
    "    ]\n",
    "    for i, j in replacements:\n",
    "        text = re.sub(i, j, text)\n",
    "    return text"
   ]
  },
  {
   "cell_type": "code",
   "execution_count": 23,
   "metadata": {
    "colab": {
     "base_uri": "https://localhost:8080/",
     "height": 629
    },
    "colab_type": "code",
    "id": "p0tvVrocfWdu",
    "outputId": "8f85d550-962e-4dd9-cef8-f34b0711c387"
   },
   "outputs": [
    {
     "data": {
      "text/plain": [
       "array(['Sao Tome', 'Togo', 'Peru', 'Venezuela', 'Cuba', 'Panama',\n",
       "       'Madagascar', 'Brazil', 'Ecuador', 'Colombia', 'Burma',\n",
       "       'Papua New Guinea', 'Bolivia', 'Fiji', 'Mexico', 'Indonesia',\n",
       "       'Trinidad', 'Vietnam', 'Nicaragua', 'Tanzania',\n",
       "       'Dominican Republic', 'Ghana', 'Belize', 'Others', 'Jamaica',\n",
       "       'Grenada', 'Guatemala', 'Honduras', 'Costa Rica', 'Haiti', 'Congo',\n",
       "       'Philippines', 'Malaysia', 'Dominican Republic,Bali',\n",
       "       'Venezuela,Africa,Brasil,Peru,Mexico', 'Gabon', 'Ivory Coast',\n",
       "       'Carribean', 'Sri Lanka', 'Puerto Rico', 'Uganda', 'Martinique',\n",
       "       'Sao Tome,Principe', 'Vanuatu', 'Australia', 'Liberia',\n",
       "       'Ecuador,Costa Rica', 'West Africa', 'Hawaii', 'St Lucia',\n",
       "       'Costa Rica,Venezuela', 'Peru,Madagascar', 'Venezuela,Trinidad',\n",
       "       'Trinidad,Tobago', 'Venezuela,Trinidad,Ecuador',\n",
       "       'South America,Africa', 'India',\n",
       "       'Africa,Carribean,Central America', 'Tobago',\n",
       "       'Venezuela,Indonesia,Ecuador', 'Peru,Ecuador,Venezuela',\n",
       "       'Venezuela,Dominican Republic', 'Colombia,Ecuador',\n",
       "       'Solomon Islands', 'Nigeria', 'Peru,Belize',\n",
       "       'Peru,Madagascar,Dominican Republic',\n",
       "       'Papua New Guinea,Vanuatu,Madagascar', 'El Salvador',\n",
       "       'South America', 'Samoa', 'Ghana,Dominican Republic',\n",
       "       'Trinidad,Ecuador', 'Cameroon', 'Venezuela,Java',\n",
       "       'Venezuela,Ghana', 'Indonesia,Ghana',\n",
       "       'Peru,SMartin,Pangoa,nacional', 'Principe',\n",
       "       'Central,South America', 'Venezuela,Trinidad,Madagascar',\n",
       "       'Carribean,Dominican Republic,Jamaica,Trinidad',\n",
       "       'Ghana,Madagascar', 'Venezuela,Ecuador,Peru,Nicaragua',\n",
       "       'Madagascar,Ecuador',\n",
       "       'Guatemala,Dominican Republic,Peru,Madagascar,Papua New Guinea',\n",
       "       'Peru,Dominican Republic', 'Dominican Republic,Madagascar',\n",
       "       'Grenada,Papua New Guinea,Hawaii,Haiti,Madagascar',\n",
       "       'Madagascar,Java,Papua New Guinea',\n",
       "       'Venezuela,Bolivia,Dominican Republic',\n",
       "       'Dominican Republic,Ecuador,Peru', 'Suriname', 'Peru,Ecuador',\n",
       "       'Ecuador,Madagascar,Papua New Guinea', 'Ghana,Panama,Ecuador',\n",
       "       'Venezuela,Carribean'], dtype=object)"
      ]
     },
     "execution_count": 23,
     "metadata": {},
     "output_type": "execute_result"
    }
   ],
   "source": [
    "choco['bean_origin'].str.replace('.', '').apply(txt_prep).unique()"
   ]
  },
  {
   "cell_type": "code",
   "execution_count": 24,
   "metadata": {
    "colab": {},
    "colab_type": "code",
    "id": "44uZTa7VfWdy"
   },
   "outputs": [],
   "source": [
    "choco['bean_origin'] = choco['bean_origin'].str.replace('.', '').apply(txt_prep)"
   ]
  },
  {
   "cell_type": "code",
   "execution_count": 25,
   "metadata": {
    "colab": {
     "base_uri": "https://localhost:8080/",
     "height": 204
    },
    "colab_type": "code",
    "id": "zG2sPd1ZfWd1",
    "outputId": "8923e477-f1c7-4bf0-f87e-ce7ae8e41d29"
   },
   "outputs": [
    {
     "data": {
      "text/plain": [
       "Suriname                               1\n",
       "Ecuador,Madagascar,Papua New Guinea    1\n",
       "Peru,Madagascar,Dominican Republic     1\n",
       "Gabon                                  1\n",
       "Nigeria                                1\n",
       "Ecuador,Costa Rica                     1\n",
       "Venezuela,Ecuador,Peru,Nicaragua       1\n",
       "Madagascar,Java,Papua New Guinea       1\n",
       "Peru,Ecuador,Venezuela                 1\n",
       "Papua New Guinea,Vanuatu,Madagascar    1\n",
       "Name: bean_origin, dtype: int64"
      ]
     },
     "execution_count": 25,
     "metadata": {},
     "output_type": "execute_result"
    }
   ],
   "source": [
    "choco['bean_origin'].value_counts().tail(10)"
   ]
  },
  {
   "cell_type": "code",
   "execution_count": 26,
   "metadata": {
    "colab": {
     "base_uri": "https://localhost:8080/",
     "height": 119
    },
    "colab_type": "code",
    "id": "3lwFGudRfWd6",
    "outputId": "5820f334-e59e-4c81-c312-6c989857bb8f"
   },
   "outputs": [
    {
     "data": {
      "text/plain": [
       "1    1739\n",
       "2      38\n",
       "3      12\n",
       "5       3\n",
       "4       3\n",
       "Name: bean_origin, dtype: int64"
      ]
     },
     "execution_count": 26,
     "metadata": {},
     "output_type": "execute_result"
    }
   ],
   "source": [
    "(choco['bean_origin'].str.count(',') + 1).value_counts()"
   ]
  },
  {
   "cell_type": "code",
   "execution_count": 27,
   "metadata": {
    "colab": {
     "base_uri": "https://localhost:8080/",
     "height": 221
    },
    "colab_type": "code",
    "id": "-yBh6WBQfWeA",
    "outputId": "1b05b571-cc24-400d-95f2-c2ffae013360"
   },
   "outputs": [
    {
     "data": {
      "text/plain": [
       "array(['Amsterdam', 'Argentina', 'Australia', 'Austria', 'Belgium',\n",
       "       'Bolivia', 'Brazil', 'Canada', 'Chile', 'Colombia', 'Costa Rica',\n",
       "       'Czech Republic', 'Denmark', 'Domincan Republic', 'Ecuador',\n",
       "       'Eucador', 'Fiji', 'Finland', 'France', 'Germany', 'Ghana',\n",
       "       'Grenada', 'Guatemala', 'Honduras', 'Hungary', 'Iceland', 'India',\n",
       "       'Ireland', 'Israel', 'Italy', 'Japan', 'Lithuania', 'Madagascar',\n",
       "       'Martinique', 'Mexico', 'Netherlands', 'New Zealand', 'Niacragua',\n",
       "       'Nicaragua', 'Peru', 'Philippines', 'Poland', 'Portugal',\n",
       "       'Puerto Rico', 'Russia', 'Sao Tome', 'Scotland', 'Singapore',\n",
       "       'South Africa', 'South Korea', 'Spain', 'St. Lucia', 'Suriname',\n",
       "       'Sweden', 'Switzerland', 'U.K.', 'U.S.A.', 'Venezuela', 'Vietnam',\n",
       "       'Wales'], dtype=object)"
      ]
     },
     "execution_count": 27,
     "metadata": {},
     "output_type": "execute_result"
    }
   ],
   "source": [
    "choco['company_location'].sort_values().unique()"
   ]
  },
  {
   "cell_type": "code",
   "execution_count": 28,
   "metadata": {
    "colab": {
     "base_uri": "https://localhost:8080/",
     "height": 221
    },
    "colab_type": "code",
    "id": "w7wUra6qfWeE",
    "outputId": "40baecdd-c7cd-4a9f-93a7-aa6ea1b8a735"
   },
   "outputs": [
    {
     "data": {
      "text/plain": [
       "array(['Argentina', 'Australia', 'Austria', 'Belgium', 'Bolivia',\n",
       "       'Brazil', 'Canada', 'Chile', 'Colombia', 'Costa Rica',\n",
       "       'Czech Republic', 'Denmark', 'Dominican Republic', 'Ecuador',\n",
       "       'England', 'Eucador', 'Fiji', 'Finland', 'France', 'Germany',\n",
       "       'Ghana', 'Grenada', 'Guatemala', 'Holland', 'Honduras', 'Hungary',\n",
       "       'Iceland', 'India', 'Ireland', 'Israel', 'Italy', 'Japan',\n",
       "       'Lithuania', 'Madagascar', 'Martinique', 'Mexico', 'Netherlands',\n",
       "       'New Zealand', 'Nicaragua', 'Peru', 'Philippines', 'Poland',\n",
       "       'Portugal', 'Puerto Rico', 'Russia', 'Sao Tome', 'Scotland',\n",
       "       'Singapore', 'South Africa', 'South Korea', 'Spain', 'St. Lucia',\n",
       "       'Suriname', 'Sweden', 'Switzerland', 'U.S.A.', 'Venezuela',\n",
       "       'Vietnam', 'Wales'], dtype=object)"
      ]
     },
     "execution_count": 28,
     "metadata": {},
     "output_type": "execute_result"
    }
   ],
   "source": [
    "choco['company_location'] = choco['company_location']\\\n",
    ".str.replace('Amsterdam', 'Holland')\\\n",
    ".str.replace('U.K.', 'England')\\\n",
    ".str.replace('Niacragua', 'Nicaragua')\\\n",
    ".str.replace('Domincan Republic', 'Dominican Republic')\n",
    "\n",
    "choco['company_location'].sort_values().unique()"
   ]
  },
  {
   "cell_type": "code",
   "execution_count": 29,
   "metadata": {
    "colab": {
     "base_uri": "https://localhost:8080/",
     "height": 34
    },
    "colab_type": "code",
    "id": "ZrbNcJXOfWeH",
    "outputId": "78a47c2f-f0be-4f94-de72-140d153b6bd5"
   },
   "outputs": [
    {
     "data": {
      "text/plain": [
       "True"
      ]
     },
     "execution_count": 29,
     "metadata": {},
     "output_type": "execute_result"
    }
   ],
   "source": [
    "choco['company'].str.lower().sort_values().nunique() == choco['company'].sort_values().nunique()"
   ]
  },
  {
   "cell_type": "code",
   "execution_count": 30,
   "metadata": {
    "colab": {
     "base_uri": "https://localhost:8080/",
     "height": 68
    },
    "colab_type": "code",
    "id": "Y9UCN6lYfWeK",
    "outputId": "e9ec3d9b-e7c2-447e-aefc-8e789e96fdbd"
   },
   "outputs": [
    {
     "data": {
      "text/plain": [
       "0    1149\n",
       "1     646\n",
       "Name: is_blend, dtype: int64"
      ]
     },
     "execution_count": 30,
     "metadata": {},
     "output_type": "execute_result"
    }
   ],
   "source": [
    "choco['is_blend'] = np.where(\n",
    "    np.logical_or(choco['species'].str.lower().str.contains(',|(blend)|;'),\n",
    "        choco['bean_origin'].str.lower().str.contains(',')\n",
    "    )\n",
    "    , 1\n",
    "    , 0\n",
    ")\n",
    "choco['is_blend'].value_counts()"
   ]
  },
  {
   "cell_type": "code",
   "execution_count": 31,
   "metadata": {
    "colab": {
     "base_uri": "https://localhost:8080/",
     "height": 359
    },
    "colab_type": "code",
    "id": "o42NzjdbfWeO",
    "outputId": "4f2b5530-ad2e-4f1d-d539-be22d4de82a1"
   },
   "outputs": [
    {
     "data": {
      "text/html": [
       "<div>\n",
       "<style scoped>\n",
       "    .dataframe tbody tr th:only-of-type {\n",
       "        vertical-align: middle;\n",
       "    }\n",
       "\n",
       "    .dataframe tbody tr th {\n",
       "        vertical-align: top;\n",
       "    }\n",
       "\n",
       "    .dataframe thead th {\n",
       "        text-align: right;\n",
       "    }\n",
       "</style>\n",
       "<table border=\"1\" class=\"dataframe\">\n",
       "  <thead>\n",
       "    <tr style=\"text-align: right;\">\n",
       "      <th></th>\n",
       "      <th>company</th>\n",
       "      <th>species</th>\n",
       "      <th>REF</th>\n",
       "      <th>review_year</th>\n",
       "      <th>cocoa_percent</th>\n",
       "      <th>company_location</th>\n",
       "      <th>rating</th>\n",
       "      <th>bean_type</th>\n",
       "      <th>bean_origin</th>\n",
       "      <th>is_blend</th>\n",
       "    </tr>\n",
       "  </thead>\n",
       "  <tbody>\n",
       "    <tr>\n",
       "      <th>0</th>\n",
       "      <td>A. Morin</td>\n",
       "      <td>Agua Grande</td>\n",
       "      <td>1876</td>\n",
       "      <td>2016</td>\n",
       "      <td>0.63</td>\n",
       "      <td>France</td>\n",
       "      <td>3.75</td>\n",
       "      <td>Others</td>\n",
       "      <td>Sao Tome</td>\n",
       "      <td>0</td>\n",
       "    </tr>\n",
       "    <tr>\n",
       "      <th>1</th>\n",
       "      <td>A. Morin</td>\n",
       "      <td>Kpime</td>\n",
       "      <td>1676</td>\n",
       "      <td>2015</td>\n",
       "      <td>0.70</td>\n",
       "      <td>France</td>\n",
       "      <td>2.75</td>\n",
       "      <td>Others</td>\n",
       "      <td>Togo</td>\n",
       "      <td>0</td>\n",
       "    </tr>\n",
       "    <tr>\n",
       "      <th>2</th>\n",
       "      <td>A. Morin</td>\n",
       "      <td>Atsane</td>\n",
       "      <td>1676</td>\n",
       "      <td>2015</td>\n",
       "      <td>0.70</td>\n",
       "      <td>France</td>\n",
       "      <td>3.00</td>\n",
       "      <td>Others</td>\n",
       "      <td>Togo</td>\n",
       "      <td>0</td>\n",
       "    </tr>\n",
       "    <tr>\n",
       "      <th>3</th>\n",
       "      <td>A. Morin</td>\n",
       "      <td>Akata</td>\n",
       "      <td>1680</td>\n",
       "      <td>2015</td>\n",
       "      <td>0.70</td>\n",
       "      <td>France</td>\n",
       "      <td>3.50</td>\n",
       "      <td>Others</td>\n",
       "      <td>Togo</td>\n",
       "      <td>0</td>\n",
       "    </tr>\n",
       "    <tr>\n",
       "      <th>4</th>\n",
       "      <td>A. Morin</td>\n",
       "      <td>Quilla</td>\n",
       "      <td>1704</td>\n",
       "      <td>2015</td>\n",
       "      <td>0.70</td>\n",
       "      <td>France</td>\n",
       "      <td>3.50</td>\n",
       "      <td>Others</td>\n",
       "      <td>Peru</td>\n",
       "      <td>0</td>\n",
       "    </tr>\n",
       "    <tr>\n",
       "      <th>23</th>\n",
       "      <td>Acalli</td>\n",
       "      <td>Chulucanas, El Platanal</td>\n",
       "      <td>1462</td>\n",
       "      <td>2015</td>\n",
       "      <td>0.70</td>\n",
       "      <td>U.S.A.</td>\n",
       "      <td>3.75</td>\n",
       "      <td>Others</td>\n",
       "      <td>Peru</td>\n",
       "      <td>1</td>\n",
       "    </tr>\n",
       "    <tr>\n",
       "      <th>24</th>\n",
       "      <td>Acalli</td>\n",
       "      <td>Tumbes, Norandino</td>\n",
       "      <td>1470</td>\n",
       "      <td>2015</td>\n",
       "      <td>0.70</td>\n",
       "      <td>U.S.A.</td>\n",
       "      <td>3.75</td>\n",
       "      <td>Criollo</td>\n",
       "      <td>Peru</td>\n",
       "      <td>1</td>\n",
       "    </tr>\n",
       "    <tr>\n",
       "      <th>26</th>\n",
       "      <td>Adi</td>\n",
       "      <td>Vanua Levu, Toto-A</td>\n",
       "      <td>705</td>\n",
       "      <td>2011</td>\n",
       "      <td>0.80</td>\n",
       "      <td>Fiji</td>\n",
       "      <td>3.25</td>\n",
       "      <td>Trinitario</td>\n",
       "      <td>Fiji</td>\n",
       "      <td>1</td>\n",
       "    </tr>\n",
       "    <tr>\n",
       "      <th>28</th>\n",
       "      <td>Adi</td>\n",
       "      <td>Vanua Levu, Ami-Ami-CA</td>\n",
       "      <td>705</td>\n",
       "      <td>2011</td>\n",
       "      <td>0.72</td>\n",
       "      <td>Fiji</td>\n",
       "      <td>3.50</td>\n",
       "      <td>Trinitario</td>\n",
       "      <td>Fiji</td>\n",
       "      <td>1</td>\n",
       "    </tr>\n",
       "    <tr>\n",
       "      <th>29</th>\n",
       "      <td>Aequare (Gianduja)</td>\n",
       "      <td>Los Rios, Quevedo, Arriba</td>\n",
       "      <td>370</td>\n",
       "      <td>2009</td>\n",
       "      <td>0.55</td>\n",
       "      <td>Ecuador</td>\n",
       "      <td>2.75</td>\n",
       "      <td>Forastero (Arriba)</td>\n",
       "      <td>Ecuador</td>\n",
       "      <td>1</td>\n",
       "    </tr>\n",
       "  </tbody>\n",
       "</table>\n",
       "</div>"
      ],
      "text/plain": [
       "               company                    species   REF  review_year  \\\n",
       "0             A. Morin                Agua Grande  1876         2016   \n",
       "1             A. Morin                      Kpime  1676         2015   \n",
       "2             A. Morin                     Atsane  1676         2015   \n",
       "3             A. Morin                      Akata  1680         2015   \n",
       "4             A. Morin                     Quilla  1704         2015   \n",
       "23              Acalli    Chulucanas, El Platanal  1462         2015   \n",
       "24              Acalli          Tumbes, Norandino  1470         2015   \n",
       "26                 Adi         Vanua Levu, Toto-A   705         2011   \n",
       "28                 Adi     Vanua Levu, Ami-Ami-CA   705         2011   \n",
       "29  Aequare (Gianduja)  Los Rios, Quevedo, Arriba   370         2009   \n",
       "\n",
       "    cocoa_percent company_location  rating           bean_type bean_origin  \\\n",
       "0            0.63           France    3.75              Others    Sao Tome   \n",
       "1            0.70           France    2.75              Others        Togo   \n",
       "2            0.70           France    3.00              Others        Togo   \n",
       "3            0.70           France    3.50              Others        Togo   \n",
       "4            0.70           France    3.50              Others        Peru   \n",
       "23           0.70           U.S.A.    3.75              Others        Peru   \n",
       "24           0.70           U.S.A.    3.75             Criollo        Peru   \n",
       "26           0.80             Fiji    3.25          Trinitario        Fiji   \n",
       "28           0.72             Fiji    3.50          Trinitario        Fiji   \n",
       "29           0.55          Ecuador    2.75  Forastero (Arriba)     Ecuador   \n",
       "\n",
       "    is_blend  \n",
       "0          0  \n",
       "1          0  \n",
       "2          0  \n",
       "3          0  \n",
       "4          0  \n",
       "23         1  \n",
       "24         1  \n",
       "26         1  \n",
       "28         1  \n",
       "29         1  "
      ]
     },
     "execution_count": 31,
     "metadata": {},
     "output_type": "execute_result"
    }
   ],
   "source": [
    "choco.groupby('is_blend').head(5)"
   ]
  },
  {
   "cell_type": "code",
   "execution_count": 32,
   "metadata": {
    "colab": {
     "base_uri": "https://localhost:8080/",
     "height": 68
    },
    "colab_type": "code",
    "id": "EPIJMxWjfWeR",
    "outputId": "5ba876fa-eb7e-4774-a1d9-529c3025d17b"
   },
   "outputs": [
    {
     "data": {
      "text/plain": [
       "0    1590\n",
       "1     205\n",
       "Name: is_domestic, dtype: int64"
      ]
     },
     "execution_count": 32,
     "metadata": {},
     "output_type": "execute_result"
    }
   ],
   "source": [
    "choco['is_domestic'] = np.where(choco['bean_origin'] == choco['company_location'], 1, 0)\n",
    "choco['is_domestic'].value_counts()"
   ]
  },
  {
   "cell_type": "markdown",
   "metadata": {},
   "source": [
    "Export data in Google Drive"
   ]
  },
  {
   "cell_type": "code",
   "execution_count": null,
   "metadata": {
    "colab": {},
    "colab_type": "code",
    "id": "YyoefCDEfWeU"
   },
   "outputs": [],
   "source": [
    "export_csv = choco.to_csv (r'gdrive/My Drive/Colab Notebooks/data/01-chocolate-bar/export_chocolate.csv', index = None, header=True) "
   ]
  },
  {
   "cell_type": "markdown",
   "metadata": {},
   "source": [
    "Export data in Local Folder"
   ]
  },
  {
   "cell_type": "code",
   "execution_count": 33,
   "metadata": {},
   "outputs": [],
   "source": [
    "export_csv = choco.to_csv (r'data/01-chocolate-bar/export_chocolate.csv', index = None, header=True) "
   ]
  },
  {
   "cell_type": "markdown",
   "metadata": {},
   "source": [
    "Visualization"
   ]
  },
  {
   "cell_type": "code",
   "execution_count": 34,
   "metadata": {
    "colab": {
     "base_uri": "https://localhost:8080/",
     "height": 296
    },
    "colab_type": "code",
    "id": "ZuRs1N5HfWeW",
    "outputId": "8cd69c99-b140-4b2b-af95-364928e66f9b"
   },
   "outputs": [
    {
     "data": {
      "image/png": "[encoded data removed]",
      "text/plain": [
       "<Figure size 1152x288 with 1 Axes>"
      ]
     },
     "metadata": {
      "needs_background": "light"
     },
     "output_type": "display_data"
    }
   ],
   "source": [
    "fig, ax = plt.subplots(figsize=[16,4])\n",
    "sns.distplot(choco['cocoa_percent'], ax=ax)\n",
    "ax.set_title('Cocoa %, Distribution')\n",
    "plt.show()"
   ]
  },
  {
   "cell_type": "code",
   "execution_count": 35,
   "metadata": {
    "colab": {
     "base_uri": "https://localhost:8080/",
     "height": 296
    },
    "colab_type": "code",
    "id": "L2jyh9icfWeY",
    "outputId": "6ef97ffd-89a5-4253-8e0f-71eec8035271"
   },
   "outputs": [
    {
     "data": {
      "image/png": "[encoded data removed]",
      "text/plain": [
       "<Figure size 1152x288 with 1 Axes>"
      ]
     },
     "metadata": {
      "needs_background": "light"
     },
     "output_type": "display_data"
    }
   ],
   "source": [
    "fig, ax = plt.subplots(figsize=[16,4])\n",
    "for i, c in choco.groupby('is_domestic'):\n",
    "    sns.distplot(c['cocoa_percent'], ax=ax, label=['Not Domestic', 'Domestic'][i])\n",
    "ax.set_title('Cocoa %, Distribution, hue=Domestic')\n",
    "ax.legend()\n",
    "plt.show()"
   ]
  },
  {
   "cell_type": "code",
   "execution_count": 36,
   "metadata": {
    "colab": {
     "base_uri": "https://localhost:8080/",
     "height": 295
    },
    "colab_type": "code",
    "id": "NF-P2PdIfWec",
    "outputId": "d02a7148-c792-4df5-c147-c50618216f72"
   },
   "outputs": [
    {
     "data": {
      "image/png": "[encoded data removed]",
      "text/plain": [
       "<Figure size 1152x288 with 1 Axes>"
      ]
     },
     "metadata": {
      "needs_background": "light"
     },
     "output_type": "display_data"
    }
   ],
   "source": [
    "## Look at distribution of rating\n",
    "fig, ax = plt.subplots(figsize=[16,4])\n",
    "sns.distplot(choco['rating'], ax=ax)\n",
    "ax.set_title('Rating, Distribution')\n",
    "plt.show()"
   ]
  },
  {
   "cell_type": "code",
   "execution_count": 37,
   "metadata": {
    "colab": {
     "base_uri": "https://localhost:8080/",
     "height": 295
    },
    "colab_type": "code",
    "id": "S5DmVnWifWeg",
    "outputId": "7139a042-812e-4bdb-fd0d-55769cbdd681"
   },
   "outputs": [
    {
     "data": {
      "image/png": "[encoded data removed]",
      "text/plain": [
       "<Figure size 1152x288 with 1 Axes>"
      ]
     },
     "metadata": {
      "needs_background": "light"
     },
     "output_type": "display_data"
    }
   ],
   "source": [
    "fig, ax = plt.subplots(figsize=[16,4])\n",
    "for i, c in choco.groupby('is_domestic'):\n",
    "    sns.distplot(c['rating'], ax=ax, label=['Not Domestic', 'Domestic'][i])\n",
    "ax.set_title('Rating, Distribution, hue=Domestic')\n",
    "ax.legend()\n",
    "plt.show()"
   ]
  },
  {
   "cell_type": "code",
   "execution_count": 38,
   "metadata": {
    "colab": {
     "base_uri": "https://localhost:8080/",
     "height": 422
    },
    "colab_type": "code",
    "id": "6kCsgV6ufWem",
    "outputId": "042cec12-37f4-42a0-b15e-44b8daa4e16c"
   },
   "outputs": [
    {
     "data": {
      "text/plain": [
       "Text(0.5, 1.0, 'Boxplot, Rating by Domestic')"
      ]
     },
     "execution_count": 38,
     "metadata": {},
     "output_type": "execute_result"
    },
    {
     "data": {
      "image/png": "[encoded data removed]",
      "text/plain": [
       "<Figure size 432x432 with 1 Axes>"
      ]
     },
     "metadata": {
      "needs_background": "light"
     },
     "output_type": "display_data"
    }
   ],
   "source": [
    "fig, ax = plt.subplots(figsize=[6, 6])\n",
    "sns.boxplot(\n",
    "    data=choco,\n",
    "    x='is_domestic',\n",
    "    y='rating',\n",
    ")\n",
    "ax.set_title('Boxplot, Rating by Domestic')"
   ]
  },
  {
   "cell_type": "code",
   "execution_count": 39,
   "metadata": {
    "colab": {
     "base_uri": "https://localhost:8080/",
     "height": 422
    },
    "colab_type": "code",
    "id": "MP-c1eBRfWeq",
    "outputId": "611e386b-26c8-4ba0-c93f-5c105741847a"
   },
   "outputs": [
    {
     "data": {
      "text/plain": [
       "Text(0.5, 1.0, 'Boxplot, Rating by Blend/Pure')"
      ]
     },
     "execution_count": 39,
     "metadata": {},
     "output_type": "execute_result"
    },
    {
     "data": {
      "image/png": "[encoded data removed]",
      "text/plain": [
       "<Figure size 432x432 with 1 Axes>"
      ]
     },
     "metadata": {
      "needs_background": "light"
     },
     "output_type": "display_data"
    }
   ],
   "source": [
    "fig, ax = plt.subplots(figsize=[6, 6])\n",
    "sns.boxplot(\n",
    "    data=choco,\n",
    "    x='is_blend',\n",
    "    y='rating',\n",
    ")\n",
    "ax.set_title('Boxplot, Rating by Blend/Pure')"
   ]
  },
  {
   "cell_type": "code",
   "execution_count": 40,
   "metadata": {
    "colab": {
     "base_uri": "https://localhost:8080/",
     "height": 650
    },
    "colab_type": "code",
    "id": "fNzDGPqEfWet",
    "outputId": "6f701b81-1307-4cf1-9cca-43f0273502e5"
   },
   "outputs": [
    {
     "data": {
      "text/plain": [
       "Text(0.5, 1, 'Goods Flow from origin to Company location, mean rating')"
      ]
     },
     "execution_count": 40,
     "metadata": {},
     "output_type": "execute_result"
    },
    {
     "data": {
      "image/png": "[encoded data removed]",
      "text/plain": [
       "<Figure size 720x432 with 2 Axes>"
      ]
     },
     "metadata": {
      "needs_background": "light"
     },
     "output_type": "display_data"
    }
   ],
   "source": [
    "flow = pd.crosstab(\n",
    "    choco['company_location'],\n",
    "    choco['bean_origin'],\n",
    "    choco['rating'], aggfunc='mean'\n",
    ")\n",
    "flow['good'] = flow.sum(axis=1)\n",
    "flow = flow.sort_values('good', ascending=False)\n",
    "flow = flow.drop('good', axis=1)\n",
    "\n",
    "fig, ax = plt.subplots(figsize=[10,6])\n",
    "sns.heatmap(flow.head(20), cmap='RdBu_r', linewidths=.5)\n",
    "ax.set_title('Goods Flow from origin to Company location, mean rating')"
   ]
  },
  {
   "cell_type": "code",
   "execution_count": 41,
   "metadata": {
    "colab": {
     "base_uri": "https://localhost:8080/",
     "height": 422
    },
    "colab_type": "code",
    "id": "tgO878klfWex",
    "outputId": "4da8a515-29c9-493b-c560-7e181ad38e82"
   },
   "outputs": [
    {
     "data": {
      "text/plain": [
       "Text(0.5, 1, 'Goods Flow from Company location, mean rating by years')"
      ]
     },
     "execution_count": 41,
     "metadata": {},
     "output_type": "execute_result"
    },
    {
     "data": {
      "image/png": "[encoded data removed]",
      "text/plain": [
       "<Figure size 720x432 with 2 Axes>"
      ]
     },
     "metadata": {
      "needs_background": "light"
     },
     "output_type": "display_data"
    }
   ],
   "source": [
    "flow = pd.crosstab(\n",
    "    choco['company_location'],\n",
    "    choco['review_year'],\n",
    "    choco['rating'], aggfunc='mean'\n",
    ")\n",
    "flow['good'] = flow.sum(axis=1)\n",
    "flow = flow.sort_values('good', ascending=False)\n",
    "flow = flow.drop('good', axis=1)\n",
    "\n",
    "fig, ax = plt.subplots(figsize=[10,6])\n",
    "sns.heatmap(flow.head(20), cmap='RdBu_r', linewidths=.5)\n",
    "ax.set_title('Goods Flow from Company location, mean rating by years')"
   ]
  }
 ],
 "metadata": {
  "colab": {
   "name": "Team 1 - Chocolate Bar.ipynb",
   "provenance": [],
   "version": "0.3.2"
  },
  "kernelspec": {
   "display_name": "Python 3",
   "language": "python",
   "name": "python3"
  },
  "language_info": {
   "codemirror_mode": {
    "name": "ipython",
    "version": 3
   },
   "file_extension": ".py",
   "mimetype": "text/x-python",
   "name": "python",
   "nbconvert_exporter": "python",
   "pygments_lexer": "ipython3",
   "version": "3.7.3"
  }
 },
 "nbformat": 4,
 "nbformat_minor": 1
}
