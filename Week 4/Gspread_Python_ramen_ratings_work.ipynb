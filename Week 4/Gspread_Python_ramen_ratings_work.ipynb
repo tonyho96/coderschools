{
  "nbformat": 4,
  "nbformat_minor": 0,
  "metadata": {
    "colab": {
      "name": "Gspread Python - ramen ratings - work.ipynb",
      "version": "0.3.2",
      "provenance": [],
      "collapsed_sections": []
    },
    "kernelspec": {
      "name": "python3",
      "display_name": "Python 3"
    }
  },
  "cells": [
    {
      "cell_type": "code",
      "metadata": {
        "id": "RbQ9lIV1bO9w",
        "colab_type": "code",
        "outputId": "0f5517b1-8969-40e4-db88-25de444a5818",
        "colab": {
          "base_uri": "https://localhost:8080/",
          "height": 228
        }
      },
      "source": [
        "!pip install --upgrade -q gspread\n",
        "!pip install gspread oauth2client"
      ],
      "execution_count": 0,
      "outputs": [
        {
          "output_type": "stream",
          "text": [
            "Requirement already satisfied: gspread in /usr/local/lib/python3.6/dist-packages (3.1.0)\n",
            "Requirement already satisfied: oauth2client in /usr/local/lib/python3.6/dist-packages (4.1.3)\n",
            "Requirement already satisfied: requests>=2.2.1 in /usr/local/lib/python3.6/dist-packages (from gspread) (2.21.0)\n",
            "Requirement already satisfied: six>=1.6.1 in /usr/local/lib/python3.6/dist-packages (from oauth2client) (1.12.0)\n",
            "Requirement already satisfied: httplib2>=0.9.1 in /usr/local/lib/python3.6/dist-packages (from oauth2client) (0.11.3)\n",
            "Requirement already satisfied: pyasn1-modules>=0.0.5 in /usr/local/lib/python3.6/dist-packages (from oauth2client) (0.2.5)\n",
            "Requirement already satisfied: rsa>=3.1.4 in /usr/local/lib/python3.6/dist-packages (from oauth2client) (4.0)\n",
            "Requirement already satisfied: pyasn1>=0.1.7 in /usr/local/lib/python3.6/dist-packages (from oauth2client) (0.4.5)\n",
            "Requirement already satisfied: chardet<3.1.0,>=3.0.2 in /usr/local/lib/python3.6/dist-packages (from requests>=2.2.1->gspread) (3.0.4)\n",
            "Requirement already satisfied: certifi>=2017.4.17 in /usr/local/lib/python3.6/dist-packages (from requests>=2.2.1->gspread) (2019.6.16)\n",
            "Requirement already satisfied: idna<2.9,>=2.5 in /usr/local/lib/python3.6/dist-packages (from requests>=2.2.1->gspread) (2.8)\n",
            "Requirement already satisfied: urllib3<1.25,>=1.21.1 in /usr/local/lib/python3.6/dist-packages (from requests>=2.2.1->gspread) (1.24.3)\n"
          ],
          "name": "stdout"
        }
      ]
    },
    {
      "cell_type": "code",
      "metadata": {
        "id": "qam7GwRnbeLy",
        "colab_type": "code",
        "colab": {}
      },
      "source": [
        "from google.colab import auth\n",
        "auth.authenticate_user()\n",
        "\n",
        "import gspread\n",
        "from oauth2client.client import GoogleCredentials\n",
        "from gspread_dataframe import get_as_dataframe, set_with_dataframe \n"
      ],
      "execution_count": 0,
      "outputs": []
    },
    {
      "cell_type": "code",
      "metadata": {
        "id": "sKJd1H3GbqHz",
        "colab_type": "code",
        "colab": {}
      },
      "source": [
        "gc = gspread.authorize(GoogleCredentials.get_application_default()) #grant access to google drive "
      ],
      "execution_count": 0,
      "outputs": []
    },
    {
      "cell_type": "code",
      "metadata": {
        "id": "zydVGmewbz6W",
        "colab_type": "code",
        "colab": {}
      },
      "source": [
        "def check_exists(path):\n",
        "  # open the file. If exist return True\n",
        "  # Your code here"
      ],
      "execution_count": 0,
      "outputs": []
    },
    {
      "cell_type": "code",
      "metadata": {
        "id": "ckkzvAU4biGA",
        "colab_type": "code",
        "colab": {}
      },
      "source": [
        "def create_new_worksheet(path='worksheet', sheets={\"sheet1\":\"\"}):\n",
        "    if check_exists(path):\n",
        "        print('create_new_worksheet(): File exists')\n",
        "        return gc.open(path)\n",
        "    sh = gc.create(path)\n",
        "    for name, cols in sheets.items():\n",
        "        sh.add_worksheet(title=name, rows=\"100\", cols=\"100\")\n",
        "        sh.values_update(\n",
        "            name + '!A1',\n",
        "            params={'valueInputOption': 'RAW'},\n",
        "            body={'values': [cols]}\n",
        "        )      \n",
        "    sh.del_worksheet(sh.sheet1)\n",
        "    return sh\n"
      ],
      "execution_count": 0,
      "outputs": []
    },
    {
      "cell_type": "code",
      "metadata": {
        "id": "XSIIOpEpz2X9",
        "colab_type": "code",
        "colab": {}
      },
      "source": [
        "# Import numpy and pandas"
      ],
      "execution_count": 0,
      "outputs": []
    },
    {
      "cell_type": "code",
      "metadata": {
        "id": "gH588jf4z7rL",
        "colab_type": "code",
        "colab": {}
      },
      "source": [
        "link = 'https://ml101-khanhnguyen.s3-ap-southeast-1.amazonaws.com/devc/GDS/ramen-ratings.csv'\n",
        "ramen_ratings = # Your code here"
      ],
      "execution_count": 0,
      "outputs": []
    },
    {
      "cell_type": "code",
      "metadata": {
        "id": "VBSi0RSP0LMl",
        "colab_type": "code",
        "outputId": "0cf72fda-793f-4baa-c64b-2d5c02c82500",
        "colab": {
          "base_uri": "https://localhost:8080/",
          "height": 35
        }
      },
      "source": [
        "# Get name of columns"
      ],
      "execution_count": 0,
      "outputs": [
        {
          "output_type": "execute_result",
          "data": {
            "text/plain": [
              "['Review #', 'Brand', 'Variety', 'Style', 'Country', 'Stars', 'Top Ten']"
            ]
          },
          "metadata": {
            "tags": []
          },
          "execution_count": 10
        }
      ]
    },
    {
      "cell_type": "code",
      "metadata": {
        "id": "AIZWBtQcbjaI",
        "colab_type": "code",
        "colab": {}
      },
      "source": [
        "sheets = {\n",
        "    # Sheet name: column in this sheet\n",
        "}"
      ],
      "execution_count": 0,
      "outputs": []
    },
    {
      "cell_type": "code",
      "metadata": {
        "id": "QGccpAM72kLW",
        "colab_type": "code",
        "outputId": "9cdc401f-8a3b-4c17-a815-e65aad733927",
        "colab": {
          "base_uri": "https://localhost:8080/",
          "height": 35
        }
      },
      "source": [
        "# Use create_new_worksheet to create or open new worksheet \"ramen_ratings\"\n",
        "sh = # Your code here"
      ],
      "execution_count": 0,
      "outputs": [
        {
          "output_type": "stream",
          "text": [
            "create_new_worksheet(): File exists\n"
          ],
          "name": "stdout"
        }
      ]
    },
    {
      "cell_type": "code",
      "metadata": {
        "id": "xVjoR2MOb5D7",
        "colab_type": "code",
        "colab": {}
      },
      "source": [
        "# def transpose(worksheet='', sheet_id=int(), sheet_id_transpose=int()):\n",
        "#   wks = gc.open(worksheet)\n",
        "#   rows = wks.get_worksheet(sheet_id).row_values(1) # avoid getting Unnamed Cols\n",
        "  \n",
        "#   df1 = get_as_dataframe(wks.get_worksheet(sheet_id), index=False, usecols=range(len(rows))) #get worksheet as dataframe\n",
        "#   df2 = df1.fillna(\"\") # gspread doesn't understand NAN\n",
        "  \n",
        "#   df_tranpose = df2.transpose()\n",
        "#   df_tranpose.reset_index(inplace=True) # Title of the primary df is index in transpose df \n",
        "  \n",
        "#   wks.values_update( #Fill in the value of the transpose work sheet horizontally \n",
        "#     list(sheets.keys())[sheet_id_transpose] + '!A1', \n",
        "#     params={'valueInputOption': 'RAW'}, \n",
        "#     body={'values': df_tranpose.values.tolist()} \n",
        "#   )\n",
        "\n",
        "#   return wks"
      ],
      "execution_count": 0,
      "outputs": []
    },
    {
      "cell_type": "code",
      "metadata": {
        "id": "ChXAKq88buUY",
        "colab_type": "code",
        "colab": {}
      },
      "source": [
        "# def remove_wks(worksheet='', sheet_id_transpose=int(), row_delete=int()):\n",
        "#   wks = gc.open(worksheet)\n",
        "#   wks.get_worksheet(sheet_id_transpose).delete_row(row_delete)\n",
        "#   return wks"
      ],
      "execution_count": 0,
      "outputs": []
    },
    {
      "cell_type": "markdown",
      "metadata": {
        "id": "QXo-g4DQdb3H",
        "colab_type": "text"
      },
      "source": [
        "For more information about each block of code, please refer to the markdown."
      ]
    },
    {
      "cell_type": "markdown",
      "metadata": {
        "id": "atkkLNxBD4fu",
        "colab_type": "text"
      },
      "source": [
        "# Work with dataframe \n",
        "\n"
      ]
    },
    {
      "cell_type": "markdown",
      "metadata": {
        "id": "S6wjOAP5ZgwC",
        "colab_type": "text"
      },
      "source": [
        "## 1. Get google spreadsheet data as dataframe "
      ]
    },
    {
      "cell_type": "code",
      "metadata": {
        "id": "CP4MtDkjZfIN",
        "colab_type": "code",
        "colab": {}
      },
      "source": [
        "df = pd.DataFrame(sh.sheet1.get_all_records()) \n",
        "# Note:\n",
        "# replace sheet1 with the sheet you want to get data from.\n",
        "# sh is the sheet you has already open. Please refer to the code above if you don't know how to do it. "
      ],
      "execution_count": 0,
      "outputs": []
    },
    {
      "cell_type": "code",
      "metadata": {
        "id": "j-gaKvH-3voA",
        "colab_type": "code",
        "colab": {}
      },
      "source": [
        "df.head()"
      ],
      "execution_count": 0,
      "outputs": []
    },
    {
      "cell_type": "markdown",
      "metadata": {
        "id": "6w-c_9jyaBmg",
        "colab_type": "text"
      },
      "source": [
        "## 2. Push dataframe to google spreadsheet "
      ]
    },
    {
      "cell_type": "code",
      "metadata": {
        "id": "WDkFS9eyD3-6",
        "colab_type": "code",
        "colab": {}
      },
      "source": [
        "#Paste the header of the dataframe as column\n",
        "# sh.values_update(\n",
        "#     'ramen_ratings!A1', \n",
        "#     params={'valueInputOption': 'RAW'}, \n",
        "#     body={'values': [ramen_ratings.columns.tolist()]}\n",
        "# )\n",
        "#Paste the remaining data\n",
        "\n",
        "# Base on above syntax, fill sheet with data from ramen_ratings"
      ],
      "execution_count": 0,
      "outputs": []
    }
  ]
}