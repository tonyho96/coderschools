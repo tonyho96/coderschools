{
 "cells": [
  {
   "cell_type": "markdown",
   "metadata": {
    "colab_type": "text",
    "id": "eUBvcDOj0zBC"
   },
   "source": [
    "![](https://i.imgur.com/0AUxkXt.png)"
   ]
  },
  {
   "cell_type": "markdown",
   "metadata": {
    "colab_type": "text",
    "id": "w4BXkqhI02BU"
   },
   "source": [
    "# Lecture 1 - Basic Python & SQL"
   ]
  },
  {
   "cell_type": "markdown",
   "metadata": {
    "colab_type": "text",
    "id": "_4kQ_uWs1DLH"
   },
   "source": [
    "![alt text](https://)## Basic Python"
   ]
  },
  {
   "cell_type": "markdown",
   "metadata": {
    "colab_type": "text",
    "id": "VKfnwhKI1HbJ"
   },
   "source": [
    "### Variables and data types\n",
    "\n",
    "**DAwP is awesome**\n",
    "\n",
    "*That's right*\n",
    "\n",
    "* 1\n",
    "* 2\n",
    "\n",
    "```\n",
    "print('Hello World')\n",
    "```\n",
    "\n",
    "[vnexpress]()\n"
   ]
  },
  {
   "cell_type": "code",
   "execution_count": 0,
   "metadata": {
    "colab": {
     "base_uri": "https://localhost:8080/",
     "height": 52
    },
    "colab_type": "code",
    "executionInfo": {
     "elapsed": 881,
     "status": "ok",
     "timestamp": 1556510200098,
     "user": {
      "displayName": "Hai Minh Do",
      "photoUrl": "https://lh6.googleusercontent.com/-ZUlR9wP4IpA/AAAAAAAAAAI/AAAAAAAAAAc/F2ZaIjf8WSY/s64/photo.jpg",
      "userId": "12822549848477954436"
     },
     "user_tz": -420
    },
    "id": "oPNi3xbH1Lpt",
    "outputId": "b0e7f6dd-d5d9-4707-cafb-4cc373117da2"
   },
   "outputs": [
    {
     "name": "stdout",
     "output_type": "stream",
     "text": [
      "101\n"
     ]
    },
    {
     "data": {
      "text/plain": [
       "int"
      ]
     },
     "execution_count": 6,
     "metadata": {
      "tags": []
     },
     "output_type": "execute_result"
    }
   ],
   "source": [
    "# integer\n",
    "x = 100\n",
    "y = 2\n",
    "x = x + 1\n",
    "\n",
    "print(x)\n",
    "type(y)"
   ]
  },
  {
   "cell_type": "code",
   "execution_count": 0,
   "metadata": {
    "colab": {
     "base_uri": "https://localhost:8080/",
     "height": 52
    },
    "colab_type": "code",
    "executionInfo": {
     "elapsed": 1017,
     "status": "ok",
     "timestamp": 1556510214337,
     "user": {
      "displayName": "Hai Minh Do",
      "photoUrl": "https://lh6.googleusercontent.com/-ZUlR9wP4IpA/AAAAAAAAAAI/AAAAAAAAAAc/F2ZaIjf8WSY/s64/photo.jpg",
      "userId": "12822549848477954436"
     },
     "user_tz": -420
    },
    "id": "YIqeKxEk1MND",
    "outputId": "82210eed-127d-48eb-93a9-86d46abe923a"
   },
   "outputs": [
    {
     "name": "stdout",
     "output_type": "stream",
     "text": [
      "5\n"
     ]
    },
    {
     "data": {
      "text/plain": [
       "float"
      ]
     },
     "execution_count": 9,
     "metadata": {
      "tags": []
     },
     "output_type": "execute_result"
    }
   ],
   "source": [
    "# float - number with decimal point\n",
    "y = 2.5\n",
    "print(x)\n",
    "type(y)"
   ]
  },
  {
   "cell_type": "code",
   "execution_count": 0,
   "metadata": {
    "colab": {
     "base_uri": "https://localhost:8080/",
     "height": 190
    },
    "colab_type": "code",
    "executionInfo": {
     "elapsed": 986,
     "status": "ok",
     "timestamp": 1556510210683,
     "user": {
      "displayName": "Hai Minh Do",
      "photoUrl": "https://lh6.googleusercontent.com/-ZUlR9wP4IpA/AAAAAAAAAAI/AAAAAAAAAAc/F2ZaIjf8WSY/s64/photo.jpg",
      "userId": "12822549848477954436"
     },
     "user_tz": -420
    },
    "id": "uqEA75zH1MQU",
    "outputId": "1883306c-b10a-4c37-df74-bc6d21c2ffa3"
   },
   "outputs": [
    {
     "name": "stdout",
     "output_type": "stream",
     "text": [
      "103.5\n",
      "98.5\n",
      "40.4\n",
      "252.5\n",
      "---\n",
      "50\n",
      "1\n",
      "4\n",
      "0\n"
     ]
    },
    {
     "data": {
      "text/plain": [
       "True"
      ]
     },
     "execution_count": 8,
     "metadata": {
      "tags": []
     },
     "output_type": "execute_result"
    }
   ],
   "source": [
    "print(x + y)\n",
    "print(x - y)\n",
    "print(x / y)\n",
    "print(x * y)\n",
    "print('---')\n",
    "print(x // 2)\n",
    "print(x % 2)\n",
    "\n",
    "print(21 // 5)\n",
    "print(27 % 3)\n",
    "\n",
    "x = 5\n",
    "x % 2 == 1"
   ]
  },
  {
   "cell_type": "code",
   "execution_count": 0,
   "metadata": {
    "colab": {
     "base_uri": "https://localhost:8080/",
     "height": 35
    },
    "colab_type": "code",
    "executionInfo": {
     "elapsed": 757,
     "status": "ok",
     "timestamp": 1556106407480,
     "user": {
      "displayName": "Hai Minh Do",
      "photoUrl": "https://lh6.googleusercontent.com/-ZUlR9wP4IpA/AAAAAAAAAAI/AAAAAAAAAAc/F2ZaIjf8WSY/s64/photo.jpg",
      "userId": "12822549848477954436"
     },
     "user_tz": -420
    },
    "id": "DIJjU_RD1MS4",
    "outputId": "117b586f-34c6-4ed3-ae0b-35065e75a921"
   },
   "outputs": [
    {
     "name": "stdout",
     "output_type": "stream",
     "text": [
      "'hello' \"world\"\n"
     ]
    }
   ],
   "source": [
    "# string\n",
    "s1 = \"'hello'\"\n",
    "s2 = '\"world\"'\n",
    "type(s1)\n",
    "print(s1, s2)"
   ]
  },
  {
   "cell_type": "code",
   "execution_count": 0,
   "metadata": {
    "colab": {
     "base_uri": "https://localhost:8080/",
     "height": 35
    },
    "colab_type": "code",
    "executionInfo": {
     "elapsed": 642,
     "status": "ok",
     "timestamp": 1556106437987,
     "user": {
      "displayName": "Hai Minh Do",
      "photoUrl": "https://lh6.googleusercontent.com/-ZUlR9wP4IpA/AAAAAAAAAAI/AAAAAAAAAAc/F2ZaIjf8WSY/s64/photo.jpg",
      "userId": "12822549848477954436"
     },
     "user_tz": -420
    },
    "id": "8Cr-bMf91Vob",
    "outputId": "9aabe244-52c3-4698-9175-7ae8735fb963"
   },
   "outputs": [
    {
     "name": "stdout",
     "output_type": "stream",
     "text": [
      "'hello' \"world\"\n"
     ]
    }
   ],
   "source": [
    "message = s1 + ' ' + s2\n",
    "print(message)"
   ]
  },
  {
   "cell_type": "code",
   "execution_count": 0,
   "metadata": {
    "colab": {
     "base_uri": "https://localhost:8080/",
     "height": 52
    },
    "colab_type": "code",
    "executionInfo": {
     "elapsed": 1000,
     "status": "ok",
     "timestamp": 1555938315517,
     "user": {
      "displayName": "Hai Minh Do",
      "photoUrl": "https://lh6.googleusercontent.com/-ZUlR9wP4IpA/AAAAAAAAAAI/AAAAAAAAAAc/F2ZaIjf8WSY/s64/photo.jpg",
      "userId": "12822549848477954436"
     },
     "user_tz": -420
    },
    "id": "hitfrYDT1VyL",
    "outputId": "d37c756c-8e35-4a95-bc26-96da5f09ff11"
   },
   "outputs": [
    {
     "name": "stdout",
     "output_type": "stream",
     "text": [
      "False\n",
      "<class 'bool'>\n"
     ]
    }
   ],
   "source": [
    "# logical\n",
    "b = True\n",
    "print(not b)\n",
    "print(type(b))"
   ]
  },
  {
   "cell_type": "code",
   "execution_count": 0,
   "metadata": {
    "colab": {
     "base_uri": "https://localhost:8080/",
     "height": 104
    },
    "colab_type": "code",
    "executionInfo": {
     "elapsed": 1086,
     "status": "ok",
     "timestamp": 1555916247963,
     "user": {
      "displayName": "Hai Minh Do",
      "photoUrl": "https://lh6.googleusercontent.com/-ZUlR9wP4IpA/AAAAAAAAAAI/AAAAAAAAAAc/F2ZaIjf8WSY/s64/photo.jpg",
      "userId": "12822549848477954436"
     },
     "user_tz": -420
    },
    "id": "BrnzpRSc1Vzr",
    "outputId": "d6a6e5f4-9ff8-4137-dbb5-2f11203f6261"
   },
   "outputs": [
    {
     "name": "stdout",
     "output_type": "stream",
     "text": [
      "2 < 3 : True\n",
      "10 > 20 : False\n",
      "4 == 5 : False\n",
      "4 != 5 : True\n",
      "3 is not between 1 and 5 : False\n"
     ]
    }
   ],
   "source": [
    "print('2 < 3 :', 2 < 3)\n",
    "print('10 > 20 :', 10 > 20)\n",
    "print('4 == 5 :', 4 == 5)\n",
    "print('4 != 5 :', 4 != 5)\n",
    "\n",
    "x = 3\n",
    "min = 1\n",
    "max = 5\n",
    "print(x, 'is not between', min, 'and', max, ':', not ((x >= min) and (x <= max))) \n",
    "# How about not between?"
   ]
  },
  {
   "cell_type": "markdown",
   "metadata": {
    "colab_type": "text",
    "id": "mH0uDiDO1tUH"
   },
   "source": [
    "### The if-statement"
   ]
  },
  {
   "cell_type": "code",
   "execution_count": 0,
   "metadata": {
    "colab": {
     "base_uri": "https://localhost:8080/",
     "height": 35
    },
    "colab_type": "code",
    "executionInfo": {
     "elapsed": 1025,
     "status": "ok",
     "timestamp": 1556512638042,
     "user": {
      "displayName": "Hai Minh Do",
      "photoUrl": "https://lh6.googleusercontent.com/-ZUlR9wP4IpA/AAAAAAAAAAI/AAAAAAAAAAc/F2ZaIjf8WSY/s64/photo.jpg",
      "userId": "12822549848477954436"
     },
     "user_tz": -420
    },
    "id": "7BFCOtML1c7v",
    "outputId": "bddbcd52-4916-4876-d688-330d1451a5aa"
   },
   "outputs": [
    {
     "data": {
      "text/plain": [
       "8"
      ]
     },
     "execution_count": 26,
     "metadata": {
      "tags": []
     },
     "output_type": "execute_result"
    }
   ],
   "source": [
    "import numpy as np\n",
    "\n",
    "x = np.random.randint(10)\n",
    "x"
   ]
  },
  {
   "cell_type": "code",
   "execution_count": 0,
   "metadata": {
    "colab": {
     "base_uri": "https://localhost:8080/",
     "height": 52
    },
    "colab_type": "code",
    "executionInfo": {
     "elapsed": 853,
     "status": "ok",
     "timestamp": 1556106711806,
     "user": {
      "displayName": "Hai Minh Do",
      "photoUrl": "https://lh6.googleusercontent.com/-ZUlR9wP4IpA/AAAAAAAAAAI/AAAAAAAAAAc/F2ZaIjf8WSY/s64/photo.jpg",
      "userId": "12822549848477954436"
     },
     "user_tz": -420
    },
    "id": "UUq010rK1c-1",
    "outputId": "78ce9e40-76f1-4a67-c76d-0eef1eb72092"
   },
   "outputs": [
    {
     "name": "stdout",
     "output_type": "stream",
     "text": [
      "3\n",
      "equal 3\n"
     ]
    }
   ],
   "source": [
    "x = np.random.randint(10)\n",
    "# x = 3\n",
    "answer = ''\n",
    "if x > 5: \n",
    "    answer = \"Greater than 5\"\n",
    "elif x < 3:\n",
    "    answer = \"Less than 3\"\n",
    "else:\n",
    "    if x == 3:\n",
    "        answer = \"equal 3\"\n",
    "    elif x == 4:\n",
    "        answer = \"equal 4\"\n",
    "    else:\n",
    "        answer = \"equal 5\"\n",
    "print(x)\n",
    "print(answer)\n",
    "\n",
    "# Notice the code indentation"
   ]
  },
  {
   "cell_type": "markdown",
   "metadata": {
    "colab_type": "text",
    "id": "qe0w_-7I13Lk"
   },
   "source": [
    "### The for-loop"
   ]
  },
  {
   "cell_type": "code",
   "execution_count": 0,
   "metadata": {
    "colab": {
     "base_uri": "https://localhost:8080/",
     "height": 204
    },
    "colab_type": "code",
    "executionInfo": {
     "elapsed": 1002,
     "status": "ok",
     "timestamp": 1557314104905,
     "user": {
      "displayName": "Hai Minh Do",
      "photoUrl": "https://lh6.googleusercontent.com/-ZUlR9wP4IpA/AAAAAAAAAAI/AAAAAAAAAAc/F2ZaIjf8WSY/s64/photo.jpg",
      "userId": "12822549848477954436"
     },
     "user_tz": -420
    },
    "id": "2f6THOF71dBd",
    "outputId": "d703385c-1144-45ec-a1db-668cb4f19561"
   },
   "outputs": [
    {
     "name": "stdout",
     "output_type": "stream",
     "text": [
      "[4, 5, 3]\n",
      "Hello Python\n",
      "3\n",
      "Hello Python\n",
      "4\n",
      "Hello Python\n",
      "5\n",
      "Hello Python\n",
      "3\n",
      "Hello Python\n",
      "4\n"
     ]
    }
   ],
   "source": [
    "a = [3, 4, 5, 3, 4]\n",
    "\n",
    "print(a[1:4])\n",
    "for i in a:\n",
    "    print(\"Hello Python\")\n",
    "    print(i)\n"
   ]
  },
  {
   "cell_type": "code",
   "execution_count": 0,
   "metadata": {
    "colab": {
     "base_uri": "https://localhost:8080/",
     "height": 35
    },
    "colab_type": "code",
    "executionInfo": {
     "elapsed": 1020,
     "status": "ok",
     "timestamp": 1556511530039,
     "user": {
      "displayName": "Hai Minh Do",
      "photoUrl": "https://lh6.googleusercontent.com/-ZUlR9wP4IpA/AAAAAAAAAAI/AAAAAAAAAAc/F2ZaIjf8WSY/s64/photo.jpg",
      "userId": "12822549848477954436"
     },
     "user_tz": -420
    },
    "id": "3gCw_scAK-xW",
    "outputId": "cddd9667-6a7f-4aff-a620-5cd111d1172b"
   },
   "outputs": [
    {
     "data": {
      "text/plain": [
       "[0, 1, 2]"
      ]
     },
     "execution_count": 19,
     "metadata": {
      "tags": []
     },
     "output_type": "execute_result"
    }
   ],
   "source": [
    "list(range(3))"
   ]
  },
  {
   "cell_type": "code",
   "execution_count": 0,
   "metadata": {
    "colab": {
     "base_uri": "https://localhost:8080/",
     "height": 35
    },
    "colab_type": "code",
    "executionInfo": {
     "elapsed": 1169,
     "status": "ok",
     "timestamp": 1555916381675,
     "user": {
      "displayName": "Hai Minh Do",
      "photoUrl": "https://lh6.googleusercontent.com/-ZUlR9wP4IpA/AAAAAAAAAAI/AAAAAAAAAAc/F2ZaIjf8WSY/s64/photo.jpg",
      "userId": "12822549848477954436"
     },
     "user_tz": -420
    },
    "id": "Hu2pYU1bfvr6",
    "outputId": "89069338-fdea-4b94-8736-e30da591532d"
   },
   "outputs": [
    {
     "data": {
      "text/plain": [
       "[3, 4]"
      ]
     },
     "execution_count": 3,
     "metadata": {
      "tags": []
     },
     "output_type": "execute_result"
    }
   ],
   "source": [
    "list(range(3, 5))"
   ]
  },
  {
   "cell_type": "code",
   "execution_count": 0,
   "metadata": {
    "colab": {
     "base_uri": "https://localhost:8080/",
     "height": 380
    },
    "colab_type": "code",
    "executionInfo": {
     "elapsed": 1379,
     "status": "ok",
     "timestamp": 1555939037009,
     "user": {
      "displayName": "Hai Minh Do",
      "photoUrl": "https://lh6.googleusercontent.com/-ZUlR9wP4IpA/AAAAAAAAAAI/AAAAAAAAAAc/F2ZaIjf8WSY/s64/photo.jpg",
      "userId": "12822549848477954436"
     },
     "user_tz": -420
    },
    "id": "2R3iyU7J19jk",
    "outputId": "9a4169c0-b43d-4391-acc9-d18127cf17e4"
   },
   "outputs": [
    {
     "name": "stdout",
     "output_type": "stream",
     "text": [
      "--- values in the list ---\n",
      "1\n",
      "2\n",
      "5\n",
      "10\n",
      "20\n",
      "50\n",
      "100\n",
      "200\n",
      "500\n",
      "--- enumerate ---\n",
      "0 1\n",
      "1 2\n",
      "2 5\n",
      "3 10\n",
      "4 20\n",
      "5 50\n",
      "6 100\n",
      "7 200\n",
      "8 500\n"
     ]
    },
    {
     "data": {
      "text/plain": [
       "200"
      ]
     },
     "execution_count": 66,
     "metadata": {
      "tags": []
     },
     "output_type": "execute_result"
    }
   ],
   "source": [
    "# Another way\n",
    "myList = [1, 2, 5, 10, 20, 50, 100, 200, 500]\n",
    "\n",
    "print('--- values in the list ---')\n",
    "for i in myList:\n",
    "    print(i)\n",
    "print('--- enumerate ---')\n",
    "for index, value in enumerate(myList):\n",
    "    print(index, value)\n",
    "    \n",
    "myList[-2]"
   ]
  },
  {
   "cell_type": "markdown",
   "metadata": {
    "colab_type": "text",
    "id": "caTd8gn32BU4"
   },
   "source": [
    "### The while-loop"
   ]
  },
  {
   "cell_type": "code",
   "execution_count": 0,
   "metadata": {
    "colab": {
     "base_uri": "https://localhost:8080/",
     "height": 121
    },
    "colab_type": "code",
    "executionInfo": {
     "elapsed": 1071,
     "status": "ok",
     "timestamp": 1555939143448,
     "user": {
      "displayName": "Hai Minh Do",
      "photoUrl": "https://lh6.googleusercontent.com/-ZUlR9wP4IpA/AAAAAAAAAAI/AAAAAAAAAAc/F2ZaIjf8WSY/s64/photo.jpg",
      "userId": "12822549848477954436"
     },
     "user_tz": -420
    },
    "id": "Qe-4_pWY19m6",
    "outputId": "474c0344-0e91-4184-a448-c7b0b951bd06"
   },
   "outputs": [
    {
     "name": "stdout",
     "output_type": "stream",
     "text": [
      "0\n",
      "2\n",
      "4\n",
      "6\n",
      "8\n",
      "10\n"
     ]
    }
   ],
   "source": [
    "counter = 0\n",
    "while (counter < 12):\n",
    "    print(counter)d\n",
    "    counter = counter + 2"
   ]
  },
  {
   "cell_type": "markdown",
   "metadata": {
    "colab_type": "text",
    "id": "bLkJkQi62J6-"
   },
   "source": [
    "### Example: Money exchange"
   ]
  },
  {
   "cell_type": "code",
   "execution_count": 0,
   "metadata": {
    "colab": {
     "base_uri": "https://localhost:8080/",
     "height": 121
    },
    "colab_type": "code",
    "executionInfo": {
     "elapsed": 1221,
     "status": "ok",
     "timestamp": 1556512488735,
     "user": {
      "displayName": "Hai Minh Do",
      "photoUrl": "https://lh6.googleusercontent.com/-ZUlR9wP4IpA/AAAAAAAAAAI/AAAAAAAAAAc/F2ZaIjf8WSY/s64/photo.jpg",
      "userId": "12822549848477954436"
     },
     "user_tz": -420
    },
    "id": "mJ7GN-pf19o6",
    "outputId": "36e47685-56b7-48e3-a84c-f70107462a78"
   },
   "outputs": [
    {
     "name": "stdout",
     "output_type": "stream",
     "text": [
      "[4, 1, 1, 0, 0, 0, 0, 0, 0]\n",
      "0\n",
      "2300 can be exchanged with\n",
      "4 x 500 k\n",
      "1 x 200 k\n",
      "1 x 100 k\n"
     ]
    }
   ],
   "source": [
    "money = 2300\n",
    "origin = money\n",
    "\n",
    "values = [500, 200, 100, 50, 20, 10, 5, 2, 1]\n",
    "# result = np.zeros(len(values))\n",
    "result = [0, 0, 0, 0, 0, 0, 0, 0, 0]\n",
    "\n",
    "while (money > 0):\n",
    "    for index, value in enumerate(values):\n",
    "        while (money >= value):\n",
    "            result[index] = result[index] + 1\n",
    "            money = money - value\n",
    "print(result)      \n",
    "print(money)\n",
    "# money = sum(result * values)\n",
    "print(origin, 'can be exchanged with')\n",
    "for i in range(len(values)):\n",
    "    if result[i]>0:\n",
    "        print(result[i], 'x', values[i],'k')"
   ]
  },
  {
   "cell_type": "markdown",
   "metadata": {
    "colab_type": "text",
    "id": "LST45n6Z2Rg6"
   },
   "source": [
    "### The function"
   ]
  },
  {
   "cell_type": "code",
   "execution_count": 0,
   "metadata": {
    "colab": {},
    "colab_type": "code",
    "id": "URc5CssTgBDC"
   },
   "outputs": [],
   "source": [
    "def exchange(money):\n",
    "  values = [500, 200, 100, 50, 20, 10, 5, 2, 1]\n",
    "  result = np.zeros(len(values))\n",
    "  \n",
    "  while (money > 0):\n",
    "    for index, value in enumerate(values):\n",
    "        while (money >= value):\n",
    "            result[index] = result[index] + 1\n",
    "            money = money - values[index]\n",
    "            \n",
    "  money = sum(result * values)\n",
    "  print(money, 'can be exchanged with')\n",
    "  for i in range(len(values)):\n",
    "      if result[i]>0:\n",
    "          print(result[i], 'x', values[i],'k')"
   ]
  },
  {
   "cell_type": "code",
   "execution_count": 0,
   "metadata": {
    "colab": {
     "base_uri": "https://localhost:8080/",
     "height": 69
    },
    "colab_type": "code",
    "executionInfo": {
     "elapsed": 1245,
     "status": "ok",
     "timestamp": 1556512649930,
     "user": {
      "displayName": "Hai Minh Do",
      "photoUrl": "https://lh6.googleusercontent.com/-ZUlR9wP4IpA/AAAAAAAAAAI/AAAAAAAAAAc/F2ZaIjf8WSY/s64/photo.jpg",
      "userId": "12822549848477954436"
     },
     "user_tz": -420
    },
    "id": "7FfsRxDEgkbR",
    "outputId": "5f188f2c-0311-4e06-8d52-52950fa3f4ca"
   },
   "outputs": [
    {
     "name": "stdout",
     "output_type": "stream",
     "text": [
      "2400.0 can be exchanged with\n",
      "4.0 x 500 k\n",
      "2.0 x 200 k\n"
     ]
    }
   ],
   "source": [
    "exchange(2400)\n",
    "\n"
   ]
  },
  {
   "cell_type": "code",
   "execution_count": 0,
   "metadata": {
    "colab": {
     "base_uri": "https://localhost:8080/",
     "height": 52
    },
    "colab_type": "code",
    "executionInfo": {
     "elapsed": 512,
     "status": "ok",
     "timestamp": 1555940641015,
     "user": {
      "displayName": "Hai Minh Do",
      "photoUrl": "https://lh6.googleusercontent.com/-ZUlR9wP4IpA/AAAAAAAAAAI/AAAAAAAAAAc/F2ZaIjf8WSY/s64/photo.jpg",
      "userId": "12822549848477954436"
     },
     "user_tz": -420
    },
    "id": "b3Q_qv2xRsr7",
    "outputId": "58f6668a-900d-4aaa-d51d-0ce95f556ef8"
   },
   "outputs": [
    {
     "name": "stdout",
     "output_type": "stream",
     "text": [
      "[1, 2, 5, 10, 20, 50, 100, 200, 500]\n"
     ]
    },
    {
     "data": {
      "text/plain": [
       "[1, 2, 5, 10, 20, 50, 100, 200, 500]"
      ]
     },
     "execution_count": 81,
     "metadata": {
      "tags": []
     },
     "output_type": "execute_result"
    }
   ],
   "source": [
    "print(myList)\n",
    "myList[:5][:5]"
   ]
  },
  {
   "cell_type": "markdown",
   "metadata": {
    "colab_type": "text",
    "id": "mXuSxI_G2WAr"
   },
   "source": [
    "## SQL - Structured Query Language"
   ]
  },
  {
   "cell_type": "markdown",
   "metadata": {
    "colab_type": "text",
    "id": "sZ1Cbhlr2jga"
   },
   "source": [
    "![](https://i.imgur.com/kCaiMK5.png)"
   ]
  },
  {
   "cell_type": "code",
   "execution_count": 0,
   "metadata": {
    "colab": {
     "base_uri": "https://localhost:8080/",
     "height": 55
    },
    "colab_type": "code",
    "executionInfo": {
     "elapsed": 1089,
     "status": "ok",
     "timestamp": 1555941412607,
     "user": {
      "displayName": "Hai Minh Do",
      "photoUrl": "https://lh6.googleusercontent.com/-ZUlR9wP4IpA/AAAAAAAAAAI/AAAAAAAAAAc/F2ZaIjf8WSY/s64/photo.jpg",
      "userId": "12822549848477954436"
     },
     "user_tz": -420
    },
    "id": "n_lTREzngpW0",
    "outputId": "4d700c4f-4587-4a89-a5de-3c2a74f61271"
   },
   "outputs": [
    {
     "name": "stdout",
     "output_type": "stream",
     "text": [
      "Drive already mounted at /content/gdrive; to attempt to forcibly remount, call drive.mount(\"/content/gdrive\", force_remount=True).\n"
     ]
    }
   ],
   "source": [
    "from google.colab import drive\n",
    "drive.mount('/content/gdrive')"
   ]
  },
  {
   "cell_type": "code",
   "execution_count": 0,
   "metadata": {
    "colab": {},
    "colab_type": "code",
    "id": "nda9fusng81w"
   },
   "outputs": [],
   "source": [
    "import sqlite3\n",
    "conn = sqlite3.connect('gdrive/My Drive/CoderSchool-DAwP/Data/SQLite/chinook.db')"
   ]
  },
  {
   "cell_type": "code",
   "execution_count": 0,
   "metadata": {
    "colab": {},
    "colab_type": "code",
    "id": "F9U3nvVdBeC8"
   },
   "outputs": [],
   "source": [
    "cur = conn.cursor()"
   ]
  },
  {
   "cell_type": "code",
   "execution_count": 0,
   "metadata": {
    "colab": {
     "base_uri": "https://localhost:8080/",
     "height": 35
    },
    "colab_type": "code",
    "executionInfo": {
     "elapsed": 1104,
     "status": "ok",
     "timestamp": 1555941513251,
     "user": {
      "displayName": "Hai Minh Do",
      "photoUrl": "https://lh6.googleusercontent.com/-ZUlR9wP4IpA/AAAAAAAAAAI/AAAAAAAAAAc/F2ZaIjf8WSY/s64/photo.jpg",
      "userId": "12822549848477954436"
     },
     "user_tz": -420
    },
    "id": "wh8b_KWPBnC9",
    "outputId": "ca88e80f-2b07-4a84-af4c-cffa0e5f6382"
   },
   "outputs": [
    {
     "data": {
      "text/plain": [
       "<sqlite3.Cursor at 0x7fbba2289f80>"
      ]
     },
     "execution_count": 85,
     "metadata": {
      "tags": []
     },
     "output_type": "execute_result"
    }
   ],
   "source": [
    "cur.execute('SELECT * FROM albums LIMIT 5;')"
   ]
  },
  {
   "cell_type": "code",
   "execution_count": 0,
   "metadata": {
    "colab": {
     "base_uri": "https://localhost:8080/",
     "height": 55
    },
    "colab_type": "code",
    "executionInfo": {
     "elapsed": 1166,
     "status": "ok",
     "timestamp": 1555941515401,
     "user": {
      "displayName": "Hai Minh Do",
      "photoUrl": "https://lh6.googleusercontent.com/-ZUlR9wP4IpA/AAAAAAAAAAI/AAAAAAAAAAc/F2ZaIjf8WSY/s64/photo.jpg",
      "userId": "12822549848477954436"
     },
     "user_tz": -420
    },
    "id": "F2piltRTBzh2",
    "outputId": "19b3d569-0e81-47ba-a081-4c3d5b37c078"
   },
   "outputs": [
    {
     "name": "stdout",
     "output_type": "stream",
     "text": [
      "[(1, 'For Those About To Rock We Salute You', 1), (2, 'Balls to the Wall', 2), (3, 'Restless and Wild', 2), (4, 'Let There Be Rock', 1), (5, 'Big Ones', 3)]\n"
     ]
    }
   ],
   "source": [
    "results = cur.fetchall()\n",
    "print(results)"
   ]
  },
  {
   "cell_type": "code",
   "execution_count": 0,
   "metadata": {
    "colab": {
     "base_uri": "https://localhost:8080/",
     "height": 348
    },
    "colab_type": "code",
    "executionInfo": {
     "elapsed": 1344,
     "status": "ok",
     "timestamp": 1555941642381,
     "user": {
      "displayName": "Hai Minh Do",
      "photoUrl": "https://lh6.googleusercontent.com/-ZUlR9wP4IpA/AAAAAAAAAAI/AAAAAAAAAAc/F2ZaIjf8WSY/s64/photo.jpg",
      "userId": "12822549848477954436"
     },
     "user_tz": -420
    },
    "id": "YbXBU-ZtCaKQ",
    "outputId": "35a9709c-7c00-4f42-f795-ee3440254898"
   },
   "outputs": [
    {
     "data": {
      "text/html": [
       "<div>\n",
       "<style scoped>\n",
       "    .dataframe tbody tr th:only-of-type {\n",
       "        vertical-align: middle;\n",
       "    }\n",
       "\n",
       "    .dataframe tbody tr th {\n",
       "        vertical-align: top;\n",
       "    }\n",
       "\n",
       "    .dataframe thead th {\n",
       "        text-align: right;\n",
       "    }\n",
       "</style>\n",
       "<table border=\"1\" class=\"dataframe\">\n",
       "  <thead>\n",
       "    <tr style=\"text-align: right;\">\n",
       "      <th></th>\n",
       "      <th>AlbumId</th>\n",
       "      <th>Title</th>\n",
       "    </tr>\n",
       "  </thead>\n",
       "  <tbody>\n",
       "    <tr>\n",
       "      <th>0</th>\n",
       "      <td>6</td>\n",
       "      <td>Jagged Little Pill</td>\n",
       "    </tr>\n",
       "    <tr>\n",
       "      <th>1</th>\n",
       "      <td>7</td>\n",
       "      <td>Facelift</td>\n",
       "    </tr>\n",
       "    <tr>\n",
       "      <th>2</th>\n",
       "      <td>8</td>\n",
       "      <td>Warner 25 Anos</td>\n",
       "    </tr>\n",
       "    <tr>\n",
       "      <th>3</th>\n",
       "      <td>9</td>\n",
       "      <td>Plays Metallica By Four Cellos</td>\n",
       "    </tr>\n",
       "    <tr>\n",
       "      <th>4</th>\n",
       "      <td>10</td>\n",
       "      <td>Audioslave</td>\n",
       "    </tr>\n",
       "    <tr>\n",
       "      <th>5</th>\n",
       "      <td>11</td>\n",
       "      <td>Out Of Exile</td>\n",
       "    </tr>\n",
       "    <tr>\n",
       "      <th>6</th>\n",
       "      <td>12</td>\n",
       "      <td>BackBeat Soundtrack</td>\n",
       "    </tr>\n",
       "    <tr>\n",
       "      <th>7</th>\n",
       "      <td>13</td>\n",
       "      <td>The Best Of Billy Cobham</td>\n",
       "    </tr>\n",
       "    <tr>\n",
       "      <th>8</th>\n",
       "      <td>14</td>\n",
       "      <td>Alcohol Fueled Brewtality Live! [Disc 1]</td>\n",
       "    </tr>\n",
       "    <tr>\n",
       "      <th>9</th>\n",
       "      <td>15</td>\n",
       "      <td>Alcohol Fueled Brewtality Live! [Disc 2]</td>\n",
       "    </tr>\n",
       "  </tbody>\n",
       "</table>\n",
       "</div>"
      ],
      "text/plain": [
       "   AlbumId                                     Title\n",
       "0        6                        Jagged Little Pill\n",
       "1        7                                  Facelift\n",
       "2        8                            Warner 25 Anos\n",
       "3        9            Plays Metallica By Four Cellos\n",
       "4       10                                Audioslave\n",
       "5       11                              Out Of Exile\n",
       "6       12                       BackBeat Soundtrack\n",
       "7       13                  The Best Of Billy Cobham\n",
       "8       14  Alcohol Fueled Brewtality Live! [Disc 1]\n",
       "9       15  Alcohol Fueled Brewtality Live! [Disc 2]"
      ]
     },
     "execution_count": 92,
     "metadata": {
      "tags": []
     },
     "output_type": "execute_result"
    }
   ],
   "source": [
    "import pandas as pd\n",
    "df = pd.read_sql_query('SELECT albumid, title FROM albums LIMIT 10;', conn)\n",
    "df"
   ]
  },
  {
   "cell_type": "code",
   "execution_count": 0,
   "metadata": {
    "colab": {
     "base_uri": "https://localhost:8080/",
     "height": 198
    },
    "colab_type": "code",
    "executionInfo": {
     "elapsed": 1199,
     "status": "ok",
     "timestamp": 1555941679590,
     "user": {
      "displayName": "Hai Minh Do",
      "photoUrl": "https://lh6.googleusercontent.com/-ZUlR9wP4IpA/AAAAAAAAAAI/AAAAAAAAAAc/F2ZaIjf8WSY/s64/photo.jpg",
      "userId": "12822549848477954436"
     },
     "user_tz": -420
    },
    "id": "wNGpPnJKC9db",
    "outputId": "a55d2532-36a3-41cf-83e1-cb4227eef9b0"
   },
   "outputs": [
    {
     "data": {
      "text/html": [
       "<div>\n",
       "<style scoped>\n",
       "    .dataframe tbody tr th:only-of-type {\n",
       "        vertical-align: middle;\n",
       "    }\n",
       "\n",
       "    .dataframe tbody tr th {\n",
       "        vertical-align: top;\n",
       "    }\n",
       "\n",
       "    .dataframe thead th {\n",
       "        text-align: right;\n",
       "    }\n",
       "</style>\n",
       "<table border=\"1\" class=\"dataframe\">\n",
       "  <thead>\n",
       "    <tr style=\"text-align: right;\">\n",
       "      <th></th>\n",
       "      <th>AlbumId</th>\n",
       "      <th>Title</th>\n",
       "      <th>ArtistId</th>\n",
       "    </tr>\n",
       "  </thead>\n",
       "  <tbody>\n",
       "    <tr>\n",
       "      <th>0</th>\n",
       "      <td>156</td>\n",
       "      <td>...And Justice For All</td>\n",
       "      <td>50</td>\n",
       "    </tr>\n",
       "    <tr>\n",
       "      <th>1</th>\n",
       "      <td>257</td>\n",
       "      <td>20th Century Masters - The Millennium Collecti...</td>\n",
       "      <td>179</td>\n",
       "    </tr>\n",
       "    <tr>\n",
       "      <th>2</th>\n",
       "      <td>296</td>\n",
       "      <td>A Copland Celebration, Vol. I</td>\n",
       "      <td>230</td>\n",
       "    </tr>\n",
       "    <tr>\n",
       "      <th>3</th>\n",
       "      <td>94</td>\n",
       "      <td>A Matter of Life and Death</td>\n",
       "      <td>90</td>\n",
       "    </tr>\n",
       "    <tr>\n",
       "      <th>4</th>\n",
       "      <td>95</td>\n",
       "      <td>A Real Dead One</td>\n",
       "      <td>90</td>\n",
       "    </tr>\n",
       "  </tbody>\n",
       "</table>\n",
       "</div>"
      ],
      "text/plain": [
       "   AlbumId                                              Title  ArtistId\n",
       "0      156                             ...And Justice For All        50\n",
       "1      257  20th Century Masters - The Millennium Collecti...       179\n",
       "2      296                      A Copland Celebration, Vol. I       230\n",
       "3       94                         A Matter of Life and Death        90\n",
       "4       95                                    A Real Dead One        90"
      ]
     },
     "execution_count": 93,
     "metadata": {
      "tags": []
     },
     "output_type": "execute_result"
    }
   ],
   "source": [
    "df = pd.read_sql_query('SELECT * FROM albums ORDER BY title LIMIT 5;', conn)\n",
    "df"
   ]
  },
  {
   "cell_type": "code",
   "execution_count": 0,
   "metadata": {
    "colab": {},
    "colab_type": "code",
    "id": "ALWTrCVlaZwE"
   },
   "outputs": [],
   "source": []
  }
 ],
 "metadata": {
  "colab": {
   "collapsed_sections": [],
   "name": "Lecture_1_Basic_Python_SQL.ipynb",
   "provenance": [],
   "version": "0.3.2"
  },
  "kernelspec": {
   "display_name": "Python 3",
   "language": "python",
   "name": "python3"
  },
  "language_info": {
   "codemirror_mode": {
    "name": "ipython",
    "version": 3
   },
   "file_extension": ".py",
   "mimetype": "text/x-python",
   "name": "python",
   "nbconvert_exporter": "python",
   "pygments_lexer": "ipython3",
   "version": "3.7.3"
  }
 },
 "nbformat": 4,
 "nbformat_minor": 1
}
