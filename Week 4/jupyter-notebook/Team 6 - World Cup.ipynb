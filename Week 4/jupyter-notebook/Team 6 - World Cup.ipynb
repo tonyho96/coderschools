{
 "cells": [
  {
   "cell_type": "markdown",
   "metadata": {},
   "source": [
    "# Team 6 - World Cup\n",
    "\n",
    "![](https://img.fifa.com/image/upload/t_l4/v1543921822/ex1ksdevyxwsgu7rzdv6.jpg)\n",
    "\n",
    "_For more information about the dataset, read [here](https://www.kaggle.com/abecklas/fifa-world-cup)._\n",
    "\n",
    "## Your tasks\n",
    "- Name your team!\n",
    "- Read the source and do some quick research to understand more about the dataset and its topic\n",
    "- Clean the data\n",
    "- Perform Exploratory Data Analysis on the dataset\n",
    "- Analyze the data more deeply and extract insights\n",
    "- Visualize your analysis on Google Data Studio\n",
    "- Present your works in front of the class and guests next Monday\n",
    "\n",
    "## Submission Guide\n",
    "- Create a Github repository for your project\n",
    "- Upload the dataset (.csv file) and the Jupyter Notebook to your Github repository. In the Jupyter Notebook, **include the link to your Google Data Studio report**.\n",
    "- Submit your works through this [Google Form](https://forms.gle/oxtXpGfS8JapVj3V8).\n",
    "\n",
    "## Tips for Data Cleaning, Manipulation & Visualization\n",
    "- Here are some of our tips for Data Cleaning, Manipulation & Visualization. [Click here](https://hackmd.io/cBNV7E6TT2WMliQC-GTw1A)\n",
    "\n",
    "_____________________________\n",
    "\n",
    "## Some Hints for This Dataset:\n",
    "- Is there a way to integrate the data from all 3 datasets?\n",
    "- It seems like the `winners` dataset doesn't have data of World Cup 2018. Can you Google the relevant information and add it to the dataset using `pandas`?\n",
    "- The format of some number columns in `matches` dataset doesn't look right.\n",
    "- Can you seperate the Date and the Time of `Datetime` column in `matches` dataset?\n",
    "- And more..."
   ]
  },
  {
   "cell_type": "code",
   "execution_count": null,
   "metadata": {},
   "outputs": [],
   "source": [
    "# Start your codes here!"
   ]
  }
 ],
 "metadata": {
  "kernelspec": {
   "display_name": "Python 3",
   "language": "python",
   "name": "python3"
  },
  "language_info": {
   "codemirror_mode": {
    "name": "ipython",
    "version": 3
   },
   "file_extension": ".py",
   "mimetype": "text/x-python",
   "name": "python",
   "nbconvert_exporter": "python",
   "pygments_lexer": "ipython3",
   "version": "3.7.3"
  }
 },
 "nbformat": 4,
 "nbformat_minor": 2
}
