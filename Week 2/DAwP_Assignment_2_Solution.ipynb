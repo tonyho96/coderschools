{
 "cells": [
  {
   "cell_type": "markdown",
   "metadata": {
    "colab_type": "text",
    "id": "kL9VPYin9nOD"
   },
   "source": [
    "![](https://i.imgur.com/0AUxkXt.png)\n",
    "\n",
    "# SF Salaries Exercise \n",
    "\n",
    "Explore San Francisco city employee salary data.\n",
    "\n",
    "## Overview\n",
    "\n",
    "One way to understand how a city government works is by looking at who it employs and how its employees are compensated. This data contains the names, job title, and compensation for San Francisco city employees on an annual basis from 2011 to 2014.\n",
    "\n",
    "\n",
    "\n",
    "Just follow along and complete the tasks outlined in bold below. The tasks will get harder and harder as you go along.\n",
    "\n",
    "## Resourses\n",
    "\n",
    "[Pandas API Reference](https://pandas.pydata.org/pandas-docs/stable/api.html)\n",
    "\n",
    "[NumPy Reference](https://docs.scipy.org/doc/numpy/reference/)\n",
    "\n",
    "[Visualization with Seaborn](https://jakevdp.github.io/PythonDataScienceHandbook/04.14-visualization-with-seaborn.html)\n"
   ]
  },
  {
   "cell_type": "markdown",
   "metadata": {
    "colab_type": "text",
    "id": "ueY1PMBl9nOF"
   },
   "source": [
    "**Import libraries**"
   ]
  },
  {
   "cell_type": "code",
   "execution_count": 0,
   "metadata": {
    "colab": {},
    "colab_type": "code",
    "id": "dnwk5LCx9nOG"
   },
   "outputs": [],
   "source": [
    "import numpy as np\n",
    "import pandas as pd\n",
    "import seaborn as sns\n",
    "import matplotlib.pyplot as plt\n",
    "%matplotlib inline\n",
    "import warnings\n",
    "warnings.filterwarnings('ignore')\n",
    "\n",
    "sns.set_style(\"whitegrid\")"
   ]
  },
  {
   "cell_type": "markdown",
   "metadata": {
    "colab_type": "text",
    "id": "jiOt1hEM9nOJ"
   },
   "source": [
    "**Read `Salaries.csv` as a dataframe called `sal`.**"
   ]
  },
  {
   "cell_type": "code",
   "execution_count": 2,
   "metadata": {
    "colab": {
     "base_uri": "https://localhost:8080/",
     "height": 124
    },
    "colab_type": "code",
    "executionInfo": {
     "elapsed": 38574,
     "status": "ok",
     "timestamp": 1557825699330,
     "user": {
      "displayName": "Hai Minh Do",
      "photoUrl": "https://lh6.googleusercontent.com/-ZUlR9wP4IpA/AAAAAAAAAAI/AAAAAAAAAAc/F2ZaIjf8WSY/s64/photo.jpg",
      "userId": "12822549848477954436"
     },
     "user_tz": -420
    },
    "id": "yoQOwzZX-ARD",
    "outputId": "51738cda-4dca-4405-b250-02a81077b248"
   },
   "outputs": [
    {
     "name": "stdout",
     "output_type": "stream",
     "text": [
      "Go to this URL in a browser: https://accounts.google.com/o/oauth2/auth?client_id=947318989803-6bn6qk8qdgf4n4g3pfee6491hc0brc4i.apps.googleusercontent.com&redirect_uri=urn%3Aietf%3Awg%3Aoauth%3A2.0%3Aoob&scope=email%20https%3A%2F%2Fwww.googleapis.com%2Fauth%2Fdocs.test%20https%3A%2F%2Fwww.googleapis.com%2Fauth%2Fdrive%20https%3A%2F%2Fwww.googleapis.com%2Fauth%2Fdrive.photos.readonly%20https%3A%2F%2Fwww.googleapis.com%2Fauth%2Fpeopleapi.readonly&response_type=code\n",
      "\n",
      "Enter your authorization code:\n",
      "··········\n",
      "Mounted at /content/gdrive\n"
     ]
    }
   ],
   "source": [
    "from google.colab import drive\n",
    "drive.mount('/content/gdrive')"
   ]
  },
  {
   "cell_type": "code",
   "execution_count": 0,
   "metadata": {
    "colab": {},
    "colab_type": "code",
    "id": "FtA68BoY9nOJ"
   },
   "outputs": [],
   "source": [
    "sal = pd.read_csv('gdrive/My Drive/CoderSchool-DAwP/Data/Salaries.csv')"
   ]
  },
  {
   "cell_type": "markdown",
   "metadata": {
    "colab_type": "text",
    "id": "QW6hV4iv9nOM"
   },
   "source": [
    "**Check the head of the DataFrame.**"
   ]
  },
  {
   "cell_type": "code",
   "execution_count": 0,
   "metadata": {
    "colab": {
     "base_uri": "https://localhost:8080/",
     "height": 467
    },
    "colab_type": "code",
    "executionInfo": {
     "elapsed": 745,
     "status": "ok",
     "timestamp": 1557729255905,
     "user": {
      "displayName": "Hai Minh Do",
      "photoUrl": "https://lh6.googleusercontent.com/-ZUlR9wP4IpA/AAAAAAAAAAI/AAAAAAAAAAc/F2ZaIjf8WSY/s64/photo.jpg",
      "userId": "12822549848477954436"
     },
     "user_tz": -420
    },
    "id": "oa2JHHJ99nON",
    "outputId": "a5325294-03d3-49d4-9139-0e9655999db6"
   },
   "outputs": [
    {
     "data": {
      "text/html": [
       "<div>\n",
       "<style scoped>\n",
       "    .dataframe tbody tr th:only-of-type {\n",
       "        vertical-align: middle;\n",
       "    }\n",
       "\n",
       "    .dataframe tbody tr th {\n",
       "        vertical-align: top;\n",
       "    }\n",
       "\n",
       "    .dataframe thead th {\n",
       "        text-align: right;\n",
       "    }\n",
       "</style>\n",
       "<table border=\"1\" class=\"dataframe\">\n",
       "  <thead>\n",
       "    <tr style=\"text-align: right;\">\n",
       "      <th></th>\n",
       "      <th>Id</th>\n",
       "      <th>EmployeeName</th>\n",
       "      <th>JobTitle</th>\n",
       "      <th>BasePay</th>\n",
       "      <th>OvertimePay</th>\n",
       "      <th>OtherPay</th>\n",
       "      <th>Benefits</th>\n",
       "      <th>TotalPay</th>\n",
       "      <th>TotalPayBenefits</th>\n",
       "      <th>Year</th>\n",
       "      <th>Notes</th>\n",
       "      <th>Agency</th>\n",
       "      <th>Status</th>\n",
       "    </tr>\n",
       "  </thead>\n",
       "  <tbody>\n",
       "    <tr>\n",
       "      <th>0</th>\n",
       "      <td>1</td>\n",
       "      <td>NATHANIEL FORD</td>\n",
       "      <td>GENERAL MANAGER-METROPOLITAN TRANSIT AUTHORITY</td>\n",
       "      <td>167411.18</td>\n",
       "      <td>0.00</td>\n",
       "      <td>400184.25</td>\n",
       "      <td>NaN</td>\n",
       "      <td>567595.43</td>\n",
       "      <td>567595.43</td>\n",
       "      <td>2011</td>\n",
       "      <td>NaN</td>\n",
       "      <td>San Francisco</td>\n",
       "      <td>NaN</td>\n",
       "    </tr>\n",
       "    <tr>\n",
       "      <th>1</th>\n",
       "      <td>2</td>\n",
       "      <td>GARY JIMENEZ</td>\n",
       "      <td>CAPTAIN III (POLICE DEPARTMENT)</td>\n",
       "      <td>155966.02</td>\n",
       "      <td>245131.88</td>\n",
       "      <td>137811.38</td>\n",
       "      <td>NaN</td>\n",
       "      <td>538909.28</td>\n",
       "      <td>538909.28</td>\n",
       "      <td>2011</td>\n",
       "      <td>NaN</td>\n",
       "      <td>San Francisco</td>\n",
       "      <td>NaN</td>\n",
       "    </tr>\n",
       "    <tr>\n",
       "      <th>2</th>\n",
       "      <td>3</td>\n",
       "      <td>ALBERT PARDINI</td>\n",
       "      <td>CAPTAIN III (POLICE DEPARTMENT)</td>\n",
       "      <td>212739.13</td>\n",
       "      <td>106088.18</td>\n",
       "      <td>16452.60</td>\n",
       "      <td>NaN</td>\n",
       "      <td>335279.91</td>\n",
       "      <td>335279.91</td>\n",
       "      <td>2011</td>\n",
       "      <td>NaN</td>\n",
       "      <td>San Francisco</td>\n",
       "      <td>NaN</td>\n",
       "    </tr>\n",
       "    <tr>\n",
       "      <th>3</th>\n",
       "      <td>4</td>\n",
       "      <td>CHRISTOPHER CHONG</td>\n",
       "      <td>WIRE ROPE CABLE MAINTENANCE MECHANIC</td>\n",
       "      <td>77916.00</td>\n",
       "      <td>56120.71</td>\n",
       "      <td>198306.90</td>\n",
       "      <td>NaN</td>\n",
       "      <td>332343.61</td>\n",
       "      <td>332343.61</td>\n",
       "      <td>2011</td>\n",
       "      <td>NaN</td>\n",
       "      <td>San Francisco</td>\n",
       "      <td>NaN</td>\n",
       "    </tr>\n",
       "    <tr>\n",
       "      <th>4</th>\n",
       "      <td>5</td>\n",
       "      <td>PATRICK GARDNER</td>\n",
       "      <td>DEPUTY CHIEF OF DEPARTMENT,(FIRE DEPARTMENT)</td>\n",
       "      <td>134401.60</td>\n",
       "      <td>9737.00</td>\n",
       "      <td>182234.59</td>\n",
       "      <td>NaN</td>\n",
       "      <td>326373.19</td>\n",
       "      <td>326373.19</td>\n",
       "      <td>2011</td>\n",
       "      <td>NaN</td>\n",
       "      <td>San Francisco</td>\n",
       "      <td>NaN</td>\n",
       "    </tr>\n",
       "  </tbody>\n",
       "</table>\n",
       "</div>"
      ],
      "text/plain": [
       "   Id       EmployeeName                                        JobTitle  \\\n",
       "0   1     NATHANIEL FORD  GENERAL MANAGER-METROPOLITAN TRANSIT AUTHORITY   \n",
       "1   2       GARY JIMENEZ                 CAPTAIN III (POLICE DEPARTMENT)   \n",
       "2   3     ALBERT PARDINI                 CAPTAIN III (POLICE DEPARTMENT)   \n",
       "3   4  CHRISTOPHER CHONG            WIRE ROPE CABLE MAINTENANCE MECHANIC   \n",
       "4   5    PATRICK GARDNER    DEPUTY CHIEF OF DEPARTMENT,(FIRE DEPARTMENT)   \n",
       "\n",
       "     BasePay  OvertimePay   OtherPay  Benefits   TotalPay  TotalPayBenefits  \\\n",
       "0  167411.18         0.00  400184.25       NaN  567595.43         567595.43   \n",
       "1  155966.02    245131.88  137811.38       NaN  538909.28         538909.28   \n",
       "2  212739.13    106088.18   16452.60       NaN  335279.91         335279.91   \n",
       "3   77916.00     56120.71  198306.90       NaN  332343.61         332343.61   \n",
       "4  134401.60      9737.00  182234.59       NaN  326373.19         326373.19   \n",
       "\n",
       "   Year  Notes         Agency  Status  \n",
       "0  2011    NaN  San Francisco     NaN  \n",
       "1  2011    NaN  San Francisco     NaN  \n",
       "2  2011    NaN  San Francisco     NaN  \n",
       "3  2011    NaN  San Francisco     NaN  \n",
       "4  2011    NaN  San Francisco     NaN  "
      ]
     },
     "execution_count": 5,
     "metadata": {
      "tags": []
     },
     "output_type": "execute_result"
    }
   ],
   "source": [
    "sal.head()"
   ]
  },
  {
   "cell_type": "markdown",
   "metadata": {
    "colab_type": "text",
    "id": "LgRIzJ_l9nOP"
   },
   "source": [
    "**Use the .info() method to find out how many entries there are.**"
   ]
  },
  {
   "cell_type": "code",
   "execution_count": 0,
   "metadata": {
    "colab": {
     "base_uri": "https://localhost:8080/",
     "height": 336
    },
    "colab_type": "code",
    "executionInfo": {
     "elapsed": 871,
     "status": "ok",
     "timestamp": 1557729260823,
     "user": {
      "displayName": "Hai Minh Do",
      "photoUrl": "https://lh6.googleusercontent.com/-ZUlR9wP4IpA/AAAAAAAAAAI/AAAAAAAAAAc/F2ZaIjf8WSY/s64/photo.jpg",
      "userId": "12822549848477954436"
     },
     "user_tz": -420
    },
    "id": "JuwgdTfz9nOP",
    "outputId": "cc3b0a0b-974b-4626-9346-1e5c4a524e71"
   },
   "outputs": [
    {
     "name": "stdout",
     "output_type": "stream",
     "text": [
      "<class 'pandas.core.frame.DataFrame'>\n",
      "RangeIndex: 148654 entries, 0 to 148653\n",
      "Data columns (total 13 columns):\n",
      "Id                  148654 non-null int64\n",
      "EmployeeName        148654 non-null object\n",
      "JobTitle            148654 non-null object\n",
      "BasePay             148045 non-null float64\n",
      "OvertimePay         148650 non-null float64\n",
      "OtherPay            148650 non-null float64\n",
      "Benefits            112491 non-null float64\n",
      "TotalPay            148654 non-null float64\n",
      "TotalPayBenefits    148654 non-null float64\n",
      "Year                148654 non-null int64\n",
      "Notes               0 non-null float64\n",
      "Agency              148654 non-null object\n",
      "Status              0 non-null float64\n",
      "dtypes: float64(8), int64(2), object(3)\n",
      "memory usage: 14.7+ MB\n"
     ]
    }
   ],
   "source": [
    "sal.info()"
   ]
  },
  {
   "cell_type": "markdown",
   "metadata": {
    "colab_type": "text",
    "id": "RgO49aNW9nOR"
   },
   "source": [
    "**What is the average BasePay ?**\n",
    "\n",
    "Keyword: [mean](https://pandas.pydata.org/pandas-docs/stable/generated/pandas.DataFrame.mean.html)"
   ]
  },
  {
   "cell_type": "code",
   "execution_count": 0,
   "metadata": {
    "colab": {
     "base_uri": "https://localhost:8080/",
     "height": 34
    },
    "colab_type": "code",
    "executionInfo": {
     "elapsed": 742,
     "status": "ok",
     "timestamp": 1557729303211,
     "user": {
      "displayName": "Hai Minh Do",
      "photoUrl": "https://lh6.googleusercontent.com/-ZUlR9wP4IpA/AAAAAAAAAAI/AAAAAAAAAAc/F2ZaIjf8WSY/s64/photo.jpg",
      "userId": "12822549848477954436"
     },
     "user_tz": -420
    },
    "id": "twQu_3xj9nOS",
    "outputId": "badf8326-7e43-4d0e-ff14-8c13c3f8d6f7"
   },
   "outputs": [
    {
     "data": {
      "text/plain": [
       "66325.44884050643"
      ]
     },
     "execution_count": 8,
     "metadata": {
      "tags": []
     },
     "output_type": "execute_result"
    }
   ],
   "source": [
    "sal['BasePay'].mean()\n",
    "# or\n",
    "# sal.BasePay.mean()"
   ]
  },
  {
   "cell_type": "markdown",
   "metadata": {
    "colab_type": "text",
    "id": "qQc-OERD9nOU"
   },
   "source": [
    "**What is the lowest and highest amount of BasePay?**\n",
    "\n",
    "Keyword: \n",
    "[min](https://pandas.pydata.org/pandas-docs/stable/generated/pandas.DataFrame.min.html) , \n",
    "[max](https://pandas.pydata.org/pandas-docs/stable/generated/pandas.DataFrame.max.html)"
   ]
  },
  {
   "cell_type": "code",
   "execution_count": 0,
   "metadata": {
    "colab": {
     "base_uri": "https://localhost:8080/",
     "height": 34
    },
    "colab_type": "code",
    "executionInfo": {
     "elapsed": 895,
     "status": "ok",
     "timestamp": 1557729316722,
     "user": {
      "displayName": "Hai Minh Do",
      "photoUrl": "https://lh6.googleusercontent.com/-ZUlR9wP4IpA/AAAAAAAAAAI/AAAAAAAAAAc/F2ZaIjf8WSY/s64/photo.jpg",
      "userId": "12822549848477954436"
     },
     "user_tz": -420
    },
    "id": "22XKRdg49nOV",
    "outputId": "d8a56c70-dd6a-454d-ecac-d3f0121d5c04"
   },
   "outputs": [
    {
     "data": {
      "text/plain": [
       "-166.01"
      ]
     },
     "execution_count": 9,
     "metadata": {
      "tags": []
     },
     "output_type": "execute_result"
    }
   ],
   "source": [
    "sal['BasePay'].min()"
   ]
  },
  {
   "cell_type": "code",
   "execution_count": 0,
   "metadata": {
    "colab": {
     "base_uri": "https://localhost:8080/",
     "height": 34
    },
    "colab_type": "code",
    "executionInfo": {
     "elapsed": 715,
     "status": "ok",
     "timestamp": 1557729324665,
     "user": {
      "displayName": "Hai Minh Do",
      "photoUrl": "https://lh6.googleusercontent.com/-ZUlR9wP4IpA/AAAAAAAAAAI/AAAAAAAAAAc/F2ZaIjf8WSY/s64/photo.jpg",
      "userId": "12822549848477954436"
     },
     "user_tz": -420
    },
    "id": "R-yPM0ZU9nOX",
    "outputId": "c5cead1e-8e45-4848-86d2-f37e30be518f"
   },
   "outputs": [
    {
     "data": {
      "text/plain": [
       "319275.01"
      ]
     },
     "execution_count": 10,
     "metadata": {
      "tags": []
     },
     "output_type": "execute_result"
    }
   ],
   "source": [
    "sal['BasePay'].max()"
   ]
  },
  {
   "cell_type": "markdown",
   "metadata": {
    "colab_type": "text",
    "id": "-MdkKp6U9nOa"
   },
   "source": [
    "**How about OvertimePay in the dataset? What is the average, lowest, highest amount?**"
   ]
  },
  {
   "cell_type": "code",
   "execution_count": 0,
   "metadata": {
    "colab": {
     "base_uri": "https://localhost:8080/",
     "height": 70
    },
    "colab_type": "code",
    "executionInfo": {
     "elapsed": 977,
     "status": "ok",
     "timestamp": 1557729350820,
     "user": {
      "displayName": "Hai Minh Do",
      "photoUrl": "https://lh6.googleusercontent.com/-ZUlR9wP4IpA/AAAAAAAAAAI/AAAAAAAAAAc/F2ZaIjf8WSY/s64/photo.jpg",
      "userId": "12822549848477954436"
     },
     "user_tz": -420
    },
    "id": "Og2yxCil9nOb",
    "outputId": "74865f33-653c-437a-a613-d6d400415541"
   },
   "outputs": [
    {
     "name": "stdout",
     "output_type": "stream",
     "text": [
      "5066.059886444622\n",
      "-0.01\n",
      "245131.88\n"
     ]
    }
   ],
   "source": [
    "print(sal['OvertimePay'].mean())\n",
    "print(sal['OvertimePay'].min())\n",
    "print(sal['OvertimePay'].max())\n"
   ]
  },
  {
   "cell_type": "markdown",
   "metadata": {
    "colab_type": "text",
    "id": "mF0zrXXh9nOf"
   },
   "source": [
    "**What is the job title of  JOSEPH DRISCOLL ? Note: Use all caps, otherwise you may get an answer that doesn't match up (there is also a lowercase Joseph Driscoll).**"
   ]
  },
  {
   "cell_type": "code",
   "execution_count": 0,
   "metadata": {
    "colab": {
     "base_uri": "https://localhost:8080/",
     "height": 52
    },
    "colab_type": "code",
    "executionInfo": {
     "elapsed": 784,
     "status": "ok",
     "timestamp": 1557751348497,
     "user": {
      "displayName": "Hai Minh Do",
      "photoUrl": "https://lh6.googleusercontent.com/-ZUlR9wP4IpA/AAAAAAAAAAI/AAAAAAAAAAc/F2ZaIjf8WSY/s64/photo.jpg",
      "userId": "12822549848477954436"
     },
     "user_tz": -420
    },
    "id": "wbqO05iu9nOh",
    "outputId": "aecd47c4-5f44-43cf-dd84-432d160969f1"
   },
   "outputs": [
    {
     "data": {
      "text/plain": [
       "24    CAPTAIN, FIRE SUPPRESSION\n",
       "Name: JobTitle, dtype: object"
      ]
     },
     "execution_count": 82,
     "metadata": {
      "tags": []
     },
     "output_type": "execute_result"
    }
   ],
   "source": [
    "sal['JobTitle'][sal['EmployeeName'] == 'JOSEPH DRISCOLL']"
   ]
  },
  {
   "cell_type": "code",
   "execution_count": 0,
   "metadata": {
    "colab": {
     "base_uri": "https://localhost:8080/",
     "height": 52
    },
    "colab_type": "code",
    "executionInfo": {
     "elapsed": 804,
     "status": "ok",
     "timestamp": 1557729441246,
     "user": {
      "displayName": "Hai Minh Do",
      "photoUrl": "https://lh6.googleusercontent.com/-ZUlR9wP4IpA/AAAAAAAAAAI/AAAAAAAAAAc/F2ZaIjf8WSY/s64/photo.jpg",
      "userId": "12822549848477954436"
     },
     "user_tz": -420
    },
    "id": "MwzxTlI29nOl",
    "outputId": "836ec3ac-4909-4a48-f8a2-f64a6b90f4fb"
   },
   "outputs": [
    {
     "data": {
      "text/plain": [
       "1    CAPTAIN III (POLICE DEPARTMENT)\n",
       "Name: JobTitle, dtype: object"
      ]
     },
     "execution_count": 16,
     "metadata": {
      "tags": []
     },
     "output_type": "execute_result"
    }
   ],
   "source": [
    "# Now try to select Employees who have name \"\"\n",
    "# Your code here\n",
    "sal[sal['EmployeeName'] == 'GARY JIMENEZ']['JobTitle']"
   ]
  },
  {
   "cell_type": "markdown",
   "metadata": {
    "colab_type": "text",
    "id": "0nrHI4iu9nOn"
   },
   "source": [
    "**How much does JOSEPH DRISCOLL make (including benefits)?**"
   ]
  },
  {
   "cell_type": "code",
   "execution_count": 0,
   "metadata": {
    "colab": {
     "base_uri": "https://localhost:8080/",
     "height": 52
    },
    "colab_type": "code",
    "executionInfo": {
     "elapsed": 645,
     "status": "ok",
     "timestamp": 1557729471640,
     "user": {
      "displayName": "Hai Minh Do",
      "photoUrl": "https://lh6.googleusercontent.com/-ZUlR9wP4IpA/AAAAAAAAAAI/AAAAAAAAAAc/F2ZaIjf8WSY/s64/photo.jpg",
      "userId": "12822549848477954436"
     },
     "user_tz": -420
    },
    "id": "TUZlBSDE9nOo",
    "outputId": "e2cfbc26-23f4-41f8-9005-b0fcf0b1b8bf"
   },
   "outputs": [
    {
     "data": {
      "text/plain": [
       "24    270324.91\n",
       "Name: TotalPayBenefits, dtype: float64"
      ]
     },
     "execution_count": 17,
     "metadata": {
      "tags": []
     },
     "output_type": "execute_result"
    }
   ],
   "source": [
    "sal[sal['EmployeeName'] == 'JOSEPH DRISCOLL']['TotalPayBenefits']"
   ]
  },
  {
   "cell_type": "markdown",
   "metadata": {
    "colab_type": "text",
    "id": "1thjd2GC9nOq"
   },
   "source": [
    "**What is the name of highest paid person (including benefits)?**"
   ]
  },
  {
   "cell_type": "code",
   "execution_count": 0,
   "metadata": {
    "colab": {
     "base_uri": "https://localhost:8080/",
     "height": 52
    },
    "colab_type": "code",
    "executionInfo": {
     "elapsed": 1001,
     "status": "ok",
     "timestamp": 1557729541606,
     "user": {
      "displayName": "Hai Minh Do",
      "photoUrl": "https://lh6.googleusercontent.com/-ZUlR9wP4IpA/AAAAAAAAAAI/AAAAAAAAAAc/F2ZaIjf8WSY/s64/photo.jpg",
      "userId": "12822549848477954436"
     },
     "user_tz": -420
    },
    "id": "msrq-7Ww9nOr",
    "outputId": "7aaf8386-f439-4e3f-8b57-ce09ec81f591"
   },
   "outputs": [
    {
     "data": {
      "text/plain": [
       "0    NATHANIEL FORD\n",
       "Name: EmployeeName, dtype: object"
      ]
     },
     "execution_count": 19,
     "metadata": {
      "tags": []
     },
     "output_type": "execute_result"
    }
   ],
   "source": [
    "sal[sal['TotalPayBenefits'] == sal['TotalPayBenefits'].max()]['EmployeeName']"
   ]
  },
  {
   "cell_type": "markdown",
   "metadata": {
    "colab_type": "text",
    "id": "uF2kX93x9nOu"
   },
   "source": [
    "**What is the name of lowest paid person (including benefits)? Do you notice something strange about how much he or she is paid?**"
   ]
  },
  {
   "cell_type": "code",
   "execution_count": 0,
   "metadata": {
    "colab": {
     "base_uri": "https://localhost:8080/",
     "height": 52
    },
    "colab_type": "code",
    "executionInfo": {
     "elapsed": 879,
     "status": "ok",
     "timestamp": 1557751477294,
     "user": {
      "displayName": "Hai Minh Do",
      "photoUrl": "https://lh6.googleusercontent.com/-ZUlR9wP4IpA/AAAAAAAAAAI/AAAAAAAAAAc/F2ZaIjf8WSY/s64/photo.jpg",
      "userId": "12822549848477954436"
     },
     "user_tz": -420
    },
    "id": "htAfatTl9nOv",
    "outputId": "560a3d85-60c2-407c-d714-b60826e16ea5"
   },
   "outputs": [
    {
     "data": {
      "text/plain": [
       "148653    Joe Lopez\n",
       "Name: EmployeeName, dtype: object"
      ]
     },
     "execution_count": 83,
     "metadata": {
      "tags": []
     },
     "output_type": "execute_result"
    }
   ],
   "source": [
    "sal[sal['TotalPayBenefits'] == sal['TotalPayBenefits'].min()]['EmployeeName']"
   ]
  },
  {
   "cell_type": "markdown",
   "metadata": {
    "colab_type": "text",
    "id": "WB0HTvjM9nOx"
   },
   "source": [
    "**What was the average (mean) BasePay of all employees per year? (2011-2014) ?**\n",
    "Keyword: _groupby_"
   ]
  },
  {
   "cell_type": "code",
   "execution_count": 0,
   "metadata": {
    "colab": {
     "base_uri": "https://localhost:8080/",
     "height": 123
    },
    "colab_type": "code",
    "executionInfo": {
     "elapsed": 703,
     "status": "ok",
     "timestamp": 1557751522913,
     "user": {
      "displayName": "Hai Minh Do",
      "photoUrl": "https://lh6.googleusercontent.com/-ZUlR9wP4IpA/AAAAAAAAAAI/AAAAAAAAAAc/F2ZaIjf8WSY/s64/photo.jpg",
      "userId": "12822549848477954436"
     },
     "user_tz": -420
    },
    "id": "6Y5mUYir9nOy",
    "outputId": "2ada7b09-a070-4076-8a7f-68b3ecca2891"
   },
   "outputs": [
    {
     "data": {
      "text/plain": [
       "Year\n",
       "2011    63595.956517\n",
       "2012    65436.406857\n",
       "2013    69630.030216\n",
       "2014    66564.421924\n",
       "Name: BasePay, dtype: float64"
      ]
     },
     "execution_count": 85,
     "metadata": {
      "tags": []
     },
     "output_type": "execute_result"
    }
   ],
   "source": [
    "sal.groupby('Year').mean()['BasePay']"
   ]
  },
  {
   "cell_type": "markdown",
   "metadata": {
    "colab_type": "text",
    "id": "k8Qzx9MD9nO0"
   },
   "source": [
    "**How many unique job titles are there?**\n",
    "\n",
    "Keyword: _unique, nunique_"
   ]
  },
  {
   "cell_type": "code",
   "execution_count": 0,
   "metadata": {
    "colab": {
     "base_uri": "https://localhost:8080/",
     "height": 34
    },
    "colab_type": "code",
    "executionInfo": {
     "elapsed": 897,
     "status": "ok",
     "timestamp": 1557751606658,
     "user": {
      "displayName": "Hai Minh Do",
      "photoUrl": "https://lh6.googleusercontent.com/-ZUlR9wP4IpA/AAAAAAAAAAI/AAAAAAAAAAc/F2ZaIjf8WSY/s64/photo.jpg",
      "userId": "12822549848477954436"
     },
     "user_tz": -420
    },
    "id": "mvzwZ5Mb9nO1",
    "outputId": "10a1cce6-0194-432d-f39d-8b792cda7ca4"
   },
   "outputs": [
    {
     "data": {
      "text/plain": [
       "2159"
      ]
     },
     "execution_count": 86,
     "metadata": {
      "tags": []
     },
     "output_type": "execute_result"
    }
   ],
   "source": [
    "len(sal['JobTitle'].unique())\n",
    "sal['JobTitle'].nunique()"
   ]
  },
  {
   "cell_type": "markdown",
   "metadata": {
    "colab_type": "text",
    "id": "0dkyZe-39nO4"
   },
   "source": [
    "**What are the top 5 most common jobs?**\n",
    "\n",
    "Keyword: *value_counts*"
   ]
  },
  {
   "cell_type": "code",
   "execution_count": 0,
   "metadata": {
    "colab": {
     "base_uri": "https://localhost:8080/",
     "height": 123
    },
    "colab_type": "code",
    "executionInfo": {
     "elapsed": 1050,
     "status": "ok",
     "timestamp": 1557751713020,
     "user": {
      "displayName": "Hai Minh Do",
      "photoUrl": "https://lh6.googleusercontent.com/-ZUlR9wP4IpA/AAAAAAAAAAI/AAAAAAAAAAc/F2ZaIjf8WSY/s64/photo.jpg",
      "userId": "12822549848477954436"
     },
     "user_tz": -420
    },
    "id": "PVSDr3Ww9nO7",
    "outputId": "f1e03a34-3bcd-4947-f635-d62f367ba463"
   },
   "outputs": [
    {
     "data": {
      "text/plain": [
       "Transit Operator                7036\n",
       "Special Nurse                   4389\n",
       "Registered Nurse                3736\n",
       "Public Svc Aide-Public Works    2518\n",
       "Police Officer 3                2421\n",
       "Name: JobTitle, dtype: int64"
      ]
     },
     "execution_count": 89,
     "metadata": {
      "tags": []
     },
     "output_type": "execute_result"
    }
   ],
   "source": [
    "sal['JobTitle'].value_counts().head()"
   ]
  },
  {
   "cell_type": "markdown",
   "metadata": {
    "colab_type": "text",
    "id": "25fCX21U9nO-"
   },
   "source": [
    "**How many Job Titles were represented by only one person in 2013? (e.g. Job Titles with only one occurence in 2013?)**"
   ]
  },
  {
   "cell_type": "code",
   "execution_count": 0,
   "metadata": {
    "colab": {
     "base_uri": "https://localhost:8080/",
     "height": 34
    },
    "colab_type": "code",
    "executionInfo": {
     "elapsed": 1014,
     "status": "ok",
     "timestamp": 1557751932251,
     "user": {
      "displayName": "Hai Minh Do",
      "photoUrl": "https://lh6.googleusercontent.com/-ZUlR9wP4IpA/AAAAAAAAAAI/AAAAAAAAAAc/F2ZaIjf8WSY/s64/photo.jpg",
      "userId": "12822549848477954436"
     },
     "user_tz": -420
    },
    "id": "e9vr6BKD9nPA",
    "outputId": "b3806542-cca2-4690-e0f1-3640ecb68902"
   },
   "outputs": [
    {
     "data": {
      "text/plain": [
       "202"
      ]
     },
     "execution_count": 95,
     "metadata": {
      "tags": []
     },
     "output_type": "execute_result"
    }
   ],
   "source": [
    "# sum(sal[sal['Year'] == 2013]['JobTitle'].value_counts()==1)\n",
    "\n",
    "sum(sal[sal['Year'] == 2013]['JobTitle'].value_counts() == 1)\n",
    "\n"
   ]
  },
  {
   "cell_type": "markdown",
   "metadata": {
    "colab_type": "text",
    "id": "HoiNghja9nPD"
   },
   "source": [
    "**How many people have the word Chief in their job title?**"
   ]
  },
  {
   "cell_type": "code",
   "execution_count": 0,
   "metadata": {
    "colab": {
     "base_uri": "https://localhost:8080/",
     "height": 34
    },
    "colab_type": "code",
    "executionInfo": {
     "elapsed": 784,
     "status": "ok",
     "timestamp": 1557729747434,
     "user": {
      "displayName": "Hai Minh Do",
      "photoUrl": "https://lh6.googleusercontent.com/-ZUlR9wP4IpA/AAAAAAAAAAI/AAAAAAAAAAc/F2ZaIjf8WSY/s64/photo.jpg",
      "userId": "12822549848477954436"
     },
     "user_tz": -420
    },
    "id": "mBc0hzan9nPE",
    "outputId": "cb0bab3a-2b6e-420d-c52b-f1ad872453f6"
   },
   "outputs": [
    {
     "data": {
      "text/plain": [
       "627"
      ]
     },
     "execution_count": 27,
     "metadata": {
      "tags": []
     },
     "output_type": "execute_result"
    }
   ],
   "source": [
    "sum(sal['JobTitle'].str.lower().str.contains('chief'))"
   ]
  },
  {
   "cell_type": "code",
   "execution_count": 0,
   "metadata": {
    "colab": {
     "base_uri": "https://localhost:8080/",
     "height": 34
    },
    "colab_type": "code",
    "executionInfo": {
     "elapsed": 797,
     "status": "ok",
     "timestamp": 1557752171820,
     "user": {
      "displayName": "Hai Minh Do",
      "photoUrl": "https://lh6.googleusercontent.com/-ZUlR9wP4IpA/AAAAAAAAAAI/AAAAAAAAAAc/F2ZaIjf8WSY/s64/photo.jpg",
      "userId": "12822549848477954436"
     },
     "user_tz": -420
    },
    "id": "u40e_Ua89nPF",
    "outputId": "be08b00a-1862-46b9-e101-55e25de09355"
   },
   "outputs": [
    {
     "data": {
      "text/plain": [
       "627"
      ]
     },
     "execution_count": 100,
     "metadata": {
      "tags": []
     },
     "output_type": "execute_result"
    }
   ],
   "source": [
    "def check_chief(jobTitle):\n",
    "  if 'chief' in jobTitle.lower():\n",
    "    return 1\n",
    "  else:\n",
    "    return 0\n",
    "  \n",
    "sum(sal['JobTitle'].apply(check_chief))\n"
   ]
  },
  {
   "cell_type": "code",
   "execution_count": 0,
   "metadata": {
    "colab": {
     "base_uri": "https://localhost:8080/",
     "height": 34
    },
    "colab_type": "code",
    "executionInfo": {
     "elapsed": 884,
     "status": "ok",
     "timestamp": 1557752274841,
     "user": {
      "displayName": "Hai Minh Do",
      "photoUrl": "https://lh6.googleusercontent.com/-ZUlR9wP4IpA/AAAAAAAAAAI/AAAAAAAAAAc/F2ZaIjf8WSY/s64/photo.jpg",
      "userId": "12822549848477954436"
     },
     "user_tz": -420
    },
    "id": "SA7QNzVq9nPI",
    "outputId": "92b9b7d0-652d-4817-a4c2-9a6c7bd5f7e8"
   },
   "outputs": [
    {
     "data": {
      "text/plain": [
       "627"
      ]
     },
     "execution_count": 101,
     "metadata": {
      "tags": []
     },
     "output_type": "execute_result"
    }
   ],
   "source": [
    "sum(sal['JobTitle'].apply(lambda x: 'chief' in x.lower()))"
   ]
  },
  {
   "cell_type": "markdown",
   "metadata": {
    "colab_type": "text",
    "id": "5G094gws9nPL"
   },
   "source": [
    "## Data Visualization\n",
    "\n",
    "**Implement seaborn's countplot with x='Year'**"
   ]
  },
  {
   "cell_type": "code",
   "execution_count": 0,
   "metadata": {
    "colab": {
     "base_uri": "https://localhost:8080/",
     "height": 300
    },
    "colab_type": "code",
    "executionInfo": {
     "elapsed": 1019,
     "status": "ok",
     "timestamp": 1557729927630,
     "user": {
      "displayName": "Hai Minh Do",
      "photoUrl": "https://lh6.googleusercontent.com/-ZUlR9wP4IpA/AAAAAAAAAAI/AAAAAAAAAAc/F2ZaIjf8WSY/s64/photo.jpg",
      "userId": "12822549848477954436"
     },
     "user_tz": -420
    },
    "id": "56GKG4UD9nPM",
    "outputId": "32cf98bf-8e2c-40fb-80dc-59d8eab0b884"
   },
   "outputs": [
    {
     "data": {
      "text/plain": [
       "<matplotlib.axes._subplots.AxesSubplot at 0x7f949fc8bb00>"
      ]
     },
     "execution_count": 30,
     "metadata": {
      "tags": []
     },
     "output_type": "execute_result"
    },
    {
     "data": {
      "image/png": "[encoded data removed]",
      "text/plain": [
       "<Figure size 432x288 with 1 Axes>"
      ]
     },
     "metadata": {
      "tags": []
     },
     "output_type": "display_data"
    }
   ],
   "source": [
    "sns.countplot(x='Year', data=sal)"
   ]
  },
  {
   "cell_type": "markdown",
   "metadata": {
    "colab_type": "text",
    "id": "orQACfVP9nPP"
   },
   "source": [
    "**Implement seaborn's distplot for BasePay of Year 2011**"
   ]
  },
  {
   "cell_type": "code",
   "execution_count": 0,
   "metadata": {
    "colab": {
     "base_uri": "https://localhost:8080/",
     "height": 300
    },
    "colab_type": "code",
    "executionInfo": {
     "elapsed": 987,
     "status": "ok",
     "timestamp": 1557729957870,
     "user": {
      "displayName": "Hai Minh Do",
      "photoUrl": "https://lh6.googleusercontent.com/-ZUlR9wP4IpA/AAAAAAAAAAI/AAAAAAAAAAc/F2ZaIjf8WSY/s64/photo.jpg",
      "userId": "12822549848477954436"
     },
     "user_tz": -420
    },
    "id": "JYPrrLW19nPQ",
    "outputId": "5a11ffef-4897-48f5-cd25-e0c3ed747fe4"
   },
   "outputs": [
    {
     "data": {
      "text/plain": [
       "<matplotlib.axes._subplots.AxesSubplot at 0x7f94a1108518>"
      ]
     },
     "execution_count": 31,
     "metadata": {
      "tags": []
     },
     "output_type": "execute_result"
    },
    {
     "data": {
      "image/png": "[encoded data removed]",
      "text/plain": [
       "<Figure size 432x288 with 1 Axes>"
      ]
     },
     "metadata": {
      "tags": []
     },
     "output_type": "display_data"
    }
   ],
   "source": [
    "sns.distplot(sal[sal['Year']==2011]['BasePay'])"
   ]
  },
  {
   "cell_type": "markdown",
   "metadata": {
    "colab_type": "text",
    "id": "Ea9OFiqK9nPS"
   },
   "source": [
    "**How about other Year**"
   ]
  },
  {
   "cell_type": "code",
   "execution_count": 0,
   "metadata": {
    "colab": {
     "base_uri": "https://localhost:8080/",
     "height": 300
    },
    "colab_type": "code",
    "executionInfo": {
     "elapsed": 1382,
     "status": "ok",
     "timestamp": 1557752397725,
     "user": {
      "displayName": "Hai Minh Do",
      "photoUrl": "https://lh6.googleusercontent.com/-ZUlR9wP4IpA/AAAAAAAAAAI/AAAAAAAAAAc/F2ZaIjf8WSY/s64/photo.jpg",
      "userId": "12822549848477954436"
     },
     "user_tz": -420
    },
    "id": "orRMn0X89nPT",
    "outputId": "587c617c-7aee-4e0a-9ce7-6560bb889471"
   },
   "outputs": [
    {
     "data": {
      "text/plain": [
       "<matplotlib.axes._subplots.AxesSubplot at 0x7f94a04dfc50>"
      ]
     },
     "execution_count": 105,
     "metadata": {
      "tags": []
     },
     "output_type": "execute_result"
    },
    {
     "data": {
      "image/png": "[encoded data removed]",
      "text/plain": [
       "<Figure size 432x288 with 1 Axes>"
      ]
     },
     "metadata": {
      "tags": []
     },
     "output_type": "display_data"
    }
   ],
   "source": [
    "sns.distplot(sal[sal['Year']==2011]['BasePay'], hist=False, label='2011')\n",
    "sns.distplot(sal[sal['Year']==2012]['BasePay'], hist=False, label='2012')\n",
    "sns.distplot(sal[sal['Year']==2013]['BasePay'], hist=False, label='2013')\n",
    "sns.distplot(sal[sal['Year']==2014]['BasePay'], hist=False, label='2014')"
   ]
  },
  {
   "cell_type": "markdown",
   "metadata": {
    "colab_type": "text",
    "id": "00EkkG_s9nPV"
   },
   "source": [
    "## Bonus\n",
    "\n",
    "**Visualize top 5 Jobs with BasePay, Benefits and OvertimePay**\n",
    "\n",
    "Keyword: *index, isin, groupby, mean, plot*"
   ]
  },
  {
   "cell_type": "code",
   "execution_count": 0,
   "metadata": {
    "colab": {
     "base_uri": "https://localhost:8080/",
     "height": 286
    },
    "colab_type": "code",
    "executionInfo": {
     "elapsed": 1523,
     "status": "ok",
     "timestamp": 1557752803646,
     "user": {
      "displayName": "Hai Minh Do",
      "photoUrl": "https://lh6.googleusercontent.com/-ZUlR9wP4IpA/AAAAAAAAAAI/AAAAAAAAAAc/F2ZaIjf8WSY/s64/photo.jpg",
      "userId": "12822549848477954436"
     },
     "user_tz": -420
    },
    "id": "LoZm87Bu9nPV",
    "outputId": "86fd236a-309e-4614-d0fa-a91421dd93cd"
   },
   "outputs": [
    {
     "data": {
      "text/plain": [
       "<matplotlib.axes._subplots.AxesSubplot at 0x7f949fdea240>"
      ]
     },
     "execution_count": 117,
     "metadata": {
      "tags": []
     },
     "output_type": "execute_result"
    },
    {
     "data": {
      "image/png": "[encoded data removed]",
      "text/plain": [
       "<Figure size 432x288 with 1 Axes>"
      ]
     },
     "metadata": {
      "tags": []
     },
     "output_type": "display_data"
    }
   ],
   "source": [
    "top_5 = sal['JobTitle'].value_counts().head().index.values\n",
    "\n",
    "sal[sal['JobTitle'].isin(top_5)].groupby('JobTitle').mean()[['BasePay', 'Benefits', 'OvertimePay']].plot(kind='barh')"
   ]
  },
  {
   "cell_type": "code",
   "execution_count": 0,
   "metadata": {
    "colab": {
     "base_uri": "https://localhost:8080/",
     "height": 227
    },
    "colab_type": "code",
    "executionInfo": {
     "elapsed": 903,
     "status": "ok",
     "timestamp": 1557730344440,
     "user": {
      "displayName": "Hai Minh Do",
      "photoUrl": "https://lh6.googleusercontent.com/-ZUlR9wP4IpA/AAAAAAAAAAI/AAAAAAAAAAc/F2ZaIjf8WSY/s64/photo.jpg",
      "userId": "12822549848477954436"
     },
     "user_tz": -420
    },
    "id": "C-nKGOA-9nPY",
    "outputId": "aec97134-7384-4d96-b836-e8c8ee33502a"
   },
   "outputs": [
    {
     "data": {
      "text/html": [
       "<div>\n",
       "<style scoped>\n",
       "    .dataframe tbody tr th:only-of-type {\n",
       "        vertical-align: middle;\n",
       "    }\n",
       "\n",
       "    .dataframe tbody tr th {\n",
       "        vertical-align: top;\n",
       "    }\n",
       "\n",
       "    .dataframe thead th {\n",
       "        text-align: right;\n",
       "    }\n",
       "</style>\n",
       "<table border=\"1\" class=\"dataframe\">\n",
       "  <thead>\n",
       "    <tr style=\"text-align: right;\">\n",
       "      <th></th>\n",
       "      <th>BasePay</th>\n",
       "      <th>Benefits</th>\n",
       "      <th>OvertimePay</th>\n",
       "    </tr>\n",
       "    <tr>\n",
       "      <th>JobTitle</th>\n",
       "      <th></th>\n",
       "      <th></th>\n",
       "      <th></th>\n",
       "    </tr>\n",
       "  </thead>\n",
       "  <tbody>\n",
       "    <tr>\n",
       "      <th>Police Officer 3</th>\n",
       "      <td>108508.662621</td>\n",
       "      <td>32829.713693</td>\n",
       "      <td>16418.062615</td>\n",
       "    </tr>\n",
       "    <tr>\n",
       "      <th>Public Svc Aide-Public Works</th>\n",
       "      <td>8091.876070</td>\n",
       "      <td>1379.748050</td>\n",
       "      <td>60.017744</td>\n",
       "    </tr>\n",
       "    <tr>\n",
       "      <th>Registered Nurse</th>\n",
       "      <td>102650.396486</td>\n",
       "      <td>35950.834170</td>\n",
       "      <td>4204.840575</td>\n",
       "    </tr>\n",
       "    <tr>\n",
       "      <th>Special Nurse</th>\n",
       "      <td>29929.166718</td>\n",
       "      <td>3210.342240</td>\n",
       "      <td>651.723372</td>\n",
       "    </tr>\n",
       "    <tr>\n",
       "      <th>Transit Operator</th>\n",
       "      <td>51772.154465</td>\n",
       "      <td>27355.597533</td>\n",
       "      <td>11143.260866</td>\n",
       "    </tr>\n",
       "  </tbody>\n",
       "</table>\n",
       "</div>"
      ],
      "text/plain": [
       "                                    BasePay      Benefits   OvertimePay\n",
       "JobTitle                                                               \n",
       "Police Officer 3              108508.662621  32829.713693  16418.062615\n",
       "Public Svc Aide-Public Works    8091.876070   1379.748050     60.017744\n",
       "Registered Nurse              102650.396486  35950.834170   4204.840575\n",
       "Special Nurse                  29929.166718   3210.342240    651.723372\n",
       "Transit Operator               51772.154465  27355.597533  11143.260866"
      ]
     },
     "execution_count": 39,
     "metadata": {
      "tags": []
     },
     "output_type": "execute_result"
    }
   ],
   "source": [
    "sal[sal['JobTitle'].isin(top_5)].groupby('JobTitle').mean()[['BasePay', 'Benefits', 'OvertimePay']]"
   ]
  },
  {
   "cell_type": "code",
   "execution_count": 0,
   "metadata": {
    "colab": {
     "base_uri": "https://localhost:8080/",
     "height": 286
    },
    "colab_type": "code",
    "executionInfo": {
     "elapsed": 2169,
     "status": "ok",
     "timestamp": 1557730370757,
     "user": {
      "displayName": "Hai Minh Do",
      "photoUrl": "https://lh6.googleusercontent.com/-ZUlR9wP4IpA/AAAAAAAAAAI/AAAAAAAAAAc/F2ZaIjf8WSY/s64/photo.jpg",
      "userId": "12822549848477954436"
     },
     "user_tz": -420
    },
    "id": "VZZqzU9r9uld",
    "outputId": "dd6b2c41-e32b-4327-8d4c-da35f244ca69"
   },
   "outputs": [
    {
     "data": {
      "text/plain": [
       "<matplotlib.axes._subplots.AxesSubplot at 0x7f94a0f73d68>"
      ]
     },
     "execution_count": 40,
     "metadata": {
      "tags": []
     },
     "output_type": "execute_result"
    },
    {
     "data": {
      "image/png": "[encoded data removed]",
      "text/plain": [
       "<Figure size 432x288 with 1 Axes>"
      ]
     },
     "metadata": {
      "tags": []
     },
     "output_type": "display_data"
    }
   ],
   "source": [
    "sal[sal['JobTitle'].isin(top_5)].groupby('JobTitle').mean()[['BasePay', 'Benefits', 'OvertimePay']].plot(kind='barh')"
   ]
  },
  {
   "cell_type": "markdown",
   "metadata": {
    "colab_type": "text",
    "id": "V2Lz3SGu9nPc"
   },
   "source": [
    "**Fun Fact: Is there a correlation between length of the Job Title string and Salary?**\n",
    "\n",
    "*Hint: corr()*"
   ]
  },
  {
   "cell_type": "code",
   "execution_count": 0,
   "metadata": {
    "colab": {
     "base_uri": "https://localhost:8080/",
     "height": 107
    },
    "colab_type": "code",
    "executionInfo": {
     "elapsed": 777,
     "status": "ok",
     "timestamp": 1557752994388,
     "user": {
      "displayName": "Hai Minh Do",
      "photoUrl": "https://lh6.googleusercontent.com/-ZUlR9wP4IpA/AAAAAAAAAAI/AAAAAAAAAAc/F2ZaIjf8WSY/s64/photo.jpg",
      "userId": "12822549848477954436"
     },
     "user_tz": -420
    },
    "id": "CgcrtPdJ9nPd",
    "outputId": "6351329d-d6f7-4a66-ad60-6749add4f1a6"
   },
   "outputs": [
    {
     "data": {
      "text/html": [
       "<div>\n",
       "<style scoped>\n",
       "    .dataframe tbody tr th:only-of-type {\n",
       "        vertical-align: middle;\n",
       "    }\n",
       "\n",
       "    .dataframe tbody tr th {\n",
       "        vertical-align: top;\n",
       "    }\n",
       "\n",
       "    .dataframe thead th {\n",
       "        text-align: right;\n",
       "    }\n",
       "</style>\n",
       "<table border=\"1\" class=\"dataframe\">\n",
       "  <thead>\n",
       "    <tr style=\"text-align: right;\">\n",
       "      <th></th>\n",
       "      <th>JobTitleLength</th>\n",
       "      <th>TotalPayBenefits</th>\n",
       "    </tr>\n",
       "  </thead>\n",
       "  <tbody>\n",
       "    <tr>\n",
       "      <th>JobTitleLength</th>\n",
       "      <td>1.000000</td>\n",
       "      <td>-0.036878</td>\n",
       "    </tr>\n",
       "    <tr>\n",
       "      <th>TotalPayBenefits</th>\n",
       "      <td>-0.036878</td>\n",
       "      <td>1.000000</td>\n",
       "    </tr>\n",
       "  </tbody>\n",
       "</table>\n",
       "</div>"
      ],
      "text/plain": [
       "                  JobTitleLength  TotalPayBenefits\n",
       "JobTitleLength          1.000000         -0.036878\n",
       "TotalPayBenefits       -0.036878          1.000000"
      ]
     },
     "execution_count": 119,
     "metadata": {
      "tags": []
     },
     "output_type": "execute_result"
    }
   ],
   "source": [
    "sal['JobTitleLength'] = sal['JobTitle'].apply(len)\n",
    "sal[['JobTitleLength', 'TotalPayBenefits']].corr()"
   ]
  },
  {
   "cell_type": "code",
   "execution_count": 0,
   "metadata": {
    "colab": {
     "base_uri": "https://localhost:8080/",
     "height": 304
    },
    "colab_type": "code",
    "executionInfo": {
     "elapsed": 1318,
     "status": "ok",
     "timestamp": 1557753231933,
     "user": {
      "displayName": "Hai Minh Do",
      "photoUrl": "https://lh6.googleusercontent.com/-ZUlR9wP4IpA/AAAAAAAAAAI/AAAAAAAAAAc/F2ZaIjf8WSY/s64/photo.jpg",
      "userId": "12822549848477954436"
     },
     "user_tz": -420
    },
    "id": "QVvuzHV9UuHb",
    "outputId": "4cefedc2-b831-423f-8b49-fd435963e530"
   },
   "outputs": [
    {
     "data": {
      "image/png": "[encoded data removed]",
      "text/plain": [
       "<Figure size 432x288 with 1 Axes>"
      ]
     },
     "metadata": {
      "tags": []
     },
     "output_type": "display_data"
    }
   ],
   "source": [
    "sal[sal['JobTitle'].isin(top_5)].groupby('JobTitle').mean()[['BasePay', 'Benefits', 'OvertimePay']].plot(kind='barh')\n",
    "\n",
    "plt.title('Top 5 Jobs', fontsize=20, color='DarkBlue',\n",
    "         fontname='Console')\n",
    "plt.ylabel('Job Title', fontsize=15, color=\"Red\")\n",
    "plt.xlabel('Frequency', fontsize=15, color=\"Green\")\n",
    "plt.yticks(fontsize=10)\n",
    "plt.xticks(fontsize=10)\n",
    "plt.legend(frameon=True, fancybox=True, shadow=True, framealpha=1, \n",
    "           prop={'size':10})\n",
    "plt.show()"
   ]
  },
  {
   "cell_type": "code",
   "execution_count": 0,
   "metadata": {
    "colab": {
     "base_uri": "https://localhost:8080/",
     "height": 325
    },
    "colab_type": "code",
    "executionInfo": {
     "elapsed": 1032,
     "status": "ok",
     "timestamp": 1557731550091,
     "user": {
      "displayName": "Hai Minh Do",
      "photoUrl": "https://lh6.googleusercontent.com/-ZUlR9wP4IpA/AAAAAAAAAAI/AAAAAAAAAAc/F2ZaIjf8WSY/s64/photo.jpg",
      "userId": "12822549848477954436"
     },
     "user_tz": -420
    },
    "id": "G8SQ0NhI9nPe",
    "outputId": "30d4d9c7-8f79-4c0d-d080-a7c35924a1e9"
   },
   "outputs": [
    {
     "data": {
      "text/plain": [
       "<Figure size 1440x1008 with 0 Axes>"
      ]
     },
     "metadata": {
      "tags": []
     },
     "output_type": "display_data"
    },
    {
     "data": {
      "image/png": "[encoded data removed]",
      "text/plain": [
       "<Figure size 432x288 with 1 Axes>"
      ]
     },
     "metadata": {
      "tags": []
     },
     "output_type": "display_data"
    }
   ],
   "source": [
    "sns.set_style('whitegrid')\n",
    "\n",
    "plt.figure(figsize=(20, 14))\n",
    "\n",
    "sal[sal['JobTitle'].isin(top_5)].groupby('JobTitle').mean()[['BasePay', 'Benefits', 'OvertimePay']].plot(kind='barh')\n",
    "\n",
    "plt.title('Top 5 common Job Titles', fontsize=20, color='DarkBlue',\n",
    "         fontname='Console')\n",
    "plt.ylabel('Job Title', fontsize=15, color=\"Red\")\n",
    "plt.xlabel('Frequency', fontsize=15, color=\"Green\")\n",
    "plt.yticks(fontsize=12)\n",
    "plt.xticks(fontsize=12)\n",
    "plt.legend(frameon=True, fancybox=True, shadow=True, framealpha=1, \n",
    "           prop={'size':10})\n",
    "plt.show()"
   ]
  },
  {
   "cell_type": "code",
   "execution_count": 0,
   "metadata": {
    "colab": {
     "base_uri": "https://localhost:8080/",
     "height": 524
    },
    "colab_type": "code",
    "executionInfo": {
     "elapsed": 1881,
     "status": "ok",
     "timestamp": 1557753402193,
     "user": {
      "displayName": "Hai Minh Do",
      "photoUrl": "https://lh6.googleusercontent.com/-ZUlR9wP4IpA/AAAAAAAAAAI/AAAAAAAAAAc/F2ZaIjf8WSY/s64/photo.jpg",
      "userId": "12822549848477954436"
     },
     "user_tz": -420
    },
    "id": "LVKIhvbTCa-U",
    "outputId": "c5ec96e1-1320-4ca5-a97e-ef8c1c318e18"
   },
   "outputs": [
    {
     "data": {
      "image/png": "[encoded data removed]",
      "text/plain": [
       "<Figure size 864x432 with 2 Axes>"
      ]
     },
     "metadata": {
      "tags": []
     },
     "output_type": "display_data"
    }
   ],
   "source": [
    "f, axes = plt.subplots(1, 2, figsize=(12, 6))\n",
    "\n",
    "sal[sal['JobTitle'].isin(top_5)].groupby('JobTitle').mean()[['BasePay', 'Benefits', 'OvertimePay']].plot(kind='bar', ax=axes[0])\n",
    "sns.countplot(x='Year', data=sal, ax=axes[1])\n",
    "\n",
    "plt.show()"
   ]
  },
  {
   "cell_type": "code",
   "execution_count": 0,
   "metadata": {
    "colab": {
     "base_uri": "https://localhost:8080/",
     "height": 901
    },
    "colab_type": "code",
    "executionInfo": {
     "elapsed": 2085,
     "status": "ok",
     "timestamp": 1557740111818,
     "user": {
      "displayName": "Hai Minh Do",
      "photoUrl": "https://lh6.googleusercontent.com/-ZUlR9wP4IpA/AAAAAAAAAAI/AAAAAAAAAAc/F2ZaIjf8WSY/s64/photo.jpg",
      "userId": "12822549848477954436"
     },
     "user_tz": -420
    },
    "id": "sykUv5DzC5Xg",
    "outputId": "abff7588-2ef7-4f04-95bd-224b5b25268c"
   },
   "outputs": [
    {
     "data": {
      "image/png": "[encoded data removed]",
      "text/plain": [
       "<Figure size 1080x1080 with 4 Axes>"
      ]
     },
     "metadata": {
      "tags": []
     },
     "output_type": "display_data"
    }
   ],
   "source": [
    "sns.set_style('whitegrid')\n",
    "f, axes = plt.subplots(2, 2, figsize=(15, 15))\n",
    "\n",
    "# plot 0, 0\n",
    "k1 = sal[sal['JobTitle'].isin(top_5)].groupby('JobTitle').mean()[['BasePay', 'Benefits', 'OvertimePay']].plot(kind='barh', ax=axes[0, 0])\n",
    "\n",
    "# plot 0, 1\n",
    "k2 = sns.countplot(x='Year', data=sal, ax=axes[0, 1])\n",
    "\n",
    "\n",
    "k3 = sns.distplot(sal[sal['Year']==2011]['BasePay'], hist=False, label='2011', ax=axes[1, 0])\n",
    "k4 = sns.distplot(sal[sal['Year']==2012]['BasePay'], hist=False, label='2012', ax=axes[1, 1])\n",
    "\n",
    "\n",
    "plt.show()"
   ]
  },
  {
   "cell_type": "code",
   "execution_count": 0,
   "metadata": {
    "colab": {},
    "colab_type": "code",
    "id": "CutD-_IBi6OO"
   },
   "outputs": [],
   "source": []
  },
  {
   "cell_type": "code",
   "execution_count": 0,
   "metadata": {
    "colab": {},
    "colab_type": "code",
    "id": "gE4l9VcxjBZQ"
   },
   "outputs": [],
   "source": [
    "\n"
   ]
  },
  {
   "cell_type": "markdown",
   "metadata": {
    "colab_type": "text",
    "id": "gY4kMupD9nPg"
   },
   "source": [
    "# Great Job!"
   ]
  }
 ],
 "metadata": {
  "colab": {
   "name": "DAwP_Assignment_2_Solution.ipynb",
   "provenance": [],
   "version": "0.3.2"
  },
  "kernelspec": {
   "display_name": "Python 3",
   "language": "python",
   "name": "python3"
  },
  "language_info": {
   "codemirror_mode": {
    "name": "ipython",
    "version": 3
   },
   "file_extension": ".py",
   "mimetype": "text/x-python",
   "name": "python",
   "nbconvert_exporter": "python",
   "pygments_lexer": "ipython3",
   "version": "3.7.3"
  }
 },
 "nbformat": 4,
 "nbformat_minor": 1
}
